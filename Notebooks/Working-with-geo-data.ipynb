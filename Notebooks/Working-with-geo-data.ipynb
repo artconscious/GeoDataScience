{
 "cells": [
  {
   "cell_type": "markdown",
   "id": "a0364835",
   "metadata": {
    "slideshow": {
     "slide_type": "slide"
    }
   },
   "source": [
    "# Working with geo data and locations"
   ]
  },
  {
   "cell_type": "markdown",
   "id": "c7fcba49",
   "metadata": {
    "slideshow": {
     "slide_type": "fragment"
    }
   },
   "source": [
    "## Date: 2023-06-13\n",
    "## Host: Rene Meissner\n",
    "* **Group Data Platform Lead** in Group Data & Analytics\n",
    "* UNIQA for 7 years (first EA Data, since 2022 at GDA) \n",
    "* Working with big data from begin on (1997)\n",
    "* Projects and personally interested in geo and location data (GPS, OSM, Ingress) and high performance computing\n",
    "\n",
    "## Sources: [GeoDataScience@github](https://github.com/artconscious/GeoDataScience)"
   ]
  },
  {
   "cell_type": "markdown",
   "id": "5d574519",
   "metadata": {
    "slideshow": {
     "slide_type": "slide"
    }
   },
   "source": [
    "## Agenda\n",
    "* <a href=\"#/2\"> Geo in Insurances </a>\n",
    "* <a href=\"#/3\"> Maps </a>\n",
    "* <a href=\"#/4\"> Geographice Information Systems </a>\n",
    "* <a href=\"#/5\"> Projections </a>\n",
    "* <a href=\"#/6\"> Satellites </a>\n",
    "* <a href=\"#/7\"> Coordinates </a>\n",
    "* <a href=\"#/8\"> Typical tasks</a>\n",
    "* <a href=\"#/9\"> Dive into location with python </a>\n",
    "* <a href=\"#/10\"> Geohash </a>\n",
    "<-- ### <a href=\"#/11\"> Geohash </a> -->\n",
    "* <a href=\"#/12\"> Maps: folium </a>\n",
    "* <a href=\"#/13\"> Heatmaps </a>\n"
   ]
  },
  {
   "cell_type": "markdown",
   "id": "197af20a",
   "metadata": {
    "slideshow": {
     "slide_type": "notes"
    }
   },
   "source": [
    "Slide 2"
   ]
  },
  {
   "cell_type": "markdown",
   "id": "4ec352c7",
   "metadata": {
    "slideshow": {
     "slide_type": "slide"
    }
   },
   "source": [
    "## A Perfect Match:\n",
    "# Geo Reference Data and Insurance Business\n",
    "\n",
    "* Policing and underwriting\n",
    "* Market research, penetration \n",
    "* Risk calculation\n",
    "* Claims handling\n",
    "* Market projections\n",
    "* …"
   ]
  },
  {
   "cell_type": "markdown",
   "id": "a847bd62",
   "metadata": {
    "slideshow": {
     "slide_type": "notes"
    }
   },
   "source": [
    "Slide 3"
   ]
  },
  {
   "cell_type": "markdown",
   "id": "3e692140",
   "metadata": {
    "slideshow": {
     "slide_type": "slide"
    }
   },
   "source": [
    "## First Things First: ALL THE MAPPPS!!!"
   ]
  },
  {
   "cell_type": "code",
   "execution_count": 2,
   "id": "1a18c564",
   "metadata": {
    "slideshow": {
     "slide_type": "fragment"
    }
   },
   "outputs": [
    {
     "data": {
      "text/html": [
       "<div style=\"width:100%;\"><div style=\"position:relative;width:100%;height:0;padding-bottom:60%;\"><span style=\"color:#565656\">Make this Notebook Trusted to load map: File -> Trust Notebook</span><iframe srcdoc=\"&lt;!DOCTYPE html&gt;\n",
       "&lt;html&gt;\n",
       "&lt;head&gt;\n",
       "    \n",
       "    &lt;meta http-equiv=&quot;content-type&quot; content=&quot;text/html; charset=UTF-8&quot; /&gt;\n",
       "    \n",
       "        &lt;script&gt;\n",
       "            L_NO_TOUCH = false;\n",
       "            L_DISABLE_3D = false;\n",
       "        &lt;/script&gt;\n",
       "    \n",
       "    &lt;style&gt;html, body {width: 100%;height: 100%;margin: 0;padding: 0;}&lt;/style&gt;\n",
       "    &lt;style&gt;#map {position:absolute;top:0;bottom:0;right:0;left:0;}&lt;/style&gt;\n",
       "    &lt;script src=&quot;https://cdn.jsdelivr.net/npm/leaflet@1.9.3/dist/leaflet.js&quot;&gt;&lt;/script&gt;\n",
       "    &lt;script src=&quot;https://code.jquery.com/jquery-1.12.4.min.js&quot;&gt;&lt;/script&gt;\n",
       "    &lt;script src=&quot;https://cdn.jsdelivr.net/npm/bootstrap@5.2.2/dist/js/bootstrap.bundle.min.js&quot;&gt;&lt;/script&gt;\n",
       "    &lt;script src=&quot;https://cdnjs.cloudflare.com/ajax/libs/Leaflet.awesome-markers/2.0.2/leaflet.awesome-markers.js&quot;&gt;&lt;/script&gt;\n",
       "    &lt;link rel=&quot;stylesheet&quot; href=&quot;https://cdn.jsdelivr.net/npm/leaflet@1.9.3/dist/leaflet.css&quot;/&gt;\n",
       "    &lt;link rel=&quot;stylesheet&quot; href=&quot;https://cdn.jsdelivr.net/npm/bootstrap@5.2.2/dist/css/bootstrap.min.css&quot;/&gt;\n",
       "    &lt;link rel=&quot;stylesheet&quot; href=&quot;https://netdna.bootstrapcdn.com/bootstrap/3.0.0/css/bootstrap.min.css&quot;/&gt;\n",
       "    &lt;link rel=&quot;stylesheet&quot; href=&quot;https://cdn.jsdelivr.net/npm/@fortawesome/fontawesome-free@6.2.0/css/all.min.css&quot;/&gt;\n",
       "    &lt;link rel=&quot;stylesheet&quot; href=&quot;https://cdnjs.cloudflare.com/ajax/libs/Leaflet.awesome-markers/2.0.2/leaflet.awesome-markers.css&quot;/&gt;\n",
       "    &lt;link rel=&quot;stylesheet&quot; href=&quot;https://cdn.jsdelivr.net/gh/python-visualization/folium/folium/templates/leaflet.awesome.rotate.min.css&quot;/&gt;\n",
       "    \n",
       "            &lt;meta name=&quot;viewport&quot; content=&quot;width=device-width,\n",
       "                initial-scale=1.0, maximum-scale=1.0, user-scalable=no&quot; /&gt;\n",
       "            &lt;style&gt;\n",
       "                #map_5d70fe7ab1c386d9e0f2647ba8bab579 {\n",
       "                    position: relative;\n",
       "                    width: 100.0%;\n",
       "                    height: 100.0%;\n",
       "                    left: 0.0%;\n",
       "                    top: 0.0%;\n",
       "                }\n",
       "                .leaflet-container { font-size: 1rem; }\n",
       "            &lt;/style&gt;\n",
       "        \n",
       "&lt;/head&gt;\n",
       "&lt;body&gt;\n",
       "    \n",
       "    \n",
       "            &lt;div class=&quot;folium-map&quot; id=&quot;map_5d70fe7ab1c386d9e0f2647ba8bab579&quot; &gt;&lt;/div&gt;\n",
       "        \n",
       "&lt;/body&gt;\n",
       "&lt;script&gt;\n",
       "    \n",
       "    \n",
       "            var map_5d70fe7ab1c386d9e0f2647ba8bab579 = L.map(\n",
       "                &quot;map_5d70fe7ab1c386d9e0f2647ba8bab579&quot;,\n",
       "                {\n",
       "                    center: [48.208174, 16.373819],\n",
       "                    crs: L.CRS.EPSG3857,\n",
       "                    zoom: 10,\n",
       "                    zoomControl: true,\n",
       "                    preferCanvas: false,\n",
       "                }\n",
       "            );\n",
       "\n",
       "            \n",
       "\n",
       "        \n",
       "    \n",
       "            var tile_layer_a4aaecb3a207c7aa6a592e4b48598339 = L.tileLayer(\n",
       "                &quot;https://{s}.tile.openstreetmap.org/{z}/{x}/{y}.png&quot;,\n",
       "                {&quot;attribution&quot;: &quot;Data by \\u0026copy; \\u003ca target=\\&quot;_blank\\&quot; href=\\&quot;http://openstreetmap.org\\&quot;\\u003eOpenStreetMap\\u003c/a\\u003e, under \\u003ca target=\\&quot;_blank\\&quot; href=\\&quot;http://www.openstreetmap.org/copyright\\&quot;\\u003eODbL\\u003c/a\\u003e.&quot;, &quot;detectRetina&quot;: false, &quot;maxNativeZoom&quot;: 18, &quot;maxZoom&quot;: 18, &quot;minZoom&quot;: 0, &quot;noWrap&quot;: false, &quot;opacity&quot;: 1, &quot;subdomains&quot;: &quot;abc&quot;, &quot;tms&quot;: false}\n",
       "            ).addTo(map_5d70fe7ab1c386d9e0f2647ba8bab579);\n",
       "        \n",
       "&lt;/script&gt;\n",
       "&lt;/html&gt;\" style=\"position:absolute;width:100%;height:100%;left:0;top:0;border:none !important;\" allowfullscreen webkitallowfullscreen mozallowfullscreen></iframe></div></div>"
      ],
      "text/plain": [
       "<folium.folium.Map at 0x7fa37fa26190>"
      ]
     },
     "execution_count": 2,
     "metadata": {},
     "output_type": "execute_result"
    }
   ],
   "source": [
    "import folium\n",
    "m = folium.Map(location=[48.208174, 16.373819])\n",
    "m"
   ]
  },
  {
   "cell_type": "markdown",
   "id": "a6c4d1bc",
   "metadata": {
    "slideshow": {
     "slide_type": "notes"
    }
   },
   "source": [
    "Slide 4"
   ]
  },
  {
   "cell_type": "markdown",
   "id": "5dea2bd8",
   "metadata": {
    "slideshow": {
     "slide_type": "slide"
    }
   },
   "source": [
    "### Basics:\n",
    "## Geographical Information System(s): GIS\n",
    "Here you manage all your geo data, design your maps, and do your analysis (if you deal with geo data at least half the day) \n",
    "\n",
    "### Two market player:\n",
    "#### ArcGis: powerful and expensive\n",
    "#### QGIS: also powerful but open source"
   ]
  },
  {
   "cell_type": "markdown",
   "id": "c9cf562f",
   "metadata": {
    "slideshow": {
     "slide_type": "notes"
    }
   },
   "source": [
    "Slide 5"
   ]
  },
  {
   "cell_type": "markdown",
   "id": "dc4bb5a3",
   "metadata": {
    "slideshow": {
     "slide_type": "slide"
    }
   },
   "source": [
    "## Projections: How spherical locations are mapped on an 2D coordinate system\n",
    "### * It depends on your country based on the North/South and East/West extention  \n",
    "### * In the EU often Gauss-Krüger in different flavours is used \n",
    "### * ALWAYS make use of WGS84   \n",
    "### * For all programming languages you'll find transformation libraries\n",
    "### * There is a continental drift in Europe: ~0.025m per year"
   ]
  },
  {
   "cell_type": "markdown",
   "id": "ba6d4680",
   "metadata": {
    "slideshow": {
     "slide_type": "notes"
    }
   },
   "source": [
    "Slide 6"
   ]
  },
  {
   "cell_type": "markdown",
   "id": "2a277a81",
   "metadata": {
    "slideshow": {
     "slide_type": "slide"
    }
   },
   "source": [
    "## Satellites \n",
    "### GNSS: Global Positioning System(GPS), Gallileo, Baidu, Glonass, …\n",
    "### * Based on at least three satellites a receiver calculates the position on the groud\n",
    "### * Pure GNSS coldstart is around 20min\n",
    "### * The more sats, the higher the accuracy\n",
    "![title](img/ConstellationGPS.gif)"
   ]
  },
  {
   "cell_type": "markdown",
   "id": "8815e26c",
   "metadata": {
    "slideshow": {
     "slide_type": "notes"
    }
   },
   "source": [
    "Slide 7"
   ]
  },
  {
   "cell_type": "markdown",
   "id": "49d87d28",
   "metadata": {
    "slideshow": {
     "slide_type": "slide"
    }
   },
   "source": [
    "## Coordinates: Latitude, Longitude, Altitude (WGS84)\n",
    "### *  You can imagine the earth as an spherical X/Y coordinate system\n",
    "### *  X is the Longitude (Greenwich = 0.0, East direction is positive, West directions are negative, max is 180.0/-180.0)\n",
    "### *  Y is the Latitude (Equator = 0.0, North direction is positive, South negative, max is 90.0/-90.0)\n",
    "### *  Notations can be Degrees, Minutes, Seconds (DMS: 48° 12' 29.426\" N 16° 22' 25.748\" E) vs. Decimal Degree (DD i.e. 48.208174, 16.373819) "
   ]
  },
  {
   "cell_type": "markdown",
   "id": "c5a26a9a",
   "metadata": {
    "slideshow": {
     "slide_type": "notes"
    }
   },
   "source": [
    "Slide 8"
   ]
  },
  {
   "cell_type": "markdown",
   "id": "1430c347",
   "metadata": {
    "slideshow": {
     "slide_type": "slide"
    }
   },
   "source": [
    "## Working with geo data (using Python)\n",
    "### What are the typical tasks you have to deal with when it comes to geo data?\n",
    "#### * Get an address from a location\n",
    "#### * Get a location from an address\n",
    "#### * Give me all clients/prospects in a specific area\n",
    "#### * Based on this client/prospect list, give me geo reference data (i.e. flood risk, demographic, etc.)\n",
    "#### * Find a route between these addresses (travelling salesman problem)\n",
    "#### * What is the are/what type of surface based on these coordinates?\n",
    "#### * …\n"
   ]
  },
  {
   "cell_type": "markdown",
   "id": "47e2d440",
   "metadata": {
    "slideshow": {
     "slide_type": "notes"
    }
   },
   "source": [
    "Slide 9"
   ]
  },
  {
   "cell_type": "markdown",
   "id": "9cc9ad6b",
   "metadata": {
    "slideshow": {
     "slide_type": "slide"
    }
   },
   "source": [
    "## Working with geo data (using Python)\n",
    "### * Locations can be represented simply as a list of two (or three) floats, in many cases "
   ]
  },
  {
   "cell_type": "code",
   "execution_count": 3,
   "id": "be4b39ee",
   "metadata": {},
   "outputs": [
    {
     "data": {
      "text/html": [
       "<div>\n",
       "<style scoped>\n",
       "    .dataframe tbody tr th:only-of-type {\n",
       "        vertical-align: middle;\n",
       "    }\n",
       "\n",
       "    .dataframe tbody tr th {\n",
       "        vertical-align: top;\n",
       "    }\n",
       "\n",
       "    .dataframe thead th {\n",
       "        text-align: right;\n",
       "    }\n",
       "</style>\n",
       "<table border=\"1\" class=\"dataframe\">\n",
       "  <thead>\n",
       "    <tr style=\"text-align: right;\">\n",
       "      <th></th>\n",
       "      <th>ID</th>\n",
       "      <th>LAT</th>\n",
       "      <th>LON</th>\n",
       "      <th>EURO_PK</th>\n",
       "      <th>IDX_AT_PK</th>\n",
       "    </tr>\n",
       "  </thead>\n",
       "  <tbody>\n",
       "    <tr>\n",
       "      <th>0</th>\n",
       "      <td>250mN280400E479275</td>\n",
       "      <td>48.167946</td>\n",
       "      <td>16.349755</td>\n",
       "      <td>1660.190476</td>\n",
       "      <td>100.696290</td>\n",
       "    </tr>\n",
       "    <tr>\n",
       "      <th>1</th>\n",
       "      <td>250mN280425E479275</td>\n",
       "      <td>48.170186</td>\n",
       "      <td>16.350036</td>\n",
       "      <td>1574.405494</td>\n",
       "      <td>95.493134</td>\n",
       "    </tr>\n",
       "    <tr>\n",
       "      <th>2</th>\n",
       "      <td>250mN280375E479300</td>\n",
       "      <td>48.165513</td>\n",
       "      <td>16.352823</td>\n",
       "      <td>1704.590909</td>\n",
       "      <td>103.389329</td>\n",
       "    </tr>\n",
       "    <tr>\n",
       "      <th>3</th>\n",
       "      <td>250mN280400E479300</td>\n",
       "      <td>48.167753</td>\n",
       "      <td>16.353104</td>\n",
       "      <td>1697.578260</td>\n",
       "      <td>102.963988</td>\n",
       "    </tr>\n",
       "    <tr>\n",
       "      <th>4</th>\n",
       "      <td>250mN280375E479325</td>\n",
       "      <td>48.165319</td>\n",
       "      <td>16.356172</td>\n",
       "      <td>1544.832599</td>\n",
       "      <td>93.699436</td>\n",
       "    </tr>\n",
       "    <tr>\n",
       "      <th>5</th>\n",
       "      <td>250mN280400E479325</td>\n",
       "      <td>48.167559</td>\n",
       "      <td>16.356453</td>\n",
       "      <td>1463.046403</td>\n",
       "      <td>88.738820</td>\n",
       "    </tr>\n",
       "    <tr>\n",
       "      <th>6</th>\n",
       "      <td>250mN280425E479300</td>\n",
       "      <td>48.169992</td>\n",
       "      <td>16.353386</td>\n",
       "      <td>1510.522561</td>\n",
       "      <td>91.618413</td>\n",
       "    </tr>\n",
       "    <tr>\n",
       "      <th>7</th>\n",
       "      <td>250mN280450E479300</td>\n",
       "      <td>48.172232</td>\n",
       "      <td>16.353667</td>\n",
       "      <td>1553.287899</td>\n",
       "      <td>94.212279</td>\n",
       "    </tr>\n",
       "    <tr>\n",
       "      <th>8</th>\n",
       "      <td>250mN280425E479325</td>\n",
       "      <td>48.169799</td>\n",
       "      <td>16.356735</td>\n",
       "      <td>1543.557863</td>\n",
       "      <td>93.622119</td>\n",
       "    </tr>\n",
       "    <tr>\n",
       "      <th>9</th>\n",
       "      <td>250mN280450E479325</td>\n",
       "      <td>48.172039</td>\n",
       "      <td>16.357017</td>\n",
       "      <td>1562.110684</td>\n",
       "      <td>94.747411</td>\n",
       "    </tr>\n",
       "  </tbody>\n",
       "</table>\n",
       "</div>"
      ],
      "text/plain": [
       "                   ID        LAT        LON      EURO_PK   IDX_AT_PK\n",
       "0  250mN280400E479275  48.167946  16.349755  1660.190476  100.696290\n",
       "1  250mN280425E479275  48.170186  16.350036  1574.405494   95.493134\n",
       "2  250mN280375E479300  48.165513  16.352823  1704.590909  103.389329\n",
       "3  250mN280400E479300  48.167753  16.353104  1697.578260  102.963988\n",
       "4  250mN280375E479325  48.165319  16.356172  1544.832599   93.699436\n",
       "5  250mN280400E479325  48.167559  16.356453  1463.046403   88.738820\n",
       "6  250mN280425E479300  48.169992  16.353386  1510.522561   91.618413\n",
       "7  250mN280450E479300  48.172232  16.353667  1553.287899   94.212279\n",
       "8  250mN280425E479325  48.169799  16.356735  1543.557863   93.622119\n",
       "9  250mN280450E479325  48.172039  16.357017  1562.110684   94.747411"
      ]
     },
     "execution_count": 3,
     "metadata": {},
     "output_type": "execute_result"
    }
   ],
   "source": [
    "import pandas as pd\n",
    "df = pd.read_csv('../data/raster250-sample.csv')\n",
    "df[['ID','LAT','LON','EURO_PK','IDX_AT_PK']][0:10]"
   ]
  },
  {
   "cell_type": "markdown",
   "id": "e4b1d09d",
   "metadata": {
    "slideshow": {
     "slide_type": "notes"
    }
   },
   "source": [
    "Slide 10"
   ]
  },
  {
   "cell_type": "markdown",
   "id": "d6fc5281",
   "metadata": {
    "slideshow": {
     "slide_type": "slide"
    }
   },
   "source": [
    "## But!\n",
    "### * In tabular and relational representation, two columns of floats are hard to handle\n",
    "### * \"Find neighbors\", \"compare locations\", \"are these two areas are overlapping\" are expensive both in development and computation\n",
    "## Introducing Geohash"
   ]
  },
  {
   "cell_type": "code",
   "execution_count": 19,
   "id": "669a22de",
   "metadata": {
    "slideshow": {
     "slide_type": "notes"
    }
   },
   "outputs": [
    {
     "name": "stdout",
     "output_type": "stream",
     "text": [
      "Collecting geohash2\n",
      "  Downloading geohash2-1.1.tar.gz (15 kB)\n",
      "  Preparing metadata (setup.py) ... \u001b[?25ldone\n",
      "\u001b[?25hCollecting docutils>=0.3\n",
      "  Downloading docutils-0.20.1-py3-none-any.whl (572 kB)\n",
      "\u001b[2K     \u001b[90m━━━━━━━━━━━━━━━━━━━━━━━━━━━━━━━━━━━━━━━\u001b[0m \u001b[32m572.7/572.7 kB\u001b[0m \u001b[31m2.3 MB/s\u001b[0m eta \u001b[36m0:00:00\u001b[0ma \u001b[36m0:00:01\u001b[0m\n",
      "\u001b[?25hBuilding wheels for collected packages: geohash2\n",
      "  Building wheel for geohash2 (setup.py) ... \u001b[?25ldone\n",
      "\u001b[?25h  Created wheel for geohash2: filename=geohash2-1.1-py3-none-any.whl size=15543 sha256=953851bb1db19a7d86db625d76b9d9ed77e6f7c8805269f6612f5168d7305047\n",
      "  Stored in directory: /Users/rene/Library/Caches/pip/wheels/f6/7c/c4/1b3c6fea0ebc53bf730dc86bbee7a713d501455dfb4c1f0623\n",
      "Successfully built geohash2\n",
      "Installing collected packages: docutils, geohash2\n",
      "Successfully installed docutils-0.20.1 geohash2-1.1\n"
     ]
    }
   ],
   "source": [
    "!pip install geohash2"
   ]
  },
  {
   "cell_type": "code",
   "execution_count": 4,
   "id": "50a9b765",
   "metadata": {},
   "outputs": [
    {
     "name": "stdout",
     "output_type": "stream",
     "text": [
      "Geohash for 48.078218,16.290442  \n",
      " 4 chars: u2e9 \n",
      " 6 chars: u2e9d8\n"
     ]
    }
   ],
   "source": [
    "import geohash2\n",
    "print ('Geohash for 48.078218,16.290442 ',\n",
    "       '\\n 4 chars:', geohash2.encode(48.078218,16.290442,4),\n",
    "       '\\n 6 chars:', geohash2.encode(48.078218,16.290442,6))"
   ]
  },
  {
   "cell_type": "markdown",
   "id": "d361b22a",
   "metadata": {
    "slideshow": {
     "slide_type": "notes"
    }
   },
   "source": [
    "Slide 11"
   ]
  },
  {
   "cell_type": "markdown",
   "id": "99e027d8",
   "metadata": {
    "slideshow": {
     "slide_type": "slide"
    }
   },
   "source": [
    "## Think about like grouping \n",
    "### * Sorting, matching, and grouping based on strings"
   ]
  },
  {
   "cell_type": "code",
   "execution_count": 5,
   "id": "5baffca0",
   "metadata": {},
   "outputs": [
    {
     "data": {
      "text/html": [
       "<div>\n",
       "<style scoped>\n",
       "    .dataframe tbody tr th:only-of-type {\n",
       "        vertical-align: middle;\n",
       "    }\n",
       "\n",
       "    .dataframe tbody tr th {\n",
       "        vertical-align: top;\n",
       "    }\n",
       "\n",
       "    .dataframe thead th {\n",
       "        text-align: right;\n",
       "    }\n",
       "</style>\n",
       "<table border=\"1\" class=\"dataframe\">\n",
       "  <thead>\n",
       "    <tr style=\"text-align: right;\">\n",
       "      <th></th>\n",
       "      <th>ID</th>\n",
       "      <th>LAT</th>\n",
       "      <th>LON</th>\n",
       "      <th>GEOH6</th>\n",
       "      <th>IDX_AT_PK</th>\n",
       "    </tr>\n",
       "  </thead>\n",
       "  <tbody>\n",
       "    <tr>\n",
       "      <th>0</th>\n",
       "      <td>250mN280400E479275</td>\n",
       "      <td>48.167946</td>\n",
       "      <td>16.349755</td>\n",
       "      <td>u2edh0</td>\n",
       "      <td>100.696290</td>\n",
       "    </tr>\n",
       "    <tr>\n",
       "      <th>2</th>\n",
       "      <td>250mN280375E479300</td>\n",
       "      <td>48.165513</td>\n",
       "      <td>16.352823</td>\n",
       "      <td>u2edh0</td>\n",
       "      <td>103.389329</td>\n",
       "    </tr>\n",
       "    <tr>\n",
       "      <th>3</th>\n",
       "      <td>250mN280400E479300</td>\n",
       "      <td>48.167753</td>\n",
       "      <td>16.353104</td>\n",
       "      <td>u2edh0</td>\n",
       "      <td>102.963988</td>\n",
       "    </tr>\n",
       "    <tr>\n",
       "      <th>4</th>\n",
       "      <td>250mN280375E479325</td>\n",
       "      <td>48.165319</td>\n",
       "      <td>16.356172</td>\n",
       "      <td>u2edh0</td>\n",
       "      <td>93.699436</td>\n",
       "    </tr>\n",
       "    <tr>\n",
       "      <th>5</th>\n",
       "      <td>250mN280400E479325</td>\n",
       "      <td>48.167559</td>\n",
       "      <td>16.356453</td>\n",
       "      <td>u2edh0</td>\n",
       "      <td>88.738820</td>\n",
       "    </tr>\n",
       "    <tr>\n",
       "      <th>13</th>\n",
       "      <td>250mN280475E479325</td>\n",
       "      <td>48.174279</td>\n",
       "      <td>16.357298</td>\n",
       "      <td>u2edh1</td>\n",
       "      <td>97.696048</td>\n",
       "    </tr>\n",
       "    <tr>\n",
       "      <th>12</th>\n",
       "      <td>250mN280475E479300</td>\n",
       "      <td>48.174472</td>\n",
       "      <td>16.353949</td>\n",
       "      <td>u2edh1</td>\n",
       "      <td>94.824149</td>\n",
       "    </tr>\n",
       "    <tr>\n",
       "      <th>10</th>\n",
       "      <td>250mN280475E479275</td>\n",
       "      <td>48.174666</td>\n",
       "      <td>16.350599</td>\n",
       "      <td>u2edh1</td>\n",
       "      <td>95.221514</td>\n",
       "    </tr>\n",
       "    <tr>\n",
       "      <th>9</th>\n",
       "      <td>250mN280450E479325</td>\n",
       "      <td>48.172039</td>\n",
       "      <td>16.357017</td>\n",
       "      <td>u2edh1</td>\n",
       "      <td>94.747411</td>\n",
       "    </tr>\n",
       "    <tr>\n",
       "      <th>7</th>\n",
       "      <td>250mN280450E479300</td>\n",
       "      <td>48.172232</td>\n",
       "      <td>16.353667</td>\n",
       "      <td>u2edh1</td>\n",
       "      <td>94.212279</td>\n",
       "    </tr>\n",
       "  </tbody>\n",
       "</table>\n",
       "</div>"
      ],
      "text/plain": [
       "                    ID        LAT        LON   GEOH6   IDX_AT_PK\n",
       "0   250mN280400E479275  48.167946  16.349755  u2edh0  100.696290\n",
       "2   250mN280375E479300  48.165513  16.352823  u2edh0  103.389329\n",
       "3   250mN280400E479300  48.167753  16.353104  u2edh0  102.963988\n",
       "4   250mN280375E479325  48.165319  16.356172  u2edh0   93.699436\n",
       "5   250mN280400E479325  48.167559  16.356453  u2edh0   88.738820\n",
       "13  250mN280475E479325  48.174279  16.357298  u2edh1   97.696048\n",
       "12  250mN280475E479300  48.174472  16.353949  u2edh1   94.824149\n",
       "10  250mN280475E479275  48.174666  16.350599  u2edh1   95.221514\n",
       "9   250mN280450E479325  48.172039  16.357017  u2edh1   94.747411\n",
       "7   250mN280450E479300  48.172232  16.353667  u2edh1   94.212279"
      ]
     },
     "execution_count": 5,
     "metadata": {},
     "output_type": "execute_result"
    }
   ],
   "source": [
    "import pandas as pd\n",
    "df = pd.read_csv('../data/raster250-sample.csv')\n",
    "df[['ID','LAT','LON','GEOH6','IDX_AT_PK']].sort_values(by=['GEOH6'])[0:10]"
   ]
  },
  {
   "cell_type": "markdown",
   "id": "f5cb662d",
   "metadata": {
    "slideshow": {
     "slide_type": "notes"
    }
   },
   "source": [
    "Slide 12"
   ]
  },
  {
   "cell_type": "markdown",
   "id": "a24a4cdd",
   "metadata": {
    "slideshow": {
     "slide_type": "slide"
    }
   },
   "source": [
    "## Back to the maps\n",
    "* Maps are great, especially if they are interactive – and hard to manage if you need printing versions ;)\n",
    "* Browser-based maps are embeds from an online-service called \"tile map server\"\n",
    "* A framework will do the work for you"
   ]
  },
  {
   "cell_type": "code",
   "execution_count": 6,
   "id": "028e4df7",
   "metadata": {
    "slideshow": {
     "slide_type": "-"
    }
   },
   "outputs": [
    {
     "data": {
      "text/html": [
       "<div style=\"width:100%;\"><div style=\"position:relative;width:100%;height:0;padding-bottom:60%;\"><span style=\"color:#565656\">Make this Notebook Trusted to load map: File -> Trust Notebook</span><iframe srcdoc=\"&lt;!DOCTYPE html&gt;\n",
       "&lt;html&gt;\n",
       "&lt;head&gt;\n",
       "    \n",
       "    &lt;meta http-equiv=&quot;content-type&quot; content=&quot;text/html; charset=UTF-8&quot; /&gt;\n",
       "    \n",
       "        &lt;script&gt;\n",
       "            L_NO_TOUCH = false;\n",
       "            L_DISABLE_3D = false;\n",
       "        &lt;/script&gt;\n",
       "    \n",
       "    &lt;style&gt;html, body {width: 100%;height: 100%;margin: 0;padding: 0;}&lt;/style&gt;\n",
       "    &lt;style&gt;#map {position:absolute;top:0;bottom:0;right:0;left:0;}&lt;/style&gt;\n",
       "    &lt;script src=&quot;https://cdn.jsdelivr.net/npm/leaflet@1.9.3/dist/leaflet.js&quot;&gt;&lt;/script&gt;\n",
       "    &lt;script src=&quot;https://code.jquery.com/jquery-1.12.4.min.js&quot;&gt;&lt;/script&gt;\n",
       "    &lt;script src=&quot;https://cdn.jsdelivr.net/npm/bootstrap@5.2.2/dist/js/bootstrap.bundle.min.js&quot;&gt;&lt;/script&gt;\n",
       "    &lt;script src=&quot;https://cdnjs.cloudflare.com/ajax/libs/Leaflet.awesome-markers/2.0.2/leaflet.awesome-markers.js&quot;&gt;&lt;/script&gt;\n",
       "    &lt;link rel=&quot;stylesheet&quot; href=&quot;https://cdn.jsdelivr.net/npm/leaflet@1.9.3/dist/leaflet.css&quot;/&gt;\n",
       "    &lt;link rel=&quot;stylesheet&quot; href=&quot;https://cdn.jsdelivr.net/npm/bootstrap@5.2.2/dist/css/bootstrap.min.css&quot;/&gt;\n",
       "    &lt;link rel=&quot;stylesheet&quot; href=&quot;https://netdna.bootstrapcdn.com/bootstrap/3.0.0/css/bootstrap.min.css&quot;/&gt;\n",
       "    &lt;link rel=&quot;stylesheet&quot; href=&quot;https://cdn.jsdelivr.net/npm/@fortawesome/fontawesome-free@6.2.0/css/all.min.css&quot;/&gt;\n",
       "    &lt;link rel=&quot;stylesheet&quot; href=&quot;https://cdnjs.cloudflare.com/ajax/libs/Leaflet.awesome-markers/2.0.2/leaflet.awesome-markers.css&quot;/&gt;\n",
       "    &lt;link rel=&quot;stylesheet&quot; href=&quot;https://cdn.jsdelivr.net/gh/python-visualization/folium/folium/templates/leaflet.awesome.rotate.min.css&quot;/&gt;\n",
       "    \n",
       "            &lt;meta name=&quot;viewport&quot; content=&quot;width=device-width,\n",
       "                initial-scale=1.0, maximum-scale=1.0, user-scalable=no&quot; /&gt;\n",
       "            &lt;style&gt;\n",
       "                #map_d511c73435303062d228aa2807549583 {\n",
       "                    position: relative;\n",
       "                    width: 100.0%;\n",
       "                    height: 300.0px;\n",
       "                    left: 0.0%;\n",
       "                    top: 0.0%;\n",
       "                }\n",
       "                .leaflet-container { font-size: 1rem; }\n",
       "            &lt;/style&gt;\n",
       "        \n",
       "&lt;/head&gt;\n",
       "&lt;body&gt;\n",
       "    \n",
       "    \n",
       "            &lt;div class=&quot;folium-map&quot; id=&quot;map_d511c73435303062d228aa2807549583&quot; &gt;&lt;/div&gt;\n",
       "        \n",
       "&lt;/body&gt;\n",
       "&lt;script&gt;\n",
       "    \n",
       "    \n",
       "            var map_d511c73435303062d228aa2807549583 = L.map(\n",
       "                &quot;map_d511c73435303062d228aa2807549583&quot;,\n",
       "                {\n",
       "                    center: [48.167559, 16.356453],\n",
       "                    crs: L.CRS.EPSG3857,\n",
       "                    zoom: 13,\n",
       "                    zoomControl: true,\n",
       "                    preferCanvas: false,\n",
       "                }\n",
       "            );\n",
       "\n",
       "            \n",
       "\n",
       "        \n",
       "    \n",
       "            var tile_layer_d05462d96afe0bccf3097079328454e3 = L.tileLayer(\n",
       "                &quot;https://{s}.tile.openstreetmap.org/{z}/{x}/{y}.png&quot;,\n",
       "                {&quot;attribution&quot;: &quot;Data by \\u0026copy; \\u003ca target=\\&quot;_blank\\&quot; href=\\&quot;http://openstreetmap.org\\&quot;\\u003eOpenStreetMap\\u003c/a\\u003e, under \\u003ca target=\\&quot;_blank\\&quot; href=\\&quot;http://www.openstreetmap.org/copyright\\&quot;\\u003eODbL\\u003c/a\\u003e.&quot;, &quot;detectRetina&quot;: false, &quot;maxNativeZoom&quot;: 18, &quot;maxZoom&quot;: 18, &quot;minZoom&quot;: 0, &quot;noWrap&quot;: false, &quot;opacity&quot;: 1, &quot;subdomains&quot;: &quot;abc&quot;, &quot;tms&quot;: false}\n",
       "            ).addTo(map_d511c73435303062d228aa2807549583);\n",
       "        \n",
       "    \n",
       "            var marker_692bdcac76133e14e8b63e34ae99e72e = L.marker(\n",
       "                [48.167946, 16.349755],\n",
       "                {}\n",
       "            ).addTo(map_d511c73435303062d228aa2807549583);\n",
       "        \n",
       "    \n",
       "            var icon_d698ee2148711669d3c58d477f7a6892 = L.AwesomeMarkers.icon(\n",
       "                {&quot;extraClasses&quot;: &quot;fa-rotate-0&quot;, &quot;icon&quot;: &quot;info-sign&quot;, &quot;iconColor&quot;: &quot;white&quot;, &quot;markerColor&quot;: &quot;blue&quot;, &quot;prefix&quot;: &quot;glyphicon&quot;}\n",
       "            );\n",
       "            marker_692bdcac76133e14e8b63e34ae99e72e.setIcon(icon_d698ee2148711669d3c58d477f7a6892);\n",
       "        \n",
       "    \n",
       "        var popup_bb641a37748ba0462050e59057e35958 = L.popup({&quot;maxWidth&quot;: &quot;100%&quot;});\n",
       "\n",
       "        \n",
       "            \n",
       "                var html_79ba3a3d5fee365032c9c9a3b64ec9bd = $(`&lt;div id=&quot;html_79ba3a3d5fee365032c9c9a3b64ec9bd&quot; style=&quot;width: 100.0%; height: 100.0%;&quot;&gt;Population: 245&lt;/div&gt;`)[0];\n",
       "                popup_bb641a37748ba0462050e59057e35958.setContent(html_79ba3a3d5fee365032c9c9a3b64ec9bd);\n",
       "            \n",
       "        \n",
       "\n",
       "        marker_692bdcac76133e14e8b63e34ae99e72e.bindPopup(popup_bb641a37748ba0462050e59057e35958)\n",
       "        ;\n",
       "\n",
       "        \n",
       "    \n",
       "    \n",
       "            var marker_ec3668803876c345b5b8beb053026d83 = L.marker(\n",
       "                [48.170186, 16.350036],\n",
       "                {}\n",
       "            ).addTo(map_d511c73435303062d228aa2807549583);\n",
       "        \n",
       "    \n",
       "            var icon_1766d1dbaf4d8aaafeed0b20944cd77f = L.AwesomeMarkers.icon(\n",
       "                {&quot;extraClasses&quot;: &quot;fa-rotate-0&quot;, &quot;icon&quot;: &quot;info-sign&quot;, &quot;iconColor&quot;: &quot;white&quot;, &quot;markerColor&quot;: &quot;blue&quot;, &quot;prefix&quot;: &quot;glyphicon&quot;}\n",
       "            );\n",
       "            marker_ec3668803876c345b5b8beb053026d83.setIcon(icon_1766d1dbaf4d8aaafeed0b20944cd77f);\n",
       "        \n",
       "    \n",
       "        var popup_ee6f1b312e2287ad5d13c97c0f0d01a1 = L.popup({&quot;maxWidth&quot;: &quot;100%&quot;});\n",
       "\n",
       "        \n",
       "            \n",
       "                var html_d919e5c2e27733315e89a7de6ccdf6a0 = $(`&lt;div id=&quot;html_d919e5c2e27733315e89a7de6ccdf6a0&quot; style=&quot;width: 100.0%; height: 100.0%;&quot;&gt;Population: 845&lt;/div&gt;`)[0];\n",
       "                popup_ee6f1b312e2287ad5d13c97c0f0d01a1.setContent(html_d919e5c2e27733315e89a7de6ccdf6a0);\n",
       "            \n",
       "        \n",
       "\n",
       "        marker_ec3668803876c345b5b8beb053026d83.bindPopup(popup_ee6f1b312e2287ad5d13c97c0f0d01a1)\n",
       "        ;\n",
       "\n",
       "        \n",
       "    \n",
       "    \n",
       "            var marker_03f6187670e2bb3ac21d79eabb20fd19 = L.marker(\n",
       "                [48.165513, 16.352823],\n",
       "                {}\n",
       "            ).addTo(map_d511c73435303062d228aa2807549583);\n",
       "        \n",
       "    \n",
       "            var icon_2591afb4517a0c0343124ed96118f0e8 = L.AwesomeMarkers.icon(\n",
       "                {&quot;extraClasses&quot;: &quot;fa-rotate-0&quot;, &quot;icon&quot;: &quot;info-sign&quot;, &quot;iconColor&quot;: &quot;white&quot;, &quot;markerColor&quot;: &quot;blue&quot;, &quot;prefix&quot;: &quot;glyphicon&quot;}\n",
       "            );\n",
       "            marker_03f6187670e2bb3ac21d79eabb20fd19.setIcon(icon_2591afb4517a0c0343124ed96118f0e8);\n",
       "        \n",
       "    \n",
       "        var popup_019fef58eecec540e0af08919b1de603 = L.popup({&quot;maxWidth&quot;: &quot;100%&quot;});\n",
       "\n",
       "        \n",
       "            \n",
       "                var html_09f629f46d666be27e2973f678253a4d = $(`&lt;div id=&quot;html_09f629f46d666be27e2973f678253a4d&quot; style=&quot;width: 100.0%; height: 100.0%;&quot;&gt;Population: 71&lt;/div&gt;`)[0];\n",
       "                popup_019fef58eecec540e0af08919b1de603.setContent(html_09f629f46d666be27e2973f678253a4d);\n",
       "            \n",
       "        \n",
       "\n",
       "        marker_03f6187670e2bb3ac21d79eabb20fd19.bindPopup(popup_019fef58eecec540e0af08919b1de603)\n",
       "        ;\n",
       "\n",
       "        \n",
       "    \n",
       "    \n",
       "            var marker_d1442a95cd6392717e33096a1572e25c = L.marker(\n",
       "                [48.167753, 16.353104],\n",
       "                {}\n",
       "            ).addTo(map_d511c73435303062d228aa2807549583);\n",
       "        \n",
       "    \n",
       "            var icon_a203764621f2dc03a3104721d9574307 = L.AwesomeMarkers.icon(\n",
       "                {&quot;extraClasses&quot;: &quot;fa-rotate-0&quot;, &quot;icon&quot;: &quot;info-sign&quot;, &quot;iconColor&quot;: &quot;white&quot;, &quot;markerColor&quot;: &quot;blue&quot;, &quot;prefix&quot;: &quot;glyphicon&quot;}\n",
       "            );\n",
       "            marker_d1442a95cd6392717e33096a1572e25c.setIcon(icon_a203764621f2dc03a3104721d9574307);\n",
       "        \n",
       "    \n",
       "        var popup_15cf4c638316659b0658410aabc8eb22 = L.popup({&quot;maxWidth&quot;: &quot;100%&quot;});\n",
       "\n",
       "        \n",
       "            \n",
       "                var html_e26c1e5e1349eb371b7818e7d2c26d2d = $(`&lt;div id=&quot;html_e26c1e5e1349eb371b7818e7d2c26d2d&quot; style=&quot;width: 100.0%; height: 100.0%;&quot;&gt;Population: 228&lt;/div&gt;`)[0];\n",
       "                popup_15cf4c638316659b0658410aabc8eb22.setContent(html_e26c1e5e1349eb371b7818e7d2c26d2d);\n",
       "            \n",
       "        \n",
       "\n",
       "        marker_d1442a95cd6392717e33096a1572e25c.bindPopup(popup_15cf4c638316659b0658410aabc8eb22)\n",
       "        ;\n",
       "\n",
       "        \n",
       "    \n",
       "    \n",
       "            var marker_7b6dc34f157ad5b2ad3c5ea1708856ca = L.marker(\n",
       "                [48.165319, 16.356172],\n",
       "                {}\n",
       "            ).addTo(map_d511c73435303062d228aa2807549583);\n",
       "        \n",
       "    \n",
       "            var icon_5a37e1e0424b115cf336200174f72e80 = L.AwesomeMarkers.icon(\n",
       "                {&quot;extraClasses&quot;: &quot;fa-rotate-0&quot;, &quot;icon&quot;: &quot;info-sign&quot;, &quot;iconColor&quot;: &quot;white&quot;, &quot;markerColor&quot;: &quot;blue&quot;, &quot;prefix&quot;: &quot;glyphicon&quot;}\n",
       "            );\n",
       "            marker_7b6dc34f157ad5b2ad3c5ea1708856ca.setIcon(icon_5a37e1e0424b115cf336200174f72e80);\n",
       "        \n",
       "    \n",
       "        var popup_7c84802ee43ef0cbc1382689faf94d8d = L.popup({&quot;maxWidth&quot;: &quot;100%&quot;});\n",
       "\n",
       "        \n",
       "            \n",
       "                var html_bc42580cde1a9c681b467d84533093ef = $(`&lt;div id=&quot;html_bc42580cde1a9c681b467d84533093ef&quot; style=&quot;width: 100.0%; height: 100.0%;&quot;&gt;Population: 252&lt;/div&gt;`)[0];\n",
       "                popup_7c84802ee43ef0cbc1382689faf94d8d.setContent(html_bc42580cde1a9c681b467d84533093ef);\n",
       "            \n",
       "        \n",
       "\n",
       "        marker_7b6dc34f157ad5b2ad3c5ea1708856ca.bindPopup(popup_7c84802ee43ef0cbc1382689faf94d8d)\n",
       "        ;\n",
       "\n",
       "        \n",
       "    \n",
       "    \n",
       "            var marker_795fe4928de638eed58daf3625ba8454 = L.marker(\n",
       "                [48.167559, 16.356453],\n",
       "                {}\n",
       "            ).addTo(map_d511c73435303062d228aa2807549583);\n",
       "        \n",
       "    \n",
       "            var icon_9c45756e5aabf1a35aca5b67225a5c36 = L.AwesomeMarkers.icon(\n",
       "                {&quot;extraClasses&quot;: &quot;fa-rotate-0&quot;, &quot;icon&quot;: &quot;info-sign&quot;, &quot;iconColor&quot;: &quot;white&quot;, &quot;markerColor&quot;: &quot;blue&quot;, &quot;prefix&quot;: &quot;glyphicon&quot;}\n",
       "            );\n",
       "            marker_795fe4928de638eed58daf3625ba8454.setIcon(icon_9c45756e5aabf1a35aca5b67225a5c36);\n",
       "        \n",
       "    \n",
       "        var popup_3281974d0aa2ec16e6d2f393bd1f3c2f = L.popup({&quot;maxWidth&quot;: &quot;100%&quot;});\n",
       "\n",
       "        \n",
       "            \n",
       "                var html_2a3fa88add8bc33484fda10c1d07bd21 = $(`&lt;div id=&quot;html_2a3fa88add8bc33484fda10c1d07bd21&quot; style=&quot;width: 100.0%; height: 100.0%;&quot;&gt;Population: 554&lt;/div&gt;`)[0];\n",
       "                popup_3281974d0aa2ec16e6d2f393bd1f3c2f.setContent(html_2a3fa88add8bc33484fda10c1d07bd21);\n",
       "            \n",
       "        \n",
       "\n",
       "        marker_795fe4928de638eed58daf3625ba8454.bindPopup(popup_3281974d0aa2ec16e6d2f393bd1f3c2f)\n",
       "        ;\n",
       "\n",
       "        \n",
       "    \n",
       "    \n",
       "            var marker_7712e58ecba87010b2c32f24216f69a0 = L.marker(\n",
       "                [48.169992, 16.353386],\n",
       "                {}\n",
       "            ).addTo(map_d511c73435303062d228aa2807549583);\n",
       "        \n",
       "    \n",
       "            var icon_5c9e13f936221bd5b1243fded44320c6 = L.AwesomeMarkers.icon(\n",
       "                {&quot;extraClasses&quot;: &quot;fa-rotate-0&quot;, &quot;icon&quot;: &quot;info-sign&quot;, &quot;iconColor&quot;: &quot;white&quot;, &quot;markerColor&quot;: &quot;blue&quot;, &quot;prefix&quot;: &quot;glyphicon&quot;}\n",
       "            );\n",
       "            marker_7712e58ecba87010b2c32f24216f69a0.setIcon(icon_5c9e13f936221bd5b1243fded44320c6);\n",
       "        \n",
       "    \n",
       "        var popup_a0c14c36d80b84773ac788011dc95b79 = L.popup({&quot;maxWidth&quot;: &quot;100%&quot;});\n",
       "\n",
       "        \n",
       "            \n",
       "                var html_a8e7b8f47d7339620d6c702eb6680ccc = $(`&lt;div id=&quot;html_a8e7b8f47d7339620d6c702eb6680ccc&quot; style=&quot;width: 100.0%; height: 100.0%;&quot;&gt;Population: 862&lt;/div&gt;`)[0];\n",
       "                popup_a0c14c36d80b84773ac788011dc95b79.setContent(html_a8e7b8f47d7339620d6c702eb6680ccc);\n",
       "            \n",
       "        \n",
       "\n",
       "        marker_7712e58ecba87010b2c32f24216f69a0.bindPopup(popup_a0c14c36d80b84773ac788011dc95b79)\n",
       "        ;\n",
       "\n",
       "        \n",
       "    \n",
       "    \n",
       "            var marker_1d1ba0fccd63c1c1861bb3263e442572 = L.marker(\n",
       "                [48.172232, 16.353667],\n",
       "                {}\n",
       "            ).addTo(map_d511c73435303062d228aa2807549583);\n",
       "        \n",
       "    \n",
       "            var icon_01f0d5d289087100fc69c34486c9fc27 = L.AwesomeMarkers.icon(\n",
       "                {&quot;extraClasses&quot;: &quot;fa-rotate-0&quot;, &quot;icon&quot;: &quot;info-sign&quot;, &quot;iconColor&quot;: &quot;white&quot;, &quot;markerColor&quot;: &quot;blue&quot;, &quot;prefix&quot;: &quot;glyphicon&quot;}\n",
       "            );\n",
       "            marker_1d1ba0fccd63c1c1861bb3263e442572.setIcon(icon_01f0d5d289087100fc69c34486c9fc27);\n",
       "        \n",
       "    \n",
       "        var popup_78978b3e5ddc7a56c64381fc35797e38 = L.popup({&quot;maxWidth&quot;: &quot;100%&quot;});\n",
       "\n",
       "        \n",
       "            \n",
       "                var html_7499b8cf4bc4a97a48cadc0cd175ac8f = $(`&lt;div id=&quot;html_7499b8cf4bc4a97a48cadc0cd175ac8f&quot; style=&quot;width: 100.0%; height: 100.0%;&quot;&gt;Population: 2461&lt;/div&gt;`)[0];\n",
       "                popup_78978b3e5ddc7a56c64381fc35797e38.setContent(html_7499b8cf4bc4a97a48cadc0cd175ac8f);\n",
       "            \n",
       "        \n",
       "\n",
       "        marker_1d1ba0fccd63c1c1861bb3263e442572.bindPopup(popup_78978b3e5ddc7a56c64381fc35797e38)\n",
       "        ;\n",
       "\n",
       "        \n",
       "    \n",
       "    \n",
       "            var marker_dbc739a93cdaa278ec54c3e53396576e = L.marker(\n",
       "                [48.169799, 16.356735],\n",
       "                {}\n",
       "            ).addTo(map_d511c73435303062d228aa2807549583);\n",
       "        \n",
       "    \n",
       "            var icon_22cdd2f16066b9a05819eb01b768a0c8 = L.AwesomeMarkers.icon(\n",
       "                {&quot;extraClasses&quot;: &quot;fa-rotate-0&quot;, &quot;icon&quot;: &quot;info-sign&quot;, &quot;iconColor&quot;: &quot;white&quot;, &quot;markerColor&quot;: &quot;blue&quot;, &quot;prefix&quot;: &quot;glyphicon&quot;}\n",
       "            );\n",
       "            marker_dbc739a93cdaa278ec54c3e53396576e.setIcon(icon_22cdd2f16066b9a05819eb01b768a0c8);\n",
       "        \n",
       "    \n",
       "        var popup_778f5d8b3567f881142c3b41b2db45d3 = L.popup({&quot;maxWidth&quot;: &quot;100%&quot;});\n",
       "\n",
       "        \n",
       "            \n",
       "                var html_debfae656551f7d1697e36f1ec31aa28 = $(`&lt;div id=&quot;html_debfae656551f7d1697e36f1ec31aa28&quot; style=&quot;width: 100.0%; height: 100.0%;&quot;&gt;Population: 411&lt;/div&gt;`)[0];\n",
       "                popup_778f5d8b3567f881142c3b41b2db45d3.setContent(html_debfae656551f7d1697e36f1ec31aa28);\n",
       "            \n",
       "        \n",
       "\n",
       "        marker_dbc739a93cdaa278ec54c3e53396576e.bindPopup(popup_778f5d8b3567f881142c3b41b2db45d3)\n",
       "        ;\n",
       "\n",
       "        \n",
       "    \n",
       "    \n",
       "            var marker_2d0c7aef7b0e9cf651b363fb9ec6b803 = L.marker(\n",
       "                [48.172039, 16.357017],\n",
       "                {}\n",
       "            ).addTo(map_d511c73435303062d228aa2807549583);\n",
       "        \n",
       "    \n",
       "            var icon_4cff0032d759832289b7bd9a6f22a346 = L.AwesomeMarkers.icon(\n",
       "                {&quot;extraClasses&quot;: &quot;fa-rotate-0&quot;, &quot;icon&quot;: &quot;info-sign&quot;, &quot;iconColor&quot;: &quot;white&quot;, &quot;markerColor&quot;: &quot;blue&quot;, &quot;prefix&quot;: &quot;glyphicon&quot;}\n",
       "            );\n",
       "            marker_2d0c7aef7b0e9cf651b363fb9ec6b803.setIcon(icon_4cff0032d759832289b7bd9a6f22a346);\n",
       "        \n",
       "    \n",
       "        var popup_00302427f04e82dc74df10e6b793a0a9 = L.popup({&quot;maxWidth&quot;: &quot;100%&quot;});\n",
       "\n",
       "        \n",
       "            \n",
       "                var html_e5a30138cb68fccec1a9301873ce2977 = $(`&lt;div id=&quot;html_e5a30138cb68fccec1a9301873ce2977&quot; style=&quot;width: 100.0%; height: 100.0%;&quot;&gt;Population: 1752&lt;/div&gt;`)[0];\n",
       "                popup_00302427f04e82dc74df10e6b793a0a9.setContent(html_e5a30138cb68fccec1a9301873ce2977);\n",
       "            \n",
       "        \n",
       "\n",
       "        marker_2d0c7aef7b0e9cf651b363fb9ec6b803.bindPopup(popup_00302427f04e82dc74df10e6b793a0a9)\n",
       "        ;\n",
       "\n",
       "        \n",
       "    \n",
       "&lt;/script&gt;\n",
       "&lt;/html&gt;\" style=\"position:absolute;width:100%;height:100%;left:0;top:0;border:none !important;\" allowfullscreen webkitallowfullscreen mozallowfullscreen></iframe></div></div>"
      ],
      "text/plain": [
       "<folium.folium.Map at 0x7fa3413f49d0>"
      ]
     },
     "execution_count": 6,
     "metadata": {},
     "output_type": "execute_result"
    }
   ],
   "source": [
    "#Create the Map\n",
    "map_osm = folium.Map(location = [48.167559,16.356453],zoom_start = 13,height=300)\n",
    "map_osm\n",
    "#You Markler the point in Map\n",
    "for indice, row in df[0:10].iterrows():\n",
    "    folium.Marker(location=[row[\"LAT\"], row[\"LON\"]],popup=(\"Population: \" + str(row['POP'])),icon=folium.map.Icon(color='blue')).add_to(map_osm)\n",
    "map_osm"
   ]
  },
  {
   "cell_type": "markdown",
   "id": "3f421553",
   "metadata": {
    "slideshow": {
     "slide_type": "notes"
    }
   },
   "source": [
    "Slide 13"
   ]
  },
  {
   "cell_type": "markdown",
   "id": "2e178cde",
   "metadata": {
    "slideshow": {
     "slide_type": "slide"
    }
   },
   "source": [
    "## Heatmaps"
   ]
  },
  {
   "cell_type": "code",
   "execution_count": 7,
   "id": "d9b16130",
   "metadata": {
    "slideshow": {
     "slide_type": "-"
    }
   },
   "outputs": [
    {
     "data": {
      "text/html": [
       "<div style=\"width:100%;\"><div style=\"position:relative;width:100%;height:0;padding-bottom:60%;\"><span style=\"color:#565656\">Make this Notebook Trusted to load map: File -> Trust Notebook</span><iframe srcdoc=\"&lt;!DOCTYPE html&gt;\n",
       "&lt;html&gt;\n",
       "&lt;head&gt;\n",
       "    \n",
       "    &lt;meta http-equiv=&quot;content-type&quot; content=&quot;text/html; charset=UTF-8&quot; /&gt;\n",
       "    \n",
       "        &lt;script&gt;\n",
       "            L_NO_TOUCH = false;\n",
       "            L_DISABLE_3D = false;\n",
       "        &lt;/script&gt;\n",
       "    \n",
       "    &lt;style&gt;html, body {width: 100%;height: 100%;margin: 0;padding: 0;}&lt;/style&gt;\n",
       "    &lt;style&gt;#map {position:absolute;top:0;bottom:0;right:0;left:0;}&lt;/style&gt;\n",
       "    &lt;script src=&quot;https://cdn.jsdelivr.net/npm/leaflet@1.9.3/dist/leaflet.js&quot;&gt;&lt;/script&gt;\n",
       "    &lt;script src=&quot;https://code.jquery.com/jquery-1.12.4.min.js&quot;&gt;&lt;/script&gt;\n",
       "    &lt;script src=&quot;https://cdn.jsdelivr.net/npm/bootstrap@5.2.2/dist/js/bootstrap.bundle.min.js&quot;&gt;&lt;/script&gt;\n",
       "    &lt;script src=&quot;https://cdnjs.cloudflare.com/ajax/libs/Leaflet.awesome-markers/2.0.2/leaflet.awesome-markers.js&quot;&gt;&lt;/script&gt;\n",
       "    &lt;link rel=&quot;stylesheet&quot; href=&quot;https://cdn.jsdelivr.net/npm/leaflet@1.9.3/dist/leaflet.css&quot;/&gt;\n",
       "    &lt;link rel=&quot;stylesheet&quot; href=&quot;https://cdn.jsdelivr.net/npm/bootstrap@5.2.2/dist/css/bootstrap.min.css&quot;/&gt;\n",
       "    &lt;link rel=&quot;stylesheet&quot; href=&quot;https://netdna.bootstrapcdn.com/bootstrap/3.0.0/css/bootstrap.min.css&quot;/&gt;\n",
       "    &lt;link rel=&quot;stylesheet&quot; href=&quot;https://cdn.jsdelivr.net/npm/@fortawesome/fontawesome-free@6.2.0/css/all.min.css&quot;/&gt;\n",
       "    &lt;link rel=&quot;stylesheet&quot; href=&quot;https://cdnjs.cloudflare.com/ajax/libs/Leaflet.awesome-markers/2.0.2/leaflet.awesome-markers.css&quot;/&gt;\n",
       "    &lt;link rel=&quot;stylesheet&quot; href=&quot;https://cdn.jsdelivr.net/gh/python-visualization/folium/folium/templates/leaflet.awesome.rotate.min.css&quot;/&gt;\n",
       "    \n",
       "            &lt;meta name=&quot;viewport&quot; content=&quot;width=device-width,\n",
       "                initial-scale=1.0, maximum-scale=1.0, user-scalable=no&quot; /&gt;\n",
       "            &lt;style&gt;\n",
       "                #map_a7f4352b1d261239156a2101a48d7301 {\n",
       "                    position: relative;\n",
       "                    width: 100.0%;\n",
       "                    height: 300.0px;\n",
       "                    left: 0.0%;\n",
       "                    top: 0.0%;\n",
       "                }\n",
       "                .leaflet-container { font-size: 1rem; }\n",
       "            &lt;/style&gt;\n",
       "        \n",
       "    &lt;script src=&quot;https://cdn.jsdelivr.net/gh/python-visualization/folium@main/folium/templates/leaflet_heat.min.js&quot;&gt;&lt;/script&gt;\n",
       "&lt;/head&gt;\n",
       "&lt;body&gt;\n",
       "    \n",
       "    \n",
       "            &lt;div class=&quot;folium-map&quot; id=&quot;map_a7f4352b1d261239156a2101a48d7301&quot; &gt;&lt;/div&gt;\n",
       "        \n",
       "&lt;/body&gt;\n",
       "&lt;script&gt;\n",
       "    \n",
       "    \n",
       "            var map_a7f4352b1d261239156a2101a48d7301 = L.map(\n",
       "                &quot;map_a7f4352b1d261239156a2101a48d7301&quot;,\n",
       "                {\n",
       "                    center: [48.167559, 16.356453],\n",
       "                    crs: L.CRS.EPSG3857,\n",
       "                    zoom: 14,\n",
       "                    zoomControl: true,\n",
       "                    preferCanvas: false,\n",
       "                }\n",
       "            );\n",
       "\n",
       "            \n",
       "\n",
       "        \n",
       "    \n",
       "            var tile_layer_bd526e9e79a9f01e63d91f1916681be1 = L.tileLayer(\n",
       "                &quot;https://{s}.tile.openstreetmap.org/{z}/{x}/{y}.png&quot;,\n",
       "                {&quot;attribution&quot;: &quot;Data by \\u0026copy; \\u003ca target=\\&quot;_blank\\&quot; href=\\&quot;http://openstreetmap.org\\&quot;\\u003eOpenStreetMap\\u003c/a\\u003e, under \\u003ca target=\\&quot;_blank\\&quot; href=\\&quot;http://www.openstreetmap.org/copyright\\&quot;\\u003eODbL\\u003c/a\\u003e.&quot;, &quot;detectRetina&quot;: false, &quot;maxNativeZoom&quot;: 18, &quot;maxZoom&quot;: 18, &quot;minZoom&quot;: 0, &quot;noWrap&quot;: false, &quot;opacity&quot;: 1, &quot;subdomains&quot;: &quot;abc&quot;, &quot;tms&quot;: false}\n",
       "            ).addTo(map_a7f4352b1d261239156a2101a48d7301);\n",
       "        \n",
       "    \n",
       "            var heat_map_086a5ac30af246636be2b8ede3203b5e = L.heatLayer(\n",
       "                [[48.167946, 16.349755, 245.0], [48.170186, 16.350036, 845.0], [48.165513, 16.352823, 71.0], [48.167753, 16.353104, 228.0], [48.165319, 16.356172, 252.0], [48.167559, 16.356453, 554.0], [48.169992, 16.353386, 862.0], [48.172232, 16.353667, 2461.0], [48.169799, 16.356735, 411.0], [48.172039, 16.357017, 1752.0]],\n",
       "                {&quot;blur&quot;: 15, &quot;maxZoom&quot;: 18, &quot;minOpacity&quot;: 0.5, &quot;radius&quot;: 25}\n",
       "            ).addTo(map_a7f4352b1d261239156a2101a48d7301);\n",
       "        \n",
       "&lt;/script&gt;\n",
       "&lt;/html&gt;\" style=\"position:absolute;width:100%;height:100%;left:0;top:0;border:none !important;\" allowfullscreen webkitallowfullscreen mozallowfullscreen></iframe></div></div>"
      ],
      "text/plain": [
       "<folium.folium.Map at 0x7fa340d79e90>"
      ]
     },
     "execution_count": 7,
     "metadata": {},
     "output_type": "execute_result"
    }
   ],
   "source": [
    "import folium\n",
    "from folium.plugins import HeatMap\n",
    "map_obj = folium.Map(location = [48.167559,16.356453], zoom_start = 14, height = 300)\n",
    "lats_longs = df[0:10][['LAT','LON','POP']].to_numpy()\n",
    "HeatMap(lats_longs).add_to(map_obj)\n",
    "map_obj"
   ]
  },
  {
   "cell_type": "markdown",
   "id": "e9da6b4a",
   "metadata": {
    "slideshow": {
     "slide_type": "notes"
    }
   },
   "source": [
    "Slide 14"
   ]
  },
  {
   "cell_type": "markdown",
   "id": "4fd56d15",
   "metadata": {
    "slideshow": {
     "slide_type": "slide"
    }
   },
   "source": [
    "## Map services\n",
    "### Different styles, different availebilities, different costs\n",
    "### Vector & Image maps (like sat images)"
   ]
  },
  {
   "cell_type": "code",
   "execution_count": 8,
   "id": "3989a7da",
   "metadata": {
    "scrolled": true
   },
   "outputs": [
    {
     "data": {
      "text/html": [
       "<div style=\"width:100%;\"><div style=\"position:relative;width:100%;height:0;padding-bottom:60%;\"><span style=\"color:#565656\">Make this Notebook Trusted to load map: File -> Trust Notebook</span><iframe srcdoc=\"&lt;!DOCTYPE html&gt;\n",
       "&lt;html&gt;\n",
       "&lt;head&gt;\n",
       "    \n",
       "    &lt;meta http-equiv=&quot;content-type&quot; content=&quot;text/html; charset=UTF-8&quot; /&gt;\n",
       "    \n",
       "        &lt;script&gt;\n",
       "            L_NO_TOUCH = false;\n",
       "            L_DISABLE_3D = false;\n",
       "        &lt;/script&gt;\n",
       "    \n",
       "    &lt;style&gt;html, body {width: 100%;height: 100%;margin: 0;padding: 0;}&lt;/style&gt;\n",
       "    &lt;style&gt;#map {position:absolute;top:0;bottom:0;right:0;left:0;}&lt;/style&gt;\n",
       "    &lt;script src=&quot;https://cdn.jsdelivr.net/npm/leaflet@1.9.3/dist/leaflet.js&quot;&gt;&lt;/script&gt;\n",
       "    &lt;script src=&quot;https://code.jquery.com/jquery-1.12.4.min.js&quot;&gt;&lt;/script&gt;\n",
       "    &lt;script src=&quot;https://cdn.jsdelivr.net/npm/bootstrap@5.2.2/dist/js/bootstrap.bundle.min.js&quot;&gt;&lt;/script&gt;\n",
       "    &lt;script src=&quot;https://cdnjs.cloudflare.com/ajax/libs/Leaflet.awesome-markers/2.0.2/leaflet.awesome-markers.js&quot;&gt;&lt;/script&gt;\n",
       "    &lt;link rel=&quot;stylesheet&quot; href=&quot;https://cdn.jsdelivr.net/npm/leaflet@1.9.3/dist/leaflet.css&quot;/&gt;\n",
       "    &lt;link rel=&quot;stylesheet&quot; href=&quot;https://cdn.jsdelivr.net/npm/bootstrap@5.2.2/dist/css/bootstrap.min.css&quot;/&gt;\n",
       "    &lt;link rel=&quot;stylesheet&quot; href=&quot;https://netdna.bootstrapcdn.com/bootstrap/3.0.0/css/bootstrap.min.css&quot;/&gt;\n",
       "    &lt;link rel=&quot;stylesheet&quot; href=&quot;https://cdn.jsdelivr.net/npm/@fortawesome/fontawesome-free@6.2.0/css/all.min.css&quot;/&gt;\n",
       "    &lt;link rel=&quot;stylesheet&quot; href=&quot;https://cdnjs.cloudflare.com/ajax/libs/Leaflet.awesome-markers/2.0.2/leaflet.awesome-markers.css&quot;/&gt;\n",
       "    &lt;link rel=&quot;stylesheet&quot; href=&quot;https://cdn.jsdelivr.net/gh/python-visualization/folium/folium/templates/leaflet.awesome.rotate.min.css&quot;/&gt;\n",
       "    \n",
       "            &lt;meta name=&quot;viewport&quot; content=&quot;width=device-width,\n",
       "                initial-scale=1.0, maximum-scale=1.0, user-scalable=no&quot; /&gt;\n",
       "            &lt;style&gt;\n",
       "                #map_220074f69d2048379beba20381077a83 {\n",
       "                    position: relative;\n",
       "                    width: 100.0%;\n",
       "                    height: 300.0px;\n",
       "                    left: 0.0%;\n",
       "                    top: 0.0%;\n",
       "                }\n",
       "                .leaflet-container { font-size: 1rem; }\n",
       "            &lt;/style&gt;\n",
       "        \n",
       "    &lt;script src=&quot;https://cdn.jsdelivr.net/gh/python-visualization/folium@main/folium/templates/leaflet_heat.min.js&quot;&gt;&lt;/script&gt;\n",
       "&lt;/head&gt;\n",
       "&lt;body&gt;\n",
       "    \n",
       "    \n",
       "            &lt;div class=&quot;folium-map&quot; id=&quot;map_220074f69d2048379beba20381077a83&quot; &gt;&lt;/div&gt;\n",
       "        \n",
       "&lt;/body&gt;\n",
       "&lt;script&gt;\n",
       "    \n",
       "    \n",
       "            var map_220074f69d2048379beba20381077a83 = L.map(\n",
       "                &quot;map_220074f69d2048379beba20381077a83&quot;,\n",
       "                {\n",
       "                    center: [48.167559, 16.356453],\n",
       "                    crs: L.CRS.EPSG3857,\n",
       "                    zoom: 14,\n",
       "                    zoomControl: true,\n",
       "                    preferCanvas: false,\n",
       "                }\n",
       "            );\n",
       "\n",
       "            \n",
       "\n",
       "        \n",
       "    \n",
       "            var tile_layer_398f1e5936c3a7259d272745bf8fe621 = L.tileLayer(\n",
       "                &quot;https://stamen-tiles-{s}.a.ssl.fastly.net/toner/{z}/{x}/{y}.png&quot;,\n",
       "                {&quot;attribution&quot;: &quot;Map tiles by \\u003ca target=\\&quot;_blank\\&quot; href=\\&quot;http://stamen.com\\&quot;\\u003eStamen Design\\u003c/a\\u003e, under \\u003ca target=\\&quot;_blank\\&quot; href=\\&quot;http://creativecommons.org/licenses/by/3.0\\&quot;\\u003eCC BY 3.0\\u003c/a\\u003e. Data by \\u0026copy; \\u003ca target=\\&quot;_blank\\&quot; href=\\&quot;http://openstreetmap.org\\&quot;\\u003eOpenStreetMap\\u003c/a\\u003e, under \\u003ca target=\\&quot;_blank\\&quot; href=\\&quot;http://www.openstreetmap.org/copyright\\&quot;\\u003eODbL\\u003c/a\\u003e.&quot;, &quot;detectRetina&quot;: false, &quot;maxNativeZoom&quot;: 18, &quot;maxZoom&quot;: 18, &quot;minZoom&quot;: 0, &quot;noWrap&quot;: false, &quot;opacity&quot;: 1, &quot;subdomains&quot;: &quot;abc&quot;, &quot;tms&quot;: false}\n",
       "            ).addTo(map_220074f69d2048379beba20381077a83);\n",
       "        \n",
       "    \n",
       "            var heat_map_ce2e4078fab48a71d101236e41a550f0 = L.heatLayer(\n",
       "                [[48.167946, 16.349755, 185.812962], [48.170186, 16.350036, 561.995497], [48.165513, 16.352823, 161.007564], [48.167753, 16.353104, 483.753265], [48.165319, 16.356172, 420.727509], [48.167559, 16.356453, 369.646501], [48.169992, 16.353386, 627.832475], [48.172232, 16.353667, 1069.89027], [48.169799, 16.356735, 305.818047], [48.172039, 16.357017, 609.565694]],\n",
       "                {&quot;blur&quot;: 15, &quot;maxZoom&quot;: 18, &quot;minOpacity&quot;: 0.5, &quot;radius&quot;: 25}\n",
       "            ).addTo(map_220074f69d2048379beba20381077a83);\n",
       "        \n",
       "&lt;/script&gt;\n",
       "&lt;/html&gt;\" style=\"position:absolute;width:100%;height:100%;left:0;top:0;border:none !important;\" allowfullscreen webkitallowfullscreen mozallowfullscreen></iframe></div></div>"
      ],
      "text/plain": [
       "<folium.folium.Map at 0x7fa340d7a450>"
      ]
     },
     "execution_count": 8,
     "metadata": {},
     "output_type": "execute_result"
    }
   ],
   "source": [
    "import folium\n",
    "import pandas as pd\n",
    "from folium.plugins import HeatMap\n",
    "map_obj = folium.Map(\n",
    "    tiles='Stamen Toner', \n",
    "    location = [48.167559,16.356453], zoom_start = 14, height = 300)\n",
    "lats_longs = df[0:10][['LAT','LON','IDX_ZS_SUM']].to_numpy()\n",
    "HeatMap(lats_longs).add_to(map_obj)\n",
    "map_obj"
   ]
  },
  {
   "cell_type": "code",
   "execution_count": 6,
   "id": "1d69eb2e",
   "metadata": {
    "slideshow": {
     "slide_type": "notes"
    }
   },
   "outputs": [],
   "source": [
    "import os\n",
    "\n",
    "from here_location_services import LS\n",
    "from here_location_services.config.routing_config import ROUTING_RETURN\n",
    "from here_map_widget import Map, Marker, GeoJSON\n",
    "\n",
    "LS_API_KEY = \"4MxuGCg8m-MsjE5rjXk12UI-elDSVW2RmAAk5bx_AYM\" \n",
    "# os.environ.get(\"LS_API_KEY\")  # Get API KEY from environment.\n",
    "ls = LS(api_key=LS_API_KEY)\n",
    "\n",
    "result = ls.car_route(\n",
    "    origin=[52.51375, 13.42462],\n",
    "    destination=[52.52332, 13.42800],\n",
    "    return_results=[\n",
    "        ROUTING_RETURN.polyline,\n",
    "        ROUTING_RETURN.elevation,\n",
    "        ROUTING_RETURN.instructions,\n",
    "        ROUTING_RETURN.actions,\n",
    "    ],\n",
    ")\n",
    "geo_json = result.to_geojson()\n",
    "data = geo_json\n",
    "# geo_layer = GeoJSON(data=data, style={\"lineWidth\": 5})\n",
    "\n",
    "# m = Map(api_key=LS_API_KEY, center=[52.5207, 13.4283], zoom=14)\n",
    "# origin_marker = Marker(lat=52.51375, lng=13.42462)\n",
    "# dest_marker = Marker(lat=52.52332, lng=13.42800)\n",
    "# m.add_layer(geo_layer)\n",
    "# m.add_object(origin_marker)\n",
    "# m.add_object(dest_marker)\n",
    "# m"
   ]
  },
  {
   "cell_type": "markdown",
   "id": "23485ed5",
   "metadata": {
    "slideshow": {
     "slide_type": "notes"
    }
   },
   "source": [
    "Slide 15"
   ]
  },
  {
   "cell_type": "markdown",
   "id": "5a4df8da",
   "metadata": {
    "slideshow": {
     "slide_type": "slide"
    }
   },
   "source": [
    "## GeoJSON"
   ]
  },
  {
   "cell_type": "code",
   "execution_count": 11,
   "id": "c8be3aa2",
   "metadata": {
    "scrolled": false
   },
   "outputs": [
    {
     "name": "stdout",
     "output_type": "stream",
     "text": [
      "{\n",
      "  \"type\": \"FeatureCollection\",\n",
      "  \"features\": [\n",
      "    {\n",
      "      \"type\": \"Feature\",\n",
      "      \"geometry\": {\n",
      "        \"type\": \"LineString\",\n",
      "        \"coordinates\": [\n",
      "          [\n",
      "            13.424624,\n",
      "            52.513748,\n",
      "            76.0\n",
      "          ],\n",
      "          [\n",
      "            13.42473,\n",
      "            52.51383,\n",
      "            76.0\n",
      "          ],\n",
      "          [\n",
      "            13.42499,\n",
      "            52.51402,\n",
      "            76.0\n",
      "          ],\n",
      "          [\n",
      "            13.42522,\n",
      "            52.51422,\n",
      "            76.0\n",
      "          ],\n",
      "          [\n",
      "            13.42552,\n",
      "            52.51448,\n",
      "            76.0\n",
      "          ],\n",
      "          [\n",
      "            13.42568,\n",
      "            52.51466,\n",
      "            76.0\n",
      "          ],\n",
      "          [\n",
      "            13.42641,\n",
      "            52.51546,\n",
      "            76.0\n",
      "          ],\n",
      "          [\n",
      "            13.42675,\n",
      "            52.51584,\n",
      "            76.0\n",
      "          ],\n",
      "          [\n",
      "            13.4269,\n",
      "            52.51602,\n",
      "            77.0\n",
      "          ],\n",
      "          [\n",
      "            13.42704,\n",
      "            52.51619,\n",
      "            77.0\n",
      "          ],\n",
      "          [\n",
      "            13.4273,\n",
      "            52.51655,\n",
      "            77.0\n",
      "          ],\n",
      "          [\n",
      "            13.42745,\n",
      "            52.51678,\n",
      "            77.0\n",
      "          ],\n",
      "          [\n",
      "            13.42757,\n",
      "            52.51697,\n",
      "            77.0\n",
      "          ],\n",
      "          [\n",
      "            13.42767,\n",
      "            52.51715,\n",
      "            77.0\n",
      "          ],\n",
      "          [\n",
      "            13.42784,\n",
      "            52.51744,\n",
      "            77.0\n",
      "          ],\n",
      "          [\n",
      "            13.42795,\n",
      "            52.51765,\n",
      "            77.0\n",
      "          ],\n",
      "          [\n",
      "            13.42804,\n",
      "            52.5178,\n",
      "            77.0\n",
      "          ],\n",
      "          [\n",
      "            13.42812,\n",
      "            52.51791,\n",
      "            77.0\n",
      "          ],\n",
      "          [\n",
      "            13.42818,\n",
      "            52.51797,\n",
      "            77.0\n",
      "          ],\n",
      "          [\n",
      "            13.42827,\n",
      "            52.51804,\n",
      "            77.0\n",
      "          ],\n",
      "          [\n",
      "            13.42845,\n",
      "            52.51816,\n",
      "            77.0\n",
      "          ],\n",
      "          [\n",
      "            13.42856,\n",
      "            52.51816,\n",
      "            77.0\n",
      "          ],\n",
      "          [\n",
      "            13.42866,\n",
      "            52.51817,\n",
      "            77.0\n",
      "          ],\n",
      "          [\n",
      "            13.42877,\n",
      "            52.5182,\n",
      "            77.0\n",
      "          ],\n",
      "          [\n",
      "            13.42886,\n",
      "            52.51823,\n",
      "            77.0\n",
      "          ],\n",
      "          [\n",
      "            13.42894,\n",
      "            52.51828,\n",
      "            77.0\n",
      "          ],\n",
      "          [\n",
      "            13.429,\n",
      "            52.51835,\n",
      "            77.0\n",
      "          ],\n",
      "          [\n",
      "            13.42903,\n",
      "            52.51841,\n",
      "            77.0\n",
      "          ],\n",
      "          [\n",
      "            13.42904,\n",
      "            52.51849,\n",
      "            77.0\n",
      "          ],\n",
      "          [\n",
      "            13.42901,\n",
      "            52.51857,\n",
      "            77.0\n",
      "          ],\n",
      "          [\n",
      "            13.42896,\n",
      "            52.51863,\n",
      "            77.0\n",
      "          ],\n",
      "          [\n",
      "            13.42892,\n",
      "            52.51867,\n",
      "            77.0\n",
      "          ],\n",
      "          [\n",
      "            13.42886,\n",
      "            52.51873,\n",
      "            77.0\n",
      "          ],\n",
      "          [\n",
      "            13.42881,\n",
      "            52.51877,\n",
      "            77.0\n",
      "          ],\n",
      "          [\n",
      "            13.4287,\n",
      "            52.51882,\n",
      "            77.0\n",
      "          ],\n",
      "          [\n",
      "            13.42871,\n",
      "            52.519,\n",
      "            77.0\n",
      "          ],\n",
      "          [\n",
      "            13.42873,\n",
      "            52.51908,\n",
      "            77.0\n",
      "          ],\n",
      "          [\n",
      "            13.42876,\n",
      "            52.51917,\n",
      "            77.0\n",
      "          ],\n",
      "          [\n",
      "            13.42885,\n",
      "            52.51944,\n",
      "            78.0\n",
      "          ],\n",
      "          [\n",
      "            13.42888,\n",
      "            52.51951,\n",
      "            78.0\n",
      "          ],\n",
      "          [\n",
      "            13.42917,\n",
      "            52.52012,\n",
      "            78.0\n",
      "          ],\n",
      "          [\n",
      "            13.42953,\n",
      "            52.52084,\n",
      "            77.0\n",
      "          ],\n",
      "          [\n",
      "            13.42964,\n",
      "            52.52113,\n",
      "            77.0\n",
      "          ],\n",
      "          [\n",
      "            13.42967,\n",
      "            52.52125,\n",
      "            77.0\n",
      "          ],\n",
      "          [\n",
      "            13.42969,\n",
      "            52.52136,\n",
      "            77.0\n",
      "          ],\n",
      "          [\n",
      "            13.42985,\n",
      "            52.52258,\n",
      "            79.0\n",
      "          ],\n",
      "          [\n",
      "            13.42992,\n",
      "            52.52311,\n",
      "            79.0\n",
      "          ],\n",
      "          [\n",
      "            13.42993,\n",
      "            52.5232,\n",
      "            79.0\n",
      "          ],\n",
      "          [\n",
      "            13.42994,\n",
      "            52.52329,\n",
      "            79.0\n",
      "          ],\n",
      "          [\n",
      "            13.4296,\n",
      "            52.52327,\n",
      "            79.0\n",
      "          ],\n",
      "          [\n",
      "            13.42907,\n",
      "            52.52324,\n",
      "            79.0\n",
      "          ],\n",
      "          [\n",
      "            13.42842,\n",
      "            52.52323,\n",
      "            79.0\n",
      "          ],\n",
      "          [\n",
      "            13.428004,\n",
      "            52.523223,\n",
      "            78.0\n",
      "          ]\n",
      "        ]\n",
      "      },\n",
      "      \"properties\": {\n",
      "        \"id\": \"4be7c64c-ae0a-4981-83f3-4bebbe604d23\",\n",
      "        \"type\": \"vehicle\",\n",
      "        \"actions\": [\n",
      "          {\n",
      "            \"action\": \"depart\",\n",
      "            \"duration\": 71,\n",
      "            \"length\": 561,\n",
      "            \"instruction\": \"Head northeast on Lichtenberger Stra\\u00dfe. Go for 561 m.\",\n",
      "            \"offset\": 0\n",
      "          },\n",
      "          {\n",
      "            \"action\": \"roundaboutExit\",\n",
      "            \"duration\": 64,\n",
      "            \"length\": 371,\n",
      "            \"instruction\": \"Take the 2nd exit from Strausberger Platz roundabout onto Lichtenberger Stra\\u00dfe. Go for 371 m.\",\n",
      "            \"offset\": 20,\n",
      "            \"direction\": \"right\",\n",
      "            \"exit\": 2\n",
      "          },\n",
      "          {\n",
      "            \"action\": \"continue\",\n",
      "            \"duration\": 36,\n",
      "            \"length\": 221,\n",
      "            \"instruction\": \"Continue on Platz der Vereinten Nationen. Go for 221 m.\",\n",
      "            \"offset\": 42\n",
      "          },\n",
      "          {\n",
      "            \"action\": \"turn\",\n",
      "            \"duration\": 28,\n",
      "            \"length\": 123,\n",
      "            \"instruction\": \"Turn left onto Platz der Vereinten Nationen toward Mitte. Go for 123 m.\",\n",
      "            \"offset\": 46,\n",
      "            \"direction\": \"left\",\n",
      "            \"severity\": \"quite\"\n",
      "          },\n",
      "          {\n",
      "            \"action\": \"continue\",\n",
      "            \"duration\": 3,\n",
      "            \"length\": 28,\n",
      "            \"instruction\": \"Continue on Mollstra\\u00dfe. Go for 28 m.\",\n",
      "            \"offset\": 51\n",
      "          },\n",
      "          {\n",
      "            \"action\": \"arrive\",\n",
      "            \"duration\": 0,\n",
      "            \"length\": 0,\n",
      "            \"instruction\": \"Arrive at Mollstra\\u00dfe. Your destination is on the right.\",\n",
      "            \"offset\": 52\n",
      "          }\n",
      "        ],\n",
      "        \"departure\": {\n",
      "          \"time\": \"2023-06-12T18:17:59+02:00\",\n",
      "          \"place\": {\n",
      "            \"type\": \"place\",\n",
      "            \"location\": {\n",
      "              \"lat\": 52.5137479,\n",
      "              \"lng\": 13.4246242,\n",
      "              \"elv\": 76.0\n",
      "            },\n",
      "            \"originalLocation\": {\n",
      "              \"lat\": 52.51375,\n",
      "              \"lng\": 13.42462\n",
      "            }\n",
      "          }\n",
      "        },\n",
      "        \"arrival\": {\n",
      "          \"time\": \"2023-06-12T18:21:21+02:00\",\n",
      "          \"place\": {\n",
      "            \"type\": \"place\",\n",
      "            \"location\": {\n",
      "              \"lat\": 52.5232228,\n",
      "              \"lng\": 13.4280044,\n",
      "              \"elv\": 78.0\n",
      "            },\n",
      "            \"originalLocation\": {\n",
      "              \"lat\": 52.5233199,\n",
      "              \"lng\": 13.428\n",
      "            }\n",
      "          }\n",
      "        },\n",
      "        \"polyline\": \"B2Fo9llkDg_rzZwvBkF0GA8LoQAwMsOAoQ4SAoLgKAgyB0tBA4XoVAoLsJU0K4IAwWoQAsOsJA8LwHAoLoGAkS0KAkN8GAsJ0FA8GgFA4D4DAsE0FAwHoLAA8GAUoGA8B8GA8B0FAkDgFAsE4DA4D8BAgFUAgF7BA4DjDAwCvCA4D3DAwCjDAkD7GAoLUAgFoBA0F8BA8Q0FUsE8BAkmBkSAgtBwWTkS8GAwH8BA8GoBAosCgKoBkhBsEA0FUA0FUAnBnVA7BjhBATzoBAN_ZT\",\n",
      "        \"language\": \"en-us\",\n",
      "        \"transport\": {\n",
      "          \"mode\": \"car\"\n",
      "        }\n",
      "      }\n",
      "    }\n",
      "  ]\n",
      "}\n"
     ]
    }
   ],
   "source": [
    "import json\n",
    "output = json.dumps(data, indent=2)\n",
    "line_list = output.split(\"\\n\")  \n",
    "for line in line_list:\n",
    "    print(line)"
   ]
  },
  {
   "cell_type": "code",
   "execution_count": null,
   "id": "fb069794",
   "metadata": {},
   "outputs": [],
   "source": []
  }
 ],
 "metadata": {
  "celltoolbar": "Slideshow",
  "kernelspec": {
   "display_name": "Python 3 (ipykernel)",
   "language": "python",
   "name": "python3"
  },
  "language_info": {
   "codemirror_mode": {
    "name": "ipython",
    "version": 3
   },
   "file_extension": ".py",
   "mimetype": "text/x-python",
   "name": "python",
   "nbconvert_exporter": "python",
   "pygments_lexer": "ipython3",
   "version": "3.11.3"
  }
 },
 "nbformat": 4,
 "nbformat_minor": 5
}
