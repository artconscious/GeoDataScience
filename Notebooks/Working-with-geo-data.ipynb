{
 "cells": [
  {
   "cell_type": "markdown",
   "id": "4c9e425c",
   "metadata": {
    "slideshow": {
     "slide_type": "slide"
    }
   },
   "source": [
    "# Working with geo data and locations"
   ]
  },
  {
   "cell_type": "markdown",
   "id": "01113c16",
   "metadata": {
    "slideshow": {
     "slide_type": "fragment"
    }
   },
   "source": [
    "## Date: 2023-06-13\n",
    "## Host: Rene Meissner\n",
    "* **Group Data Platform Lead** in Group Data & Analytics\n",
    "* UNIQA for 7 years (first EA Data, since 2022 at GDA) \n",
    "* Working with big data from begin on (1997)\n",
    "* Projects and personally interested in geo and location data (GPS, OSM, Ingress) and high performance computing\n",
    "\n",
    "## Sources: [GeoDataScience@github](https://github.com/artconscious/GeoDataScience)"
   ]
  },
  {
   "cell_type": "markdown",
   "id": "592dc724",
   "metadata": {
    "slideshow": {
     "slide_type": "slide"
    }
   },
   "source": [
    "## Agenda\n",
    "### <a href=\"#/2\"> Geo in Insurances </a>\n",
    "### <a href=\"#/3\"> Maps </a>\n",
    "### <a href=\"#/4\"> Geographice Information Systems </a>\n",
    "### <a href=\"#/5\"> Projections </a>\n",
    "### <a href=\"#/6\"> Satellites </a>\n",
    "### <a href=\"#/7\"> Coordinates </a>\n",
    "### <a href=\"#/8\"> Typical tasks</a>\n",
    "### <a href=\"#/9\"> Dive into location with python </a>\n",
    "\n"
   ]
  },
  {
   "cell_type": "markdown",
   "id": "c970ab52",
   "metadata": {
    "slideshow": {
     "slide_type": "notes"
    }
   },
   "source": [
    "Slide 2"
   ]
  },
  {
   "cell_type": "markdown",
   "id": "e6a25495",
   "metadata": {
    "slideshow": {
     "slide_type": "slide"
    }
   },
   "source": [
    "## A Perfect Match:\n",
    "# Geo Reference Data and Insurance Business\n",
    "\n",
    "* Policing and underwriting\n",
    "* Market research, penetration \n",
    "* Risk calculation\n",
    "* Claims handling\n",
    "* Market projections\n",
    "* …"
   ]
  },
  {
   "cell_type": "markdown",
   "id": "e8529331",
   "metadata": {
    "slideshow": {
     "slide_type": "notes"
    }
   },
   "source": [
    "Slide 3"
   ]
  },
  {
   "cell_type": "markdown",
   "id": "71119811",
   "metadata": {
    "slideshow": {
     "slide_type": "slide"
    }
   },
   "source": [
    "## First Things First: ALL THE MAPPPS!!!"
   ]
  },
  {
   "cell_type": "code",
   "execution_count": 3,
   "id": "85d39a06",
   "metadata": {
    "collapsed": true,
    "slideshow": {
     "slide_type": "fragment"
    }
   },
   "outputs": [
    {
     "data": {
      "text/html": [
       "<div style=\"width:100%;\"><div style=\"position:relative;width:100%;height:0;padding-bottom:60%;\"><span style=\"color:#565656\">Make this Notebook Trusted to load map: File -> Trust Notebook</span><iframe srcdoc=\"&lt;!DOCTYPE html&gt;\n",
       "&lt;html&gt;\n",
       "&lt;head&gt;\n",
       "    \n",
       "    &lt;meta http-equiv=&quot;content-type&quot; content=&quot;text/html; charset=UTF-8&quot; /&gt;\n",
       "    \n",
       "        &lt;script&gt;\n",
       "            L_NO_TOUCH = false;\n",
       "            L_DISABLE_3D = false;\n",
       "        &lt;/script&gt;\n",
       "    \n",
       "    &lt;style&gt;html, body {width: 100%;height: 100%;margin: 0;padding: 0;}&lt;/style&gt;\n",
       "    &lt;style&gt;#map {position:absolute;top:0;bottom:0;right:0;left:0;}&lt;/style&gt;\n",
       "    &lt;script src=&quot;https://cdn.jsdelivr.net/npm/leaflet@1.9.3/dist/leaflet.js&quot;&gt;&lt;/script&gt;\n",
       "    &lt;script src=&quot;https://code.jquery.com/jquery-1.12.4.min.js&quot;&gt;&lt;/script&gt;\n",
       "    &lt;script src=&quot;https://cdn.jsdelivr.net/npm/bootstrap@5.2.2/dist/js/bootstrap.bundle.min.js&quot;&gt;&lt;/script&gt;\n",
       "    &lt;script src=&quot;https://cdnjs.cloudflare.com/ajax/libs/Leaflet.awesome-markers/2.0.2/leaflet.awesome-markers.js&quot;&gt;&lt;/script&gt;\n",
       "    &lt;link rel=&quot;stylesheet&quot; href=&quot;https://cdn.jsdelivr.net/npm/leaflet@1.9.3/dist/leaflet.css&quot;/&gt;\n",
       "    &lt;link rel=&quot;stylesheet&quot; href=&quot;https://cdn.jsdelivr.net/npm/bootstrap@5.2.2/dist/css/bootstrap.min.css&quot;/&gt;\n",
       "    &lt;link rel=&quot;stylesheet&quot; href=&quot;https://netdna.bootstrapcdn.com/bootstrap/3.0.0/css/bootstrap.min.css&quot;/&gt;\n",
       "    &lt;link rel=&quot;stylesheet&quot; href=&quot;https://cdn.jsdelivr.net/npm/@fortawesome/fontawesome-free@6.2.0/css/all.min.css&quot;/&gt;\n",
       "    &lt;link rel=&quot;stylesheet&quot; href=&quot;https://cdnjs.cloudflare.com/ajax/libs/Leaflet.awesome-markers/2.0.2/leaflet.awesome-markers.css&quot;/&gt;\n",
       "    &lt;link rel=&quot;stylesheet&quot; href=&quot;https://cdn.jsdelivr.net/gh/python-visualization/folium/folium/templates/leaflet.awesome.rotate.min.css&quot;/&gt;\n",
       "    \n",
       "            &lt;meta name=&quot;viewport&quot; content=&quot;width=device-width,\n",
       "                initial-scale=1.0, maximum-scale=1.0, user-scalable=no&quot; /&gt;\n",
       "            &lt;style&gt;\n",
       "                #map_9f5bfc492f94946191fbcaf9a90c154f {\n",
       "                    position: relative;\n",
       "                    width: 100.0%;\n",
       "                    height: 100.0%;\n",
       "                    left: 0.0%;\n",
       "                    top: 0.0%;\n",
       "                }\n",
       "                .leaflet-container { font-size: 1rem; }\n",
       "            &lt;/style&gt;\n",
       "        \n",
       "&lt;/head&gt;\n",
       "&lt;body&gt;\n",
       "    \n",
       "    \n",
       "            &lt;div class=&quot;folium-map&quot; id=&quot;map_9f5bfc492f94946191fbcaf9a90c154f&quot; &gt;&lt;/div&gt;\n",
       "        \n",
       "&lt;/body&gt;\n",
       "&lt;script&gt;\n",
       "    \n",
       "    \n",
       "            var map_9f5bfc492f94946191fbcaf9a90c154f = L.map(\n",
       "                &quot;map_9f5bfc492f94946191fbcaf9a90c154f&quot;,\n",
       "                {\n",
       "                    center: [48.208174, 16.373819],\n",
       "                    crs: L.CRS.EPSG3857,\n",
       "                    zoom: 10,\n",
       "                    zoomControl: true,\n",
       "                    preferCanvas: false,\n",
       "                }\n",
       "            );\n",
       "\n",
       "            \n",
       "\n",
       "        \n",
       "    \n",
       "            var tile_layer_052de491e73921a0d91f78f9ca4eba1c = L.tileLayer(\n",
       "                &quot;https://{s}.tile.openstreetmap.org/{z}/{x}/{y}.png&quot;,\n",
       "                {&quot;attribution&quot;: &quot;Data by \\u0026copy; \\u003ca target=\\&quot;_blank\\&quot; href=\\&quot;http://openstreetmap.org\\&quot;\\u003eOpenStreetMap\\u003c/a\\u003e, under \\u003ca target=\\&quot;_blank\\&quot; href=\\&quot;http://www.openstreetmap.org/copyright\\&quot;\\u003eODbL\\u003c/a\\u003e.&quot;, &quot;detectRetina&quot;: false, &quot;maxNativeZoom&quot;: 18, &quot;maxZoom&quot;: 18, &quot;minZoom&quot;: 0, &quot;noWrap&quot;: false, &quot;opacity&quot;: 1, &quot;subdomains&quot;: &quot;abc&quot;, &quot;tms&quot;: false}\n",
       "            ).addTo(map_9f5bfc492f94946191fbcaf9a90c154f);\n",
       "        \n",
       "&lt;/script&gt;\n",
       "&lt;/html&gt;\" style=\"position:absolute;width:100%;height:100%;left:0;top:0;border:none !important;\" allowfullscreen webkitallowfullscreen mozallowfullscreen></iframe></div></div>"
      ],
      "text/plain": [
       "<folium.folium.Map at 0x10ed0a690>"
      ]
     },
     "execution_count": 3,
     "metadata": {},
     "output_type": "execute_result"
    }
   ],
   "source": [
    "import folium\n",
    "m = folium.Map(location=[48.208174, 16.373819])\n",
    "m"
   ]
  },
  {
   "cell_type": "markdown",
   "id": "b3f828e4",
   "metadata": {
    "slideshow": {
     "slide_type": "notes"
    }
   },
   "source": [
    "Slide 4"
   ]
  },
  {
   "cell_type": "markdown",
   "id": "c8bec995",
   "metadata": {
    "slideshow": {
     "slide_type": "slide"
    }
   },
   "source": [
    "### Basics:\n",
    "## Geographical Information System(s): GIS\n",
    "Here you manage all your geo data, design your maps, and do your analysis (if you deal with geo data at least half the day) \n",
    "\n",
    "### Two market player:\n",
    "#### ArcGis: powerful and expensive\n",
    "#### QGIS: also powerful but open source"
   ]
  },
  {
   "cell_type": "markdown",
   "id": "b1ffdac4",
   "metadata": {
    "slideshow": {
     "slide_type": "notes"
    }
   },
   "source": [
    "Slide 5"
   ]
  },
  {
   "cell_type": "markdown",
   "id": "491497af",
   "metadata": {
    "slideshow": {
     "slide_type": "slide"
    }
   },
   "source": [
    "## Projections: How spherical locations are mapped on an 2D coordinate system\n",
    "### * It depends on your country based on the North/South and East/West extention  \n",
    "### * In the EU often Gauss-Krüger in different flavours is used \n",
    "### * ALWAYS make use of WGS84   \n",
    "### * For all programming languages you'll find transformation libraries\n",
    "### * There is a continental drift in Europe: ~0.025m per year"
   ]
  },
  {
   "cell_type": "markdown",
   "id": "e1d7f5ba",
   "metadata": {
    "slideshow": {
     "slide_type": "notes"
    }
   },
   "source": [
    "Slide 6"
   ]
  },
  {
   "cell_type": "markdown",
   "id": "91d186e4",
   "metadata": {
    "slideshow": {
     "slide_type": "slide"
    }
   },
   "source": [
    "## Satellites \n",
    "### GNSS: Global Positioning System(GPS), Gallileo, Baidu, Glonass, …\n",
    "### * Based on at least three satellites a receiver calculates the position on the groud\n",
    "### * Pure GNSS coldstart is around 20min\n",
    "### * The more sats, the higher the accuracy\n",
    "![title](img/ConstellationGPS.gif)"
   ]
  },
  {
   "cell_type": "markdown",
   "id": "f16e9293",
   "metadata": {
    "slideshow": {
     "slide_type": "notes"
    }
   },
   "source": [
    "Slide 7"
   ]
  },
  {
   "cell_type": "markdown",
   "id": "aed1a7aa",
   "metadata": {
    "slideshow": {
     "slide_type": "slide"
    }
   },
   "source": [
    "## Coordinates: Latitude, Longitude, Altitude\n",
    "### *  You can imagine the earth as an spherical X/Y coordinate system\n",
    "### *  X is the Longitude (Greenwich = 0.0, East direction is positive, West directions are negative, max is 180.0/-180.0)\n",
    "### *  Y is the Latitude (Equator = 0.0, North direction is positive, South negative, max is 90.0/-90.0)\n",
    "### *  Notations can be Degrees, Minutes, Seconds (DMS: 48° 12' 29.426\" N 16° 22' 25.748\" E) vs. Decimal Degree (DD i.e. 48.208174, 16.373819) "
   ]
  },
  {
   "cell_type": "markdown",
   "id": "2a114cff",
   "metadata": {
    "slideshow": {
     "slide_type": "notes"
    }
   },
   "source": [
    "Slide 8"
   ]
  },
  {
   "cell_type": "markdown",
   "id": "48795b59",
   "metadata": {
    "slideshow": {
     "slide_type": "slide"
    }
   },
   "source": [
    "## Working with geo data (using Python)\n",
    "### What are the typical tasks you have to deal with when it comes to geo data?\n",
    "#### * Get an address from a location\n",
    "#### * Get a location from an address\n",
    "#### * Give me all clients/prospects in a specific area\n",
    "#### * Based on this client/prospect list, give me geo reference data (i.e. flood risk, demographic, etc.)\n",
    "#### * Find a route between these addresses (travelling salesman problem)\n",
    "#### * What is the are/what type of surface based on these coordinates?\n",
    "#### * …\n"
   ]
  },
  {
   "cell_type": "markdown",
   "id": "63c0b398",
   "metadata": {
    "slideshow": {
     "slide_type": "notes"
    }
   },
   "source": [
    "Slide 9"
   ]
  },
  {
   "cell_type": "markdown",
   "id": "67ef2482",
   "metadata": {
    "slideshow": {
     "slide_type": "slide"
    }
   },
   "source": [
    "## Working with geo data (using Python)\n",
    "### * Locations can be represented simply as a list of two (or three) floats, in many cases "
   ]
  }
 ],
 "metadata": {
  "celltoolbar": "Slideshow",
  "kernelspec": {
   "display_name": "Python 3 (ipykernel)",
   "language": "python",
   "name": "python3"
  },
  "language_info": {
   "codemirror_mode": {
    "name": "ipython",
    "version": 3
   },
   "file_extension": ".py",
   "mimetype": "text/x-python",
   "name": "python",
   "nbconvert_exporter": "python",
   "pygments_lexer": "ipython3",
   "version": "3.11.2"
  }
 },
 "nbformat": 4,
 "nbformat_minor": 5
}
