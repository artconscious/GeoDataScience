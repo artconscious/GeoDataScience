{
 "cells": [
  {
   "cell_type": "markdown",
   "id": "c199866d",
   "metadata": {
    "slideshow": {
     "slide_type": "slide"
    }
   },
   "source": [
    "# Working with geo data and locations"
   ]
  },
  {
   "cell_type": "markdown",
   "id": "0488c4fe",
   "metadata": {
    "slideshow": {
     "slide_type": "fragment"
    }
   },
   "source": [
    "## Date: 2023-06-13\n",
    "## Host: Rene Meissner\n",
    "* **Group Data Platform Lead** in Group Data & Analytics\n",
    "* UNIQA for 7 years (first EA Data, since 2022 at GDA) \n",
    "* Working with big data from begin on (1997)\n",
    "* Projects and personally interested in geo and location data (GPS, OSM, Ingress) and high performance computing\n",
    "\n",
    "## Sources: [GeoDataScience@github](https://github.com/artconscious/GeoDataScience)"
   ]
  },
  {
   "cell_type": "markdown",
   "id": "ca0339f6",
   "metadata": {
    "slideshow": {
     "slide_type": "slide"
    }
   },
   "source": [
    "## Agenda\n",
    "* <a href=\"#/2\"> Geo in Insurances </a>\n",
    "* <a href=\"#/3\"> Maps </a>\n",
    "* <a href=\"#/4\"> Geographice Information Systems </a>\n",
    "* <a href=\"#/5\"> Projections </a>\n",
    "* <a href=\"#/6\"> Satellites </a>\n",
    "* <a href=\"#/7\"> Coordinates </a>\n",
    "* <a href=\"#/8\"> Typical tasks</a>\n",
    "* <a href=\"#/9\"> Dive into location with python </a>\n",
    "* <a href=\"#/10\"> Geohash </a>\n",
    "<-- ### <a href=\"#/11\"> Geohash </a> -->\n",
    "* <a href=\"#/12\"> Maps: folium </a>\n",
    "* <a href=\"#/13\"> Heatmaps </a>\n"
   ]
  },
  {
   "cell_type": "markdown",
   "id": "1fd51ffc",
   "metadata": {
    "slideshow": {
     "slide_type": "notes"
    }
   },
   "source": [
    "Slide 2"
   ]
  },
  {
   "cell_type": "markdown",
   "id": "df410d39",
   "metadata": {
    "slideshow": {
     "slide_type": "slide"
    }
   },
   "source": [
    "## A Perfect Match:\n",
    "# Geo Reference Data and Insurance Business\n",
    "\n",
    "* Policing and underwriting\n",
    "* Market research, penetration \n",
    "* Risk calculation\n",
    "* Claims handling\n",
    "* Market projections\n",
    "* …"
   ]
  },
  {
   "cell_type": "markdown",
   "id": "2287d759",
   "metadata": {
    "slideshow": {
     "slide_type": "notes"
    }
   },
   "source": [
    "Slide 3"
   ]
  },
  {
   "cell_type": "markdown",
   "id": "752f7d35",
   "metadata": {
    "slideshow": {
     "slide_type": "slide"
    }
   },
   "source": [
    "## First Things First: ALL THE MAPPPS!!!"
   ]
  },
  {
   "cell_type": "code",
   "execution_count": 3,
   "id": "ef12f0b4",
   "metadata": {
    "collapsed": true,
    "slideshow": {
     "slide_type": "fragment"
    }
   },
   "outputs": [
    {
     "data": {
      "text/html": [
       "<div style=\"width:100%;\"><div style=\"position:relative;width:100%;height:0;padding-bottom:60%;\"><span style=\"color:#565656\">Make this Notebook Trusted to load map: File -> Trust Notebook</span><iframe srcdoc=\"&lt;!DOCTYPE html&gt;\n",
       "&lt;html&gt;\n",
       "&lt;head&gt;\n",
       "    \n",
       "    &lt;meta http-equiv=&quot;content-type&quot; content=&quot;text/html; charset=UTF-8&quot; /&gt;\n",
       "    \n",
       "        &lt;script&gt;\n",
       "            L_NO_TOUCH = false;\n",
       "            L_DISABLE_3D = false;\n",
       "        &lt;/script&gt;\n",
       "    \n",
       "    &lt;style&gt;html, body {width: 100%;height: 100%;margin: 0;padding: 0;}&lt;/style&gt;\n",
       "    &lt;style&gt;#map {position:absolute;top:0;bottom:0;right:0;left:0;}&lt;/style&gt;\n",
       "    &lt;script src=&quot;https://cdn.jsdelivr.net/npm/leaflet@1.9.3/dist/leaflet.js&quot;&gt;&lt;/script&gt;\n",
       "    &lt;script src=&quot;https://code.jquery.com/jquery-1.12.4.min.js&quot;&gt;&lt;/script&gt;\n",
       "    &lt;script src=&quot;https://cdn.jsdelivr.net/npm/bootstrap@5.2.2/dist/js/bootstrap.bundle.min.js&quot;&gt;&lt;/script&gt;\n",
       "    &lt;script src=&quot;https://cdnjs.cloudflare.com/ajax/libs/Leaflet.awesome-markers/2.0.2/leaflet.awesome-markers.js&quot;&gt;&lt;/script&gt;\n",
       "    &lt;link rel=&quot;stylesheet&quot; href=&quot;https://cdn.jsdelivr.net/npm/leaflet@1.9.3/dist/leaflet.css&quot;/&gt;\n",
       "    &lt;link rel=&quot;stylesheet&quot; href=&quot;https://cdn.jsdelivr.net/npm/bootstrap@5.2.2/dist/css/bootstrap.min.css&quot;/&gt;\n",
       "    &lt;link rel=&quot;stylesheet&quot; href=&quot;https://netdna.bootstrapcdn.com/bootstrap/3.0.0/css/bootstrap.min.css&quot;/&gt;\n",
       "    &lt;link rel=&quot;stylesheet&quot; href=&quot;https://cdn.jsdelivr.net/npm/@fortawesome/fontawesome-free@6.2.0/css/all.min.css&quot;/&gt;\n",
       "    &lt;link rel=&quot;stylesheet&quot; href=&quot;https://cdnjs.cloudflare.com/ajax/libs/Leaflet.awesome-markers/2.0.2/leaflet.awesome-markers.css&quot;/&gt;\n",
       "    &lt;link rel=&quot;stylesheet&quot; href=&quot;https://cdn.jsdelivr.net/gh/python-visualization/folium/folium/templates/leaflet.awesome.rotate.min.css&quot;/&gt;\n",
       "    \n",
       "            &lt;meta name=&quot;viewport&quot; content=&quot;width=device-width,\n",
       "                initial-scale=1.0, maximum-scale=1.0, user-scalable=no&quot; /&gt;\n",
       "            &lt;style&gt;\n",
       "                #map_9f5bfc492f94946191fbcaf9a90c154f {\n",
       "                    position: relative;\n",
       "                    width: 100.0%;\n",
       "                    height: 100.0%;\n",
       "                    left: 0.0%;\n",
       "                    top: 0.0%;\n",
       "                }\n",
       "                .leaflet-container { font-size: 1rem; }\n",
       "            &lt;/style&gt;\n",
       "        \n",
       "&lt;/head&gt;\n",
       "&lt;body&gt;\n",
       "    \n",
       "    \n",
       "            &lt;div class=&quot;folium-map&quot; id=&quot;map_9f5bfc492f94946191fbcaf9a90c154f&quot; &gt;&lt;/div&gt;\n",
       "        \n",
       "&lt;/body&gt;\n",
       "&lt;script&gt;\n",
       "    \n",
       "    \n",
       "            var map_9f5bfc492f94946191fbcaf9a90c154f = L.map(\n",
       "                &quot;map_9f5bfc492f94946191fbcaf9a90c154f&quot;,\n",
       "                {\n",
       "                    center: [48.208174, 16.373819],\n",
       "                    crs: L.CRS.EPSG3857,\n",
       "                    zoom: 10,\n",
       "                    zoomControl: true,\n",
       "                    preferCanvas: false,\n",
       "                }\n",
       "            );\n",
       "\n",
       "            \n",
       "\n",
       "        \n",
       "    \n",
       "            var tile_layer_052de491e73921a0d91f78f9ca4eba1c = L.tileLayer(\n",
       "                &quot;https://{s}.tile.openstreetmap.org/{z}/{x}/{y}.png&quot;,\n",
       "                {&quot;attribution&quot;: &quot;Data by \\u0026copy; \\u003ca target=\\&quot;_blank\\&quot; href=\\&quot;http://openstreetmap.org\\&quot;\\u003eOpenStreetMap\\u003c/a\\u003e, under \\u003ca target=\\&quot;_blank\\&quot; href=\\&quot;http://www.openstreetmap.org/copyright\\&quot;\\u003eODbL\\u003c/a\\u003e.&quot;, &quot;detectRetina&quot;: false, &quot;maxNativeZoom&quot;: 18, &quot;maxZoom&quot;: 18, &quot;minZoom&quot;: 0, &quot;noWrap&quot;: false, &quot;opacity&quot;: 1, &quot;subdomains&quot;: &quot;abc&quot;, &quot;tms&quot;: false}\n",
       "            ).addTo(map_9f5bfc492f94946191fbcaf9a90c154f);\n",
       "        \n",
       "&lt;/script&gt;\n",
       "&lt;/html&gt;\" style=\"position:absolute;width:100%;height:100%;left:0;top:0;border:none !important;\" allowfullscreen webkitallowfullscreen mozallowfullscreen></iframe></div></div>"
      ],
      "text/plain": [
       "<folium.folium.Map at 0x10ed0a690>"
      ]
     },
     "execution_count": 3,
     "metadata": {},
     "output_type": "execute_result"
    }
   ],
   "source": [
    "import folium\n",
    "m = folium.Map(location=[48.208174, 16.373819])\n",
    "m"
   ]
  },
  {
   "cell_type": "markdown",
   "id": "98b75483",
   "metadata": {
    "slideshow": {
     "slide_type": "notes"
    }
   },
   "source": [
    "Slide 4"
   ]
  },
  {
   "cell_type": "markdown",
   "id": "2cdbd109",
   "metadata": {
    "slideshow": {
     "slide_type": "slide"
    }
   },
   "source": [
    "### Basics:\n",
    "## Geographical Information System(s): GIS\n",
    "Here you manage all your geo data, design your maps, and do your analysis (if you deal with geo data at least half the day) \n",
    "\n",
    "### Two market player:\n",
    "#### ArcGis: powerful and expensive\n",
    "#### QGIS: also powerful but open source"
   ]
  },
  {
   "cell_type": "markdown",
   "id": "bb0fb4ba",
   "metadata": {
    "slideshow": {
     "slide_type": "notes"
    }
   },
   "source": [
    "Slide 5"
   ]
  },
  {
   "cell_type": "markdown",
   "id": "5a60fd7f",
   "metadata": {
    "slideshow": {
     "slide_type": "slide"
    }
   },
   "source": [
    "## Projections: How spherical locations are mapped on an 2D coordinate system\n",
    "### * It depends on your country based on the North/South and East/West extention  \n",
    "### * In the EU often Gauss-Krüger in different flavours is used \n",
    "### * ALWAYS make use of WGS84   \n",
    "### * For all programming languages you'll find transformation libraries\n",
    "### * There is a continental drift in Europe: ~0.025m per year"
   ]
  },
  {
   "cell_type": "markdown",
   "id": "48513eae",
   "metadata": {
    "slideshow": {
     "slide_type": "notes"
    }
   },
   "source": [
    "Slide 6"
   ]
  },
  {
   "cell_type": "markdown",
   "id": "12db0e61",
   "metadata": {
    "slideshow": {
     "slide_type": "slide"
    }
   },
   "source": [
    "## Satellites \n",
    "### GNSS: Global Positioning System(GPS), Gallileo, Baidu, Glonass, …\n",
    "### * Based on at least three satellites a receiver calculates the position on the groud\n",
    "### * Pure GNSS coldstart is around 20min\n",
    "### * The more sats, the higher the accuracy\n",
    "![title](img/ConstellationGPS.gif)"
   ]
  },
  {
   "cell_type": "markdown",
   "id": "82b2c72b",
   "metadata": {
    "slideshow": {
     "slide_type": "notes"
    }
   },
   "source": [
    "Slide 7"
   ]
  },
  {
   "cell_type": "markdown",
   "id": "17937672",
   "metadata": {
    "slideshow": {
     "slide_type": "slide"
    }
   },
   "source": [
    "## Coordinates: Latitude, Longitude, Altitude\n",
    "### *  You can imagine the earth as an spherical X/Y coordinate system\n",
    "### *  X is the Longitude (Greenwich = 0.0, East direction is positive, West directions are negative, max is 180.0/-180.0)\n",
    "### *  Y is the Latitude (Equator = 0.0, North direction is positive, South negative, max is 90.0/-90.0)\n",
    "### *  Notations can be Degrees, Minutes, Seconds (DMS: 48° 12' 29.426\" N 16° 22' 25.748\" E) vs. Decimal Degree (DD i.e. 48.208174, 16.373819) "
   ]
  },
  {
   "cell_type": "markdown",
   "id": "15f5ace2",
   "metadata": {
    "slideshow": {
     "slide_type": "notes"
    }
   },
   "source": [
    "Slide 8"
   ]
  },
  {
   "cell_type": "markdown",
   "id": "5f4c92fc",
   "metadata": {
    "slideshow": {
     "slide_type": "slide"
    }
   },
   "source": [
    "## Working with geo data (using Python)\n",
    "### What are the typical tasks you have to deal with when it comes to geo data?\n",
    "#### * Get an address from a location\n",
    "#### * Get a location from an address\n",
    "#### * Give me all clients/prospects in a specific area\n",
    "#### * Based on this client/prospect list, give me geo reference data (i.e. flood risk, demographic, etc.)\n",
    "#### * Find a route between these addresses (travelling salesman problem)\n",
    "#### * What is the are/what type of surface based on these coordinates?\n",
    "#### * …\n"
   ]
  },
  {
   "cell_type": "markdown",
   "id": "52cdf58f",
   "metadata": {
    "slideshow": {
     "slide_type": "notes"
    }
   },
   "source": [
    "Slide 9"
   ]
  },
  {
   "cell_type": "markdown",
   "id": "fbd20b79",
   "metadata": {
    "slideshow": {
     "slide_type": "slide"
    }
   },
   "source": [
    "## Working with geo data (using Python)\n",
    "### * Locations can be represented simply as a list of two (or three) floats, in many cases "
   ]
  },
  {
   "cell_type": "code",
   "execution_count": 39,
   "id": "bd89ee72",
   "metadata": {},
   "outputs": [
    {
     "data": {
      "text/html": [
       "<div>\n",
       "<style scoped>\n",
       "    .dataframe tbody tr th:only-of-type {\n",
       "        vertical-align: middle;\n",
       "    }\n",
       "\n",
       "    .dataframe tbody tr th {\n",
       "        vertical-align: top;\n",
       "    }\n",
       "\n",
       "    .dataframe thead th {\n",
       "        text-align: right;\n",
       "    }\n",
       "</style>\n",
       "<table border=\"1\" class=\"dataframe\">\n",
       "  <thead>\n",
       "    <tr style=\"text-align: right;\">\n",
       "      <th></th>\n",
       "      <th>ID</th>\n",
       "      <th>LAT</th>\n",
       "      <th>LON</th>\n",
       "      <th>EURO_PK</th>\n",
       "      <th>IDX_AT_PK</th>\n",
       "    </tr>\n",
       "  </thead>\n",
       "  <tbody>\n",
       "    <tr>\n",
       "      <th>0</th>\n",
       "      <td>250mN280400E479275</td>\n",
       "      <td>48.167946</td>\n",
       "      <td>16.349755</td>\n",
       "      <td>1660.190476</td>\n",
       "      <td>100.696290</td>\n",
       "    </tr>\n",
       "    <tr>\n",
       "      <th>1</th>\n",
       "      <td>250mN280425E479275</td>\n",
       "      <td>48.170186</td>\n",
       "      <td>16.350036</td>\n",
       "      <td>1574.405494</td>\n",
       "      <td>95.493134</td>\n",
       "    </tr>\n",
       "    <tr>\n",
       "      <th>2</th>\n",
       "      <td>250mN280375E479300</td>\n",
       "      <td>48.165513</td>\n",
       "      <td>16.352823</td>\n",
       "      <td>1704.590909</td>\n",
       "      <td>103.389329</td>\n",
       "    </tr>\n",
       "    <tr>\n",
       "      <th>3</th>\n",
       "      <td>250mN280400E479300</td>\n",
       "      <td>48.167753</td>\n",
       "      <td>16.353104</td>\n",
       "      <td>1697.578260</td>\n",
       "      <td>102.963988</td>\n",
       "    </tr>\n",
       "    <tr>\n",
       "      <th>4</th>\n",
       "      <td>250mN280375E479325</td>\n",
       "      <td>48.165319</td>\n",
       "      <td>16.356172</td>\n",
       "      <td>1544.832599</td>\n",
       "      <td>93.699436</td>\n",
       "    </tr>\n",
       "    <tr>\n",
       "      <th>5</th>\n",
       "      <td>250mN280400E479325</td>\n",
       "      <td>48.167559</td>\n",
       "      <td>16.356453</td>\n",
       "      <td>1463.046403</td>\n",
       "      <td>88.738820</td>\n",
       "    </tr>\n",
       "    <tr>\n",
       "      <th>6</th>\n",
       "      <td>250mN280425E479300</td>\n",
       "      <td>48.169992</td>\n",
       "      <td>16.353386</td>\n",
       "      <td>1510.522561</td>\n",
       "      <td>91.618413</td>\n",
       "    </tr>\n",
       "    <tr>\n",
       "      <th>7</th>\n",
       "      <td>250mN280450E479300</td>\n",
       "      <td>48.172232</td>\n",
       "      <td>16.353667</td>\n",
       "      <td>1553.287899</td>\n",
       "      <td>94.212279</td>\n",
       "    </tr>\n",
       "    <tr>\n",
       "      <th>8</th>\n",
       "      <td>250mN280425E479325</td>\n",
       "      <td>48.169799</td>\n",
       "      <td>16.356735</td>\n",
       "      <td>1543.557863</td>\n",
       "      <td>93.622119</td>\n",
       "    </tr>\n",
       "    <tr>\n",
       "      <th>9</th>\n",
       "      <td>250mN280450E479325</td>\n",
       "      <td>48.172039</td>\n",
       "      <td>16.357017</td>\n",
       "      <td>1562.110684</td>\n",
       "      <td>94.747411</td>\n",
       "    </tr>\n",
       "  </tbody>\n",
       "</table>\n",
       "</div>"
      ],
      "text/plain": [
       "                   ID        LAT        LON      EURO_PK   IDX_AT_PK\n",
       "0  250mN280400E479275  48.167946  16.349755  1660.190476  100.696290\n",
       "1  250mN280425E479275  48.170186  16.350036  1574.405494   95.493134\n",
       "2  250mN280375E479300  48.165513  16.352823  1704.590909  103.389329\n",
       "3  250mN280400E479300  48.167753  16.353104  1697.578260  102.963988\n",
       "4  250mN280375E479325  48.165319  16.356172  1544.832599   93.699436\n",
       "5  250mN280400E479325  48.167559  16.356453  1463.046403   88.738820\n",
       "6  250mN280425E479300  48.169992  16.353386  1510.522561   91.618413\n",
       "7  250mN280450E479300  48.172232  16.353667  1553.287899   94.212279\n",
       "8  250mN280425E479325  48.169799  16.356735  1543.557863   93.622119\n",
       "9  250mN280450E479325  48.172039  16.357017  1562.110684   94.747411"
      ]
     },
     "execution_count": 39,
     "metadata": {},
     "output_type": "execute_result"
    }
   ],
   "source": [
    "import pandas as pd\n",
    "df = pd.read_csv('../data/raster250-sample.csv')\n",
    "df[['ID','LAT','LON','EURO_PK','IDX_AT_PK']][0:10]"
   ]
  },
  {
   "cell_type": "markdown",
   "id": "1ec78f41",
   "metadata": {
    "slideshow": {
     "slide_type": "notes"
    }
   },
   "source": [
    "Slide 10"
   ]
  },
  {
   "cell_type": "markdown",
   "id": "cb1cce50",
   "metadata": {
    "slideshow": {
     "slide_type": "slide"
    }
   },
   "source": [
    "## But!\n",
    "### * In tabular and relational representation, two columns of floats are hard to handle\n",
    "### * \"Find neighbors\", \"compare locations\", \"are these two areas are overlapping\" are expensive both in development and computation\n",
    "## Introducing Geohash"
   ]
  },
  {
   "cell_type": "code",
   "execution_count": 19,
   "id": "333cc798",
   "metadata": {
    "slideshow": {
     "slide_type": "notes"
    }
   },
   "outputs": [
    {
     "name": "stdout",
     "output_type": "stream",
     "text": [
      "Collecting geohash2\n",
      "  Downloading geohash2-1.1.tar.gz (15 kB)\n",
      "  Preparing metadata (setup.py) ... \u001b[?25ldone\n",
      "\u001b[?25hCollecting docutils>=0.3\n",
      "  Downloading docutils-0.20.1-py3-none-any.whl (572 kB)\n",
      "\u001b[2K     \u001b[90m━━━━━━━━━━━━━━━━━━━━━━━━━━━━━━━━━━━━━━━\u001b[0m \u001b[32m572.7/572.7 kB\u001b[0m \u001b[31m2.3 MB/s\u001b[0m eta \u001b[36m0:00:00\u001b[0ma \u001b[36m0:00:01\u001b[0m\n",
      "\u001b[?25hBuilding wheels for collected packages: geohash2\n",
      "  Building wheel for geohash2 (setup.py) ... \u001b[?25ldone\n",
      "\u001b[?25h  Created wheel for geohash2: filename=geohash2-1.1-py3-none-any.whl size=15543 sha256=953851bb1db19a7d86db625d76b9d9ed77e6f7c8805269f6612f5168d7305047\n",
      "  Stored in directory: /Users/rene/Library/Caches/pip/wheels/f6/7c/c4/1b3c6fea0ebc53bf730dc86bbee7a713d501455dfb4c1f0623\n",
      "Successfully built geohash2\n",
      "Installing collected packages: docutils, geohash2\n",
      "Successfully installed docutils-0.20.1 geohash2-1.1\n"
     ]
    }
   ],
   "source": [
    "!pip install geohash2"
   ]
  },
  {
   "cell_type": "code",
   "execution_count": 31,
   "id": "cf394a5f",
   "metadata": {},
   "outputs": [
    {
     "name": "stdout",
     "output_type": "stream",
     "text": [
      "Geohash for 48.078218,16.290442  \n",
      " 4 chars: u2e9 \n",
      " 6 chars: u2e9d8\n"
     ]
    }
   ],
   "source": [
    "import geohash2\n",
    "print ('Geohash for 48.078218,16.290442 ',\n",
    "       '\\n 4 chars:', geohash2.encode(48.078218,16.290442,4),\n",
    "       '\\n 6 chars:', geohash2.encode(48.078218,16.290442,6))"
   ]
  },
  {
   "cell_type": "markdown",
   "id": "837ea7d2",
   "metadata": {
    "slideshow": {
     "slide_type": "notes"
    }
   },
   "source": [
    "Slide 11"
   ]
  },
  {
   "cell_type": "markdown",
   "id": "44e73db3",
   "metadata": {
    "slideshow": {
     "slide_type": "slide"
    }
   },
   "source": [
    "## Think about like grouping \n",
    "### * Sorting, matching, and grouping based on strings"
   ]
  },
  {
   "cell_type": "code",
   "execution_count": 41,
   "id": "7d5ca719",
   "metadata": {},
   "outputs": [
    {
     "data": {
      "text/html": [
       "<div>\n",
       "<style scoped>\n",
       "    .dataframe tbody tr th:only-of-type {\n",
       "        vertical-align: middle;\n",
       "    }\n",
       "\n",
       "    .dataframe tbody tr th {\n",
       "        vertical-align: top;\n",
       "    }\n",
       "\n",
       "    .dataframe thead th {\n",
       "        text-align: right;\n",
       "    }\n",
       "</style>\n",
       "<table border=\"1\" class=\"dataframe\">\n",
       "  <thead>\n",
       "    <tr style=\"text-align: right;\">\n",
       "      <th></th>\n",
       "      <th>ID</th>\n",
       "      <th>LAT</th>\n",
       "      <th>LON</th>\n",
       "      <th>GEOH6</th>\n",
       "      <th>IDX_AT_PK</th>\n",
       "    </tr>\n",
       "  </thead>\n",
       "  <tbody>\n",
       "    <tr>\n",
       "      <th>0</th>\n",
       "      <td>250mN280400E479275</td>\n",
       "      <td>48.167946</td>\n",
       "      <td>16.349755</td>\n",
       "      <td>u2edh0</td>\n",
       "      <td>100.696290</td>\n",
       "    </tr>\n",
       "    <tr>\n",
       "      <th>2</th>\n",
       "      <td>250mN280375E479300</td>\n",
       "      <td>48.165513</td>\n",
       "      <td>16.352823</td>\n",
       "      <td>u2edh0</td>\n",
       "      <td>103.389329</td>\n",
       "    </tr>\n",
       "    <tr>\n",
       "      <th>3</th>\n",
       "      <td>250mN280400E479300</td>\n",
       "      <td>48.167753</td>\n",
       "      <td>16.353104</td>\n",
       "      <td>u2edh0</td>\n",
       "      <td>102.963988</td>\n",
       "    </tr>\n",
       "    <tr>\n",
       "      <th>4</th>\n",
       "      <td>250mN280375E479325</td>\n",
       "      <td>48.165319</td>\n",
       "      <td>16.356172</td>\n",
       "      <td>u2edh0</td>\n",
       "      <td>93.699436</td>\n",
       "    </tr>\n",
       "    <tr>\n",
       "      <th>5</th>\n",
       "      <td>250mN280400E479325</td>\n",
       "      <td>48.167559</td>\n",
       "      <td>16.356453</td>\n",
       "      <td>u2edh0</td>\n",
       "      <td>88.738820</td>\n",
       "    </tr>\n",
       "    <tr>\n",
       "      <th>13</th>\n",
       "      <td>250mN280475E479325</td>\n",
       "      <td>48.174279</td>\n",
       "      <td>16.357298</td>\n",
       "      <td>u2edh1</td>\n",
       "      <td>97.696048</td>\n",
       "    </tr>\n",
       "    <tr>\n",
       "      <th>12</th>\n",
       "      <td>250mN280475E479300</td>\n",
       "      <td>48.174472</td>\n",
       "      <td>16.353949</td>\n",
       "      <td>u2edh1</td>\n",
       "      <td>94.824149</td>\n",
       "    </tr>\n",
       "    <tr>\n",
       "      <th>10</th>\n",
       "      <td>250mN280475E479275</td>\n",
       "      <td>48.174666</td>\n",
       "      <td>16.350599</td>\n",
       "      <td>u2edh1</td>\n",
       "      <td>95.221514</td>\n",
       "    </tr>\n",
       "    <tr>\n",
       "      <th>9</th>\n",
       "      <td>250mN280450E479325</td>\n",
       "      <td>48.172039</td>\n",
       "      <td>16.357017</td>\n",
       "      <td>u2edh1</td>\n",
       "      <td>94.747411</td>\n",
       "    </tr>\n",
       "    <tr>\n",
       "      <th>7</th>\n",
       "      <td>250mN280450E479300</td>\n",
       "      <td>48.172232</td>\n",
       "      <td>16.353667</td>\n",
       "      <td>u2edh1</td>\n",
       "      <td>94.212279</td>\n",
       "    </tr>\n",
       "  </tbody>\n",
       "</table>\n",
       "</div>"
      ],
      "text/plain": [
       "                    ID        LAT        LON   GEOH6   IDX_AT_PK\n",
       "0   250mN280400E479275  48.167946  16.349755  u2edh0  100.696290\n",
       "2   250mN280375E479300  48.165513  16.352823  u2edh0  103.389329\n",
       "3   250mN280400E479300  48.167753  16.353104  u2edh0  102.963988\n",
       "4   250mN280375E479325  48.165319  16.356172  u2edh0   93.699436\n",
       "5   250mN280400E479325  48.167559  16.356453  u2edh0   88.738820\n",
       "13  250mN280475E479325  48.174279  16.357298  u2edh1   97.696048\n",
       "12  250mN280475E479300  48.174472  16.353949  u2edh1   94.824149\n",
       "10  250mN280475E479275  48.174666  16.350599  u2edh1   95.221514\n",
       "9   250mN280450E479325  48.172039  16.357017  u2edh1   94.747411\n",
       "7   250mN280450E479300  48.172232  16.353667  u2edh1   94.212279"
      ]
     },
     "execution_count": 41,
     "metadata": {},
     "output_type": "execute_result"
    }
   ],
   "source": [
    "import pandas as pd\n",
    "df = pd.read_csv('../data/raster250-sample.csv')\n",
    "df[['ID','LAT','LON','GEOH6','IDX_AT_PK']].sort_values(by=['GEOH6'])[0:10]"
   ]
  },
  {
   "cell_type": "markdown",
   "id": "b3423ad3",
   "metadata": {
    "slideshow": {
     "slide_type": "notes"
    }
   },
   "source": [
    "Slide 12"
   ]
  },
  {
   "cell_type": "markdown",
   "id": "cb3f964d",
   "metadata": {
    "slideshow": {
     "slide_type": "slide"
    }
   },
   "source": [
    "## Back to the maps\n",
    "* Maps are great, especially if they are interactive – and hard to manage if you need printing versions ;)\n",
    "* Browser-based maps are embeds from an online-service called \"tile map server\"\n",
    "* A framework will do the work for you"
   ]
  },
  {
   "cell_type": "code",
   "execution_count": 61,
   "id": "bc5f6030",
   "metadata": {
    "collapsed": true,
    "slideshow": {
     "slide_type": "-"
    }
   },
   "outputs": [
    {
     "data": {
      "text/html": [
       "<div style=\"width:100%;\"><div style=\"position:relative;width:100%;height:0;padding-bottom:60%;\"><span style=\"color:#565656\">Make this Notebook Trusted to load map: File -> Trust Notebook</span><iframe srcdoc=\"&lt;!DOCTYPE html&gt;\n",
       "&lt;html&gt;\n",
       "&lt;head&gt;\n",
       "    \n",
       "    &lt;meta http-equiv=&quot;content-type&quot; content=&quot;text/html; charset=UTF-8&quot; /&gt;\n",
       "    \n",
       "        &lt;script&gt;\n",
       "            L_NO_TOUCH = false;\n",
       "            L_DISABLE_3D = false;\n",
       "        &lt;/script&gt;\n",
       "    \n",
       "    &lt;style&gt;html, body {width: 100%;height: 100%;margin: 0;padding: 0;}&lt;/style&gt;\n",
       "    &lt;style&gt;#map {position:absolute;top:0;bottom:0;right:0;left:0;}&lt;/style&gt;\n",
       "    &lt;script src=&quot;https://cdn.jsdelivr.net/npm/leaflet@1.9.3/dist/leaflet.js&quot;&gt;&lt;/script&gt;\n",
       "    &lt;script src=&quot;https://code.jquery.com/jquery-1.12.4.min.js&quot;&gt;&lt;/script&gt;\n",
       "    &lt;script src=&quot;https://cdn.jsdelivr.net/npm/bootstrap@5.2.2/dist/js/bootstrap.bundle.min.js&quot;&gt;&lt;/script&gt;\n",
       "    &lt;script src=&quot;https://cdnjs.cloudflare.com/ajax/libs/Leaflet.awesome-markers/2.0.2/leaflet.awesome-markers.js&quot;&gt;&lt;/script&gt;\n",
       "    &lt;link rel=&quot;stylesheet&quot; href=&quot;https://cdn.jsdelivr.net/npm/leaflet@1.9.3/dist/leaflet.css&quot;/&gt;\n",
       "    &lt;link rel=&quot;stylesheet&quot; href=&quot;https://cdn.jsdelivr.net/npm/bootstrap@5.2.2/dist/css/bootstrap.min.css&quot;/&gt;\n",
       "    &lt;link rel=&quot;stylesheet&quot; href=&quot;https://netdna.bootstrapcdn.com/bootstrap/3.0.0/css/bootstrap.min.css&quot;/&gt;\n",
       "    &lt;link rel=&quot;stylesheet&quot; href=&quot;https://cdn.jsdelivr.net/npm/@fortawesome/fontawesome-free@6.2.0/css/all.min.css&quot;/&gt;\n",
       "    &lt;link rel=&quot;stylesheet&quot; href=&quot;https://cdnjs.cloudflare.com/ajax/libs/Leaflet.awesome-markers/2.0.2/leaflet.awesome-markers.css&quot;/&gt;\n",
       "    &lt;link rel=&quot;stylesheet&quot; href=&quot;https://cdn.jsdelivr.net/gh/python-visualization/folium/folium/templates/leaflet.awesome.rotate.min.css&quot;/&gt;\n",
       "    \n",
       "            &lt;meta name=&quot;viewport&quot; content=&quot;width=device-width,\n",
       "                initial-scale=1.0, maximum-scale=1.0, user-scalable=no&quot; /&gt;\n",
       "            &lt;style&gt;\n",
       "                #map_6c5bb1c9869e63299c4d65f40838a29b {\n",
       "                    position: relative;\n",
       "                    width: 100.0%;\n",
       "                    height: 300.0px;\n",
       "                    left: 0.0%;\n",
       "                    top: 0.0%;\n",
       "                }\n",
       "                .leaflet-container { font-size: 1rem; }\n",
       "            &lt;/style&gt;\n",
       "        \n",
       "&lt;/head&gt;\n",
       "&lt;body&gt;\n",
       "    \n",
       "    \n",
       "            &lt;div class=&quot;folium-map&quot; id=&quot;map_6c5bb1c9869e63299c4d65f40838a29b&quot; &gt;&lt;/div&gt;\n",
       "        \n",
       "&lt;/body&gt;\n",
       "&lt;script&gt;\n",
       "    \n",
       "    \n",
       "            var map_6c5bb1c9869e63299c4d65f40838a29b = L.map(\n",
       "                &quot;map_6c5bb1c9869e63299c4d65f40838a29b&quot;,\n",
       "                {\n",
       "                    center: [48.167559, 16.356453],\n",
       "                    crs: L.CRS.EPSG3857,\n",
       "                    zoom: 13,\n",
       "                    zoomControl: true,\n",
       "                    preferCanvas: false,\n",
       "                }\n",
       "            );\n",
       "\n",
       "            \n",
       "\n",
       "        \n",
       "    \n",
       "            var tile_layer_689e6c1e602285b52564490e1de7edbb = L.tileLayer(\n",
       "                &quot;https://{s}.tile.openstreetmap.org/{z}/{x}/{y}.png&quot;,\n",
       "                {&quot;attribution&quot;: &quot;Data by \\u0026copy; \\u003ca target=\\&quot;_blank\\&quot; href=\\&quot;http://openstreetmap.org\\&quot;\\u003eOpenStreetMap\\u003c/a\\u003e, under \\u003ca target=\\&quot;_blank\\&quot; href=\\&quot;http://www.openstreetmap.org/copyright\\&quot;\\u003eODbL\\u003c/a\\u003e.&quot;, &quot;detectRetina&quot;: false, &quot;maxNativeZoom&quot;: 18, &quot;maxZoom&quot;: 18, &quot;minZoom&quot;: 0, &quot;noWrap&quot;: false, &quot;opacity&quot;: 1, &quot;subdomains&quot;: &quot;abc&quot;, &quot;tms&quot;: false}\n",
       "            ).addTo(map_6c5bb1c9869e63299c4d65f40838a29b);\n",
       "        \n",
       "    \n",
       "            var marker_f67de541ddb74e7d5f2e9cf579204f79 = L.marker(\n",
       "                [48.167946, 16.349755],\n",
       "                {}\n",
       "            ).addTo(map_6c5bb1c9869e63299c4d65f40838a29b);\n",
       "        \n",
       "    \n",
       "            var icon_ec98623d4bf75b66df7ea5ce0ac1b131 = L.AwesomeMarkers.icon(\n",
       "                {&quot;extraClasses&quot;: &quot;fa-rotate-0&quot;, &quot;icon&quot;: &quot;info-sign&quot;, &quot;iconColor&quot;: &quot;white&quot;, &quot;markerColor&quot;: &quot;blue&quot;, &quot;prefix&quot;: &quot;glyphicon&quot;}\n",
       "            );\n",
       "            marker_f67de541ddb74e7d5f2e9cf579204f79.setIcon(icon_ec98623d4bf75b66df7ea5ce0ac1b131);\n",
       "        \n",
       "    \n",
       "        var popup_2c6ec6d42c7f38b5d4169c484a4ad219 = L.popup({&quot;maxWidth&quot;: &quot;100%&quot;});\n",
       "\n",
       "        \n",
       "            \n",
       "                var html_ab84449826f4de5376d67a36a76e313a = $(`&lt;div id=&quot;html_ab84449826f4de5376d67a36a76e313a&quot; style=&quot;width: 100.0%; height: 100.0%;&quot;&gt;Population: 245&lt;/div&gt;`)[0];\n",
       "                popup_2c6ec6d42c7f38b5d4169c484a4ad219.setContent(html_ab84449826f4de5376d67a36a76e313a);\n",
       "            \n",
       "        \n",
       "\n",
       "        marker_f67de541ddb74e7d5f2e9cf579204f79.bindPopup(popup_2c6ec6d42c7f38b5d4169c484a4ad219)\n",
       "        ;\n",
       "\n",
       "        \n",
       "    \n",
       "    \n",
       "            var marker_1bc23fe0d6b4f0aeeb705784d60471e0 = L.marker(\n",
       "                [48.170186, 16.350036],\n",
       "                {}\n",
       "            ).addTo(map_6c5bb1c9869e63299c4d65f40838a29b);\n",
       "        \n",
       "    \n",
       "            var icon_572d45452fc1743c037f04c5751f273e = L.AwesomeMarkers.icon(\n",
       "                {&quot;extraClasses&quot;: &quot;fa-rotate-0&quot;, &quot;icon&quot;: &quot;info-sign&quot;, &quot;iconColor&quot;: &quot;white&quot;, &quot;markerColor&quot;: &quot;blue&quot;, &quot;prefix&quot;: &quot;glyphicon&quot;}\n",
       "            );\n",
       "            marker_1bc23fe0d6b4f0aeeb705784d60471e0.setIcon(icon_572d45452fc1743c037f04c5751f273e);\n",
       "        \n",
       "    \n",
       "        var popup_fec6037e5bc72ee1c4f9f226c918097d = L.popup({&quot;maxWidth&quot;: &quot;100%&quot;});\n",
       "\n",
       "        \n",
       "            \n",
       "                var html_9ddd808e0ba189b50c5c74a75303aad2 = $(`&lt;div id=&quot;html_9ddd808e0ba189b50c5c74a75303aad2&quot; style=&quot;width: 100.0%; height: 100.0%;&quot;&gt;Population: 845&lt;/div&gt;`)[0];\n",
       "                popup_fec6037e5bc72ee1c4f9f226c918097d.setContent(html_9ddd808e0ba189b50c5c74a75303aad2);\n",
       "            \n",
       "        \n",
       "\n",
       "        marker_1bc23fe0d6b4f0aeeb705784d60471e0.bindPopup(popup_fec6037e5bc72ee1c4f9f226c918097d)\n",
       "        ;\n",
       "\n",
       "        \n",
       "    \n",
       "    \n",
       "            var marker_76ea953a9ee398c41ba40f9f1443b9b4 = L.marker(\n",
       "                [48.165513, 16.352823],\n",
       "                {}\n",
       "            ).addTo(map_6c5bb1c9869e63299c4d65f40838a29b);\n",
       "        \n",
       "    \n",
       "            var icon_b8d796c5db21669b5f8ed63a3bb1feca = L.AwesomeMarkers.icon(\n",
       "                {&quot;extraClasses&quot;: &quot;fa-rotate-0&quot;, &quot;icon&quot;: &quot;info-sign&quot;, &quot;iconColor&quot;: &quot;white&quot;, &quot;markerColor&quot;: &quot;blue&quot;, &quot;prefix&quot;: &quot;glyphicon&quot;}\n",
       "            );\n",
       "            marker_76ea953a9ee398c41ba40f9f1443b9b4.setIcon(icon_b8d796c5db21669b5f8ed63a3bb1feca);\n",
       "        \n",
       "    \n",
       "        var popup_660e0677b51b274e819100d7e84e9501 = L.popup({&quot;maxWidth&quot;: &quot;100%&quot;});\n",
       "\n",
       "        \n",
       "            \n",
       "                var html_11944b7cfb245bcff283b34df233f0c1 = $(`&lt;div id=&quot;html_11944b7cfb245bcff283b34df233f0c1&quot; style=&quot;width: 100.0%; height: 100.0%;&quot;&gt;Population: 71&lt;/div&gt;`)[0];\n",
       "                popup_660e0677b51b274e819100d7e84e9501.setContent(html_11944b7cfb245bcff283b34df233f0c1);\n",
       "            \n",
       "        \n",
       "\n",
       "        marker_76ea953a9ee398c41ba40f9f1443b9b4.bindPopup(popup_660e0677b51b274e819100d7e84e9501)\n",
       "        ;\n",
       "\n",
       "        \n",
       "    \n",
       "    \n",
       "            var marker_1a850d1f3bad291f0f42286923f82034 = L.marker(\n",
       "                [48.167753, 16.353104],\n",
       "                {}\n",
       "            ).addTo(map_6c5bb1c9869e63299c4d65f40838a29b);\n",
       "        \n",
       "    \n",
       "            var icon_c1b39ac7d259cd45155dfd050ab14c3e = L.AwesomeMarkers.icon(\n",
       "                {&quot;extraClasses&quot;: &quot;fa-rotate-0&quot;, &quot;icon&quot;: &quot;info-sign&quot;, &quot;iconColor&quot;: &quot;white&quot;, &quot;markerColor&quot;: &quot;blue&quot;, &quot;prefix&quot;: &quot;glyphicon&quot;}\n",
       "            );\n",
       "            marker_1a850d1f3bad291f0f42286923f82034.setIcon(icon_c1b39ac7d259cd45155dfd050ab14c3e);\n",
       "        \n",
       "    \n",
       "        var popup_9df30a445ec803d030753eecc7685312 = L.popup({&quot;maxWidth&quot;: &quot;100%&quot;});\n",
       "\n",
       "        \n",
       "            \n",
       "                var html_d154058d26c753d3da7e8636fee5bf00 = $(`&lt;div id=&quot;html_d154058d26c753d3da7e8636fee5bf00&quot; style=&quot;width: 100.0%; height: 100.0%;&quot;&gt;Population: 228&lt;/div&gt;`)[0];\n",
       "                popup_9df30a445ec803d030753eecc7685312.setContent(html_d154058d26c753d3da7e8636fee5bf00);\n",
       "            \n",
       "        \n",
       "\n",
       "        marker_1a850d1f3bad291f0f42286923f82034.bindPopup(popup_9df30a445ec803d030753eecc7685312)\n",
       "        ;\n",
       "\n",
       "        \n",
       "    \n",
       "    \n",
       "            var marker_3fc2af7622e6e39da8060d955bcd7b5a = L.marker(\n",
       "                [48.165319, 16.356172],\n",
       "                {}\n",
       "            ).addTo(map_6c5bb1c9869e63299c4d65f40838a29b);\n",
       "        \n",
       "    \n",
       "            var icon_ea53513a91bf4f12336219655c3a3fc4 = L.AwesomeMarkers.icon(\n",
       "                {&quot;extraClasses&quot;: &quot;fa-rotate-0&quot;, &quot;icon&quot;: &quot;info-sign&quot;, &quot;iconColor&quot;: &quot;white&quot;, &quot;markerColor&quot;: &quot;blue&quot;, &quot;prefix&quot;: &quot;glyphicon&quot;}\n",
       "            );\n",
       "            marker_3fc2af7622e6e39da8060d955bcd7b5a.setIcon(icon_ea53513a91bf4f12336219655c3a3fc4);\n",
       "        \n",
       "    \n",
       "        var popup_a35417e90c08c1085eac7d57644758b6 = L.popup({&quot;maxWidth&quot;: &quot;100%&quot;});\n",
       "\n",
       "        \n",
       "            \n",
       "                var html_f295a3da73100b7926d84332c2a3398e = $(`&lt;div id=&quot;html_f295a3da73100b7926d84332c2a3398e&quot; style=&quot;width: 100.0%; height: 100.0%;&quot;&gt;Population: 252&lt;/div&gt;`)[0];\n",
       "                popup_a35417e90c08c1085eac7d57644758b6.setContent(html_f295a3da73100b7926d84332c2a3398e);\n",
       "            \n",
       "        \n",
       "\n",
       "        marker_3fc2af7622e6e39da8060d955bcd7b5a.bindPopup(popup_a35417e90c08c1085eac7d57644758b6)\n",
       "        ;\n",
       "\n",
       "        \n",
       "    \n",
       "    \n",
       "            var marker_cd1b2f010f8deeb0dab25d228c4a218c = L.marker(\n",
       "                [48.167559, 16.356453],\n",
       "                {}\n",
       "            ).addTo(map_6c5bb1c9869e63299c4d65f40838a29b);\n",
       "        \n",
       "    \n",
       "            var icon_ec69939fb8956be6f35c6d9311d2500b = L.AwesomeMarkers.icon(\n",
       "                {&quot;extraClasses&quot;: &quot;fa-rotate-0&quot;, &quot;icon&quot;: &quot;info-sign&quot;, &quot;iconColor&quot;: &quot;white&quot;, &quot;markerColor&quot;: &quot;blue&quot;, &quot;prefix&quot;: &quot;glyphicon&quot;}\n",
       "            );\n",
       "            marker_cd1b2f010f8deeb0dab25d228c4a218c.setIcon(icon_ec69939fb8956be6f35c6d9311d2500b);\n",
       "        \n",
       "    \n",
       "        var popup_c1c646d60385e68b3376f780b6845a3b = L.popup({&quot;maxWidth&quot;: &quot;100%&quot;});\n",
       "\n",
       "        \n",
       "            \n",
       "                var html_bce1d39c5eef4942785de0a097f5b54a = $(`&lt;div id=&quot;html_bce1d39c5eef4942785de0a097f5b54a&quot; style=&quot;width: 100.0%; height: 100.0%;&quot;&gt;Population: 554&lt;/div&gt;`)[0];\n",
       "                popup_c1c646d60385e68b3376f780b6845a3b.setContent(html_bce1d39c5eef4942785de0a097f5b54a);\n",
       "            \n",
       "        \n",
       "\n",
       "        marker_cd1b2f010f8deeb0dab25d228c4a218c.bindPopup(popup_c1c646d60385e68b3376f780b6845a3b)\n",
       "        ;\n",
       "\n",
       "        \n",
       "    \n",
       "    \n",
       "            var marker_1c2daa8028d77095666ae4c90a56d390 = L.marker(\n",
       "                [48.169992, 16.353386],\n",
       "                {}\n",
       "            ).addTo(map_6c5bb1c9869e63299c4d65f40838a29b);\n",
       "        \n",
       "    \n",
       "            var icon_e8a6b7445c9b981c6b4dd09a8a43c8ee = L.AwesomeMarkers.icon(\n",
       "                {&quot;extraClasses&quot;: &quot;fa-rotate-0&quot;, &quot;icon&quot;: &quot;info-sign&quot;, &quot;iconColor&quot;: &quot;white&quot;, &quot;markerColor&quot;: &quot;blue&quot;, &quot;prefix&quot;: &quot;glyphicon&quot;}\n",
       "            );\n",
       "            marker_1c2daa8028d77095666ae4c90a56d390.setIcon(icon_e8a6b7445c9b981c6b4dd09a8a43c8ee);\n",
       "        \n",
       "    \n",
       "        var popup_a537db91c5052ea9cd867c4799d932c2 = L.popup({&quot;maxWidth&quot;: &quot;100%&quot;});\n",
       "\n",
       "        \n",
       "            \n",
       "                var html_18526ca62cebae61d4806484b4f2417e = $(`&lt;div id=&quot;html_18526ca62cebae61d4806484b4f2417e&quot; style=&quot;width: 100.0%; height: 100.0%;&quot;&gt;Population: 862&lt;/div&gt;`)[0];\n",
       "                popup_a537db91c5052ea9cd867c4799d932c2.setContent(html_18526ca62cebae61d4806484b4f2417e);\n",
       "            \n",
       "        \n",
       "\n",
       "        marker_1c2daa8028d77095666ae4c90a56d390.bindPopup(popup_a537db91c5052ea9cd867c4799d932c2)\n",
       "        ;\n",
       "\n",
       "        \n",
       "    \n",
       "    \n",
       "            var marker_4d88a82a3fd2d476f8eac57bc915b0ea = L.marker(\n",
       "                [48.172232, 16.353667],\n",
       "                {}\n",
       "            ).addTo(map_6c5bb1c9869e63299c4d65f40838a29b);\n",
       "        \n",
       "    \n",
       "            var icon_e5208955e99cc44d16b2b96b30b7b00a = L.AwesomeMarkers.icon(\n",
       "                {&quot;extraClasses&quot;: &quot;fa-rotate-0&quot;, &quot;icon&quot;: &quot;info-sign&quot;, &quot;iconColor&quot;: &quot;white&quot;, &quot;markerColor&quot;: &quot;blue&quot;, &quot;prefix&quot;: &quot;glyphicon&quot;}\n",
       "            );\n",
       "            marker_4d88a82a3fd2d476f8eac57bc915b0ea.setIcon(icon_e5208955e99cc44d16b2b96b30b7b00a);\n",
       "        \n",
       "    \n",
       "        var popup_b7bf8b6c4232607303769eaf39d35440 = L.popup({&quot;maxWidth&quot;: &quot;100%&quot;});\n",
       "\n",
       "        \n",
       "            \n",
       "                var html_e0635e09dc6e86abd0ea9a7821c4d298 = $(`&lt;div id=&quot;html_e0635e09dc6e86abd0ea9a7821c4d298&quot; style=&quot;width: 100.0%; height: 100.0%;&quot;&gt;Population: 2461&lt;/div&gt;`)[0];\n",
       "                popup_b7bf8b6c4232607303769eaf39d35440.setContent(html_e0635e09dc6e86abd0ea9a7821c4d298);\n",
       "            \n",
       "        \n",
       "\n",
       "        marker_4d88a82a3fd2d476f8eac57bc915b0ea.bindPopup(popup_b7bf8b6c4232607303769eaf39d35440)\n",
       "        ;\n",
       "\n",
       "        \n",
       "    \n",
       "    \n",
       "            var marker_740360742e418471db9007b34b1d5f8e = L.marker(\n",
       "                [48.169799, 16.356735],\n",
       "                {}\n",
       "            ).addTo(map_6c5bb1c9869e63299c4d65f40838a29b);\n",
       "        \n",
       "    \n",
       "            var icon_a2882e8f5357fc143cb67f1dd5eab225 = L.AwesomeMarkers.icon(\n",
       "                {&quot;extraClasses&quot;: &quot;fa-rotate-0&quot;, &quot;icon&quot;: &quot;info-sign&quot;, &quot;iconColor&quot;: &quot;white&quot;, &quot;markerColor&quot;: &quot;blue&quot;, &quot;prefix&quot;: &quot;glyphicon&quot;}\n",
       "            );\n",
       "            marker_740360742e418471db9007b34b1d5f8e.setIcon(icon_a2882e8f5357fc143cb67f1dd5eab225);\n",
       "        \n",
       "    \n",
       "        var popup_20cf04578a09d2945ffb0671fda094d6 = L.popup({&quot;maxWidth&quot;: &quot;100%&quot;});\n",
       "\n",
       "        \n",
       "            \n",
       "                var html_bd4853ec73b00a3d62cc2ba1fd666a70 = $(`&lt;div id=&quot;html_bd4853ec73b00a3d62cc2ba1fd666a70&quot; style=&quot;width: 100.0%; height: 100.0%;&quot;&gt;Population: 411&lt;/div&gt;`)[0];\n",
       "                popup_20cf04578a09d2945ffb0671fda094d6.setContent(html_bd4853ec73b00a3d62cc2ba1fd666a70);\n",
       "            \n",
       "        \n",
       "\n",
       "        marker_740360742e418471db9007b34b1d5f8e.bindPopup(popup_20cf04578a09d2945ffb0671fda094d6)\n",
       "        ;\n",
       "\n",
       "        \n",
       "    \n",
       "    \n",
       "            var marker_2817e0f03e2da6c97b7518337af72426 = L.marker(\n",
       "                [48.172039, 16.357017],\n",
       "                {}\n",
       "            ).addTo(map_6c5bb1c9869e63299c4d65f40838a29b);\n",
       "        \n",
       "    \n",
       "            var icon_6b5a0ff1cb69e6ae56ea5c9e0b89ac4a = L.AwesomeMarkers.icon(\n",
       "                {&quot;extraClasses&quot;: &quot;fa-rotate-0&quot;, &quot;icon&quot;: &quot;info-sign&quot;, &quot;iconColor&quot;: &quot;white&quot;, &quot;markerColor&quot;: &quot;blue&quot;, &quot;prefix&quot;: &quot;glyphicon&quot;}\n",
       "            );\n",
       "            marker_2817e0f03e2da6c97b7518337af72426.setIcon(icon_6b5a0ff1cb69e6ae56ea5c9e0b89ac4a);\n",
       "        \n",
       "    \n",
       "        var popup_9e6b8569c756e12e100b34780fe845e8 = L.popup({&quot;maxWidth&quot;: &quot;100%&quot;});\n",
       "\n",
       "        \n",
       "            \n",
       "                var html_bdc3f1752e32d3ea7276f3bd926d1a5c = $(`&lt;div id=&quot;html_bdc3f1752e32d3ea7276f3bd926d1a5c&quot; style=&quot;width: 100.0%; height: 100.0%;&quot;&gt;Population: 1752&lt;/div&gt;`)[0];\n",
       "                popup_9e6b8569c756e12e100b34780fe845e8.setContent(html_bdc3f1752e32d3ea7276f3bd926d1a5c);\n",
       "            \n",
       "        \n",
       "\n",
       "        marker_2817e0f03e2da6c97b7518337af72426.bindPopup(popup_9e6b8569c756e12e100b34780fe845e8)\n",
       "        ;\n",
       "\n",
       "        \n",
       "    \n",
       "&lt;/script&gt;\n",
       "&lt;/html&gt;\" style=\"position:absolute;width:100%;height:100%;left:0;top:0;border:none !important;\" allowfullscreen webkitallowfullscreen mozallowfullscreen></iframe></div></div>"
      ],
      "text/plain": [
       "<folium.folium.Map at 0x13c960dd0>"
      ]
     },
     "execution_count": 61,
     "metadata": {},
     "output_type": "execute_result"
    }
   ],
   "source": [
    "#Create the Map\n",
    "map_osm = folium.Map(location = [48.167559,16.356453],zoom_start = 13,height=300)\n",
    "map_osm\n",
    "#You Markler the point in Map\n",
    "for indice, row in df[0:10].iterrows():\n",
    "    folium.Marker(location=[row[\"LAT\"], row[\"LON\"]],popup=(\"Population: \" + str(row['POP'])),icon=folium.map.Icon(color='blue')).add_to(map_osm)\n",
    "map_osm"
   ]
  },
  {
   "cell_type": "markdown",
   "id": "321df893",
   "metadata": {
    "slideshow": {
     "slide_type": "notes"
    }
   },
   "source": [
    "Slide 13"
   ]
  },
  {
   "cell_type": "markdown",
   "id": "cda30e40",
   "metadata": {
    "slideshow": {
     "slide_type": "slide"
    }
   },
   "source": [
    "## Heatmaps"
   ]
  },
  {
   "cell_type": "code",
   "execution_count": 77,
   "id": "2c218f39",
   "metadata": {
    "collapsed": true,
    "slideshow": {
     "slide_type": "-"
    }
   },
   "outputs": [
    {
     "data": {
      "text/html": [
       "<div style=\"width:100%;\"><div style=\"position:relative;width:100%;height:0;padding-bottom:60%;\"><span style=\"color:#565656\">Make this Notebook Trusted to load map: File -> Trust Notebook</span><iframe srcdoc=\"&lt;!DOCTYPE html&gt;\n",
       "&lt;html&gt;\n",
       "&lt;head&gt;\n",
       "    \n",
       "    &lt;meta http-equiv=&quot;content-type&quot; content=&quot;text/html; charset=UTF-8&quot; /&gt;\n",
       "    \n",
       "        &lt;script&gt;\n",
       "            L_NO_TOUCH = false;\n",
       "            L_DISABLE_3D = false;\n",
       "        &lt;/script&gt;\n",
       "    \n",
       "    &lt;style&gt;html, body {width: 100%;height: 100%;margin: 0;padding: 0;}&lt;/style&gt;\n",
       "    &lt;style&gt;#map {position:absolute;top:0;bottom:0;right:0;left:0;}&lt;/style&gt;\n",
       "    &lt;script src=&quot;https://cdn.jsdelivr.net/npm/leaflet@1.9.3/dist/leaflet.js&quot;&gt;&lt;/script&gt;\n",
       "    &lt;script src=&quot;https://code.jquery.com/jquery-1.12.4.min.js&quot;&gt;&lt;/script&gt;\n",
       "    &lt;script src=&quot;https://cdn.jsdelivr.net/npm/bootstrap@5.2.2/dist/js/bootstrap.bundle.min.js&quot;&gt;&lt;/script&gt;\n",
       "    &lt;script src=&quot;https://cdnjs.cloudflare.com/ajax/libs/Leaflet.awesome-markers/2.0.2/leaflet.awesome-markers.js&quot;&gt;&lt;/script&gt;\n",
       "    &lt;link rel=&quot;stylesheet&quot; href=&quot;https://cdn.jsdelivr.net/npm/leaflet@1.9.3/dist/leaflet.css&quot;/&gt;\n",
       "    &lt;link rel=&quot;stylesheet&quot; href=&quot;https://cdn.jsdelivr.net/npm/bootstrap@5.2.2/dist/css/bootstrap.min.css&quot;/&gt;\n",
       "    &lt;link rel=&quot;stylesheet&quot; href=&quot;https://netdna.bootstrapcdn.com/bootstrap/3.0.0/css/bootstrap.min.css&quot;/&gt;\n",
       "    &lt;link rel=&quot;stylesheet&quot; href=&quot;https://cdn.jsdelivr.net/npm/@fortawesome/fontawesome-free@6.2.0/css/all.min.css&quot;/&gt;\n",
       "    &lt;link rel=&quot;stylesheet&quot; href=&quot;https://cdnjs.cloudflare.com/ajax/libs/Leaflet.awesome-markers/2.0.2/leaflet.awesome-markers.css&quot;/&gt;\n",
       "    &lt;link rel=&quot;stylesheet&quot; href=&quot;https://cdn.jsdelivr.net/gh/python-visualization/folium/folium/templates/leaflet.awesome.rotate.min.css&quot;/&gt;\n",
       "    \n",
       "            &lt;meta name=&quot;viewport&quot; content=&quot;width=device-width,\n",
       "                initial-scale=1.0, maximum-scale=1.0, user-scalable=no&quot; /&gt;\n",
       "            &lt;style&gt;\n",
       "                #map_94cd63b8a2998e2ec9dc13f10fdba769 {\n",
       "                    position: relative;\n",
       "                    width: 100.0%;\n",
       "                    height: 300.0px;\n",
       "                    left: 0.0%;\n",
       "                    top: 0.0%;\n",
       "                }\n",
       "                .leaflet-container { font-size: 1rem; }\n",
       "            &lt;/style&gt;\n",
       "        \n",
       "    &lt;script src=&quot;https://cdn.jsdelivr.net/gh/python-visualization/folium@main/folium/templates/leaflet_heat.min.js&quot;&gt;&lt;/script&gt;\n",
       "&lt;/head&gt;\n",
       "&lt;body&gt;\n",
       "    \n",
       "    \n",
       "            &lt;div class=&quot;folium-map&quot; id=&quot;map_94cd63b8a2998e2ec9dc13f10fdba769&quot; &gt;&lt;/div&gt;\n",
       "        \n",
       "&lt;/body&gt;\n",
       "&lt;script&gt;\n",
       "    \n",
       "    \n",
       "            var map_94cd63b8a2998e2ec9dc13f10fdba769 = L.map(\n",
       "                &quot;map_94cd63b8a2998e2ec9dc13f10fdba769&quot;,\n",
       "                {\n",
       "                    center: [48.167559, 16.356453],\n",
       "                    crs: L.CRS.EPSG3857,\n",
       "                    zoom: 14,\n",
       "                    zoomControl: true,\n",
       "                    preferCanvas: false,\n",
       "                }\n",
       "            );\n",
       "\n",
       "            \n",
       "\n",
       "        \n",
       "    \n",
       "            var tile_layer_c0551fc597f7ea45a1b0c6a4b699d6fa = L.tileLayer(\n",
       "                &quot;https://{s}.tile.openstreetmap.org/{z}/{x}/{y}.png&quot;,\n",
       "                {&quot;attribution&quot;: &quot;Data by \\u0026copy; \\u003ca target=\\&quot;_blank\\&quot; href=\\&quot;http://openstreetmap.org\\&quot;\\u003eOpenStreetMap\\u003c/a\\u003e, under \\u003ca target=\\&quot;_blank\\&quot; href=\\&quot;http://www.openstreetmap.org/copyright\\&quot;\\u003eODbL\\u003c/a\\u003e.&quot;, &quot;detectRetina&quot;: false, &quot;maxNativeZoom&quot;: 18, &quot;maxZoom&quot;: 18, &quot;minZoom&quot;: 0, &quot;noWrap&quot;: false, &quot;opacity&quot;: 1, &quot;subdomains&quot;: &quot;abc&quot;, &quot;tms&quot;: false}\n",
       "            ).addTo(map_94cd63b8a2998e2ec9dc13f10fdba769);\n",
       "        \n",
       "    \n",
       "            var heat_map_25f5604ab5b932cd036a70fd919f880a = L.heatLayer(\n",
       "                [[48.167946, 16.349755, 245.0], [48.170186, 16.350036, 845.0], [48.165513, 16.352823, 71.0], [48.167753, 16.353104, 228.0], [48.165319, 16.356172, 252.0], [48.167559, 16.356453, 554.0], [48.169992, 16.353386, 862.0], [48.172232, 16.353667, 2461.0], [48.169799, 16.356735, 411.0], [48.172039, 16.357017, 1752.0]],\n",
       "                {&quot;blur&quot;: 15, &quot;maxZoom&quot;: 18, &quot;minOpacity&quot;: 0.5, &quot;radius&quot;: 25}\n",
       "            ).addTo(map_94cd63b8a2998e2ec9dc13f10fdba769);\n",
       "        \n",
       "&lt;/script&gt;\n",
       "&lt;/html&gt;\" style=\"position:absolute;width:100%;height:100%;left:0;top:0;border:none !important;\" allowfullscreen webkitallowfullscreen mozallowfullscreen></iframe></div></div>"
      ],
      "text/plain": [
       "<folium.folium.Map at 0x13ae43650>"
      ]
     },
     "execution_count": 77,
     "metadata": {},
     "output_type": "execute_result"
    }
   ],
   "source": [
    "import folium\n",
    "from folium.plugins import HeatMap\n",
    "map_obj = folium.Map(location = [48.167559,16.356453], zoom_start = 14, height = 300)\n",
    "lats_longs = df[0:10][['LAT','LON','POP']].to_numpy()\n",
    "HeatMap(lats_longs).add_to(map_obj)\n",
    "map_obj"
   ]
  },
  {
   "cell_type": "markdown",
   "id": "50a601ac",
   "metadata": {
    "slideshow": {
     "slide_type": "notes"
    }
   },
   "source": [
    "Slide 14"
   ]
  },
  {
   "cell_type": "markdown",
   "id": "bc684ed7",
   "metadata": {
    "slideshow": {
     "slide_type": "slide"
    }
   },
   "source": [
    "## Map services\n",
    "### Different styles, different availebilities, different costs\n",
    "### Vector & Image maps (like sat images)"
   ]
  },
  {
   "cell_type": "code",
   "execution_count": 86,
   "id": "fdb2d2b7",
   "metadata": {
    "scrolled": true
   },
   "outputs": [
    {
     "data": {
      "text/html": [
       "<div style=\"width:100%;\"><div style=\"position:relative;width:100%;height:0;padding-bottom:60%;\"><span style=\"color:#565656\">Make this Notebook Trusted to load map: File -> Trust Notebook</span><iframe srcdoc=\"&lt;!DOCTYPE html&gt;\n",
       "&lt;html&gt;\n",
       "&lt;head&gt;\n",
       "    \n",
       "    &lt;meta http-equiv=&quot;content-type&quot; content=&quot;text/html; charset=UTF-8&quot; /&gt;\n",
       "    \n",
       "        &lt;script&gt;\n",
       "            L_NO_TOUCH = false;\n",
       "            L_DISABLE_3D = false;\n",
       "        &lt;/script&gt;\n",
       "    \n",
       "    &lt;style&gt;html, body {width: 100%;height: 100%;margin: 0;padding: 0;}&lt;/style&gt;\n",
       "    &lt;style&gt;#map {position:absolute;top:0;bottom:0;right:0;left:0;}&lt;/style&gt;\n",
       "    &lt;script src=&quot;https://cdn.jsdelivr.net/npm/leaflet@1.9.3/dist/leaflet.js&quot;&gt;&lt;/script&gt;\n",
       "    &lt;script src=&quot;https://code.jquery.com/jquery-1.12.4.min.js&quot;&gt;&lt;/script&gt;\n",
       "    &lt;script src=&quot;https://cdn.jsdelivr.net/npm/bootstrap@5.2.2/dist/js/bootstrap.bundle.min.js&quot;&gt;&lt;/script&gt;\n",
       "    &lt;script src=&quot;https://cdnjs.cloudflare.com/ajax/libs/Leaflet.awesome-markers/2.0.2/leaflet.awesome-markers.js&quot;&gt;&lt;/script&gt;\n",
       "    &lt;link rel=&quot;stylesheet&quot; href=&quot;https://cdn.jsdelivr.net/npm/leaflet@1.9.3/dist/leaflet.css&quot;/&gt;\n",
       "    &lt;link rel=&quot;stylesheet&quot; href=&quot;https://cdn.jsdelivr.net/npm/bootstrap@5.2.2/dist/css/bootstrap.min.css&quot;/&gt;\n",
       "    &lt;link rel=&quot;stylesheet&quot; href=&quot;https://netdna.bootstrapcdn.com/bootstrap/3.0.0/css/bootstrap.min.css&quot;/&gt;\n",
       "    &lt;link rel=&quot;stylesheet&quot; href=&quot;https://cdn.jsdelivr.net/npm/@fortawesome/fontawesome-free@6.2.0/css/all.min.css&quot;/&gt;\n",
       "    &lt;link rel=&quot;stylesheet&quot; href=&quot;https://cdnjs.cloudflare.com/ajax/libs/Leaflet.awesome-markers/2.0.2/leaflet.awesome-markers.css&quot;/&gt;\n",
       "    &lt;link rel=&quot;stylesheet&quot; href=&quot;https://cdn.jsdelivr.net/gh/python-visualization/folium/folium/templates/leaflet.awesome.rotate.min.css&quot;/&gt;\n",
       "    \n",
       "            &lt;meta name=&quot;viewport&quot; content=&quot;width=device-width,\n",
       "                initial-scale=1.0, maximum-scale=1.0, user-scalable=no&quot; /&gt;\n",
       "            &lt;style&gt;\n",
       "                #map_183f56b8dfd050266b6918d28343413d {\n",
       "                    position: relative;\n",
       "                    width: 100.0%;\n",
       "                    height: 300.0px;\n",
       "                    left: 0.0%;\n",
       "                    top: 0.0%;\n",
       "                }\n",
       "                .leaflet-container { font-size: 1rem; }\n",
       "            &lt;/style&gt;\n",
       "        \n",
       "    &lt;script src=&quot;https://cdn.jsdelivr.net/gh/python-visualization/folium@main/folium/templates/leaflet_heat.min.js&quot;&gt;&lt;/script&gt;\n",
       "&lt;/head&gt;\n",
       "&lt;body&gt;\n",
       "    \n",
       "    \n",
       "            &lt;div class=&quot;folium-map&quot; id=&quot;map_183f56b8dfd050266b6918d28343413d&quot; &gt;&lt;/div&gt;\n",
       "        \n",
       "&lt;/body&gt;\n",
       "&lt;script&gt;\n",
       "    \n",
       "    \n",
       "            var map_183f56b8dfd050266b6918d28343413d = L.map(\n",
       "                &quot;map_183f56b8dfd050266b6918d28343413d&quot;,\n",
       "                {\n",
       "                    center: [48.167559, 16.356453],\n",
       "                    crs: L.CRS.EPSG3857,\n",
       "                    zoom: 14,\n",
       "                    zoomControl: true,\n",
       "                    preferCanvas: false,\n",
       "                }\n",
       "            );\n",
       "\n",
       "            \n",
       "\n",
       "        \n",
       "    \n",
       "            var tile_layer_7b4266ba9787fd2275100158af66d25e = L.tileLayer(\n",
       "                &quot;https://stamen-tiles-{s}.a.ssl.fastly.net/toner/{z}/{x}/{y}.png&quot;,\n",
       "                {&quot;attribution&quot;: &quot;Map tiles by \\u003ca target=\\&quot;_blank\\&quot; href=\\&quot;http://stamen.com\\&quot;\\u003eStamen Design\\u003c/a\\u003e, under \\u003ca target=\\&quot;_blank\\&quot; href=\\&quot;http://creativecommons.org/licenses/by/3.0\\&quot;\\u003eCC BY 3.0\\u003c/a\\u003e. Data by \\u0026copy; \\u003ca target=\\&quot;_blank\\&quot; href=\\&quot;http://openstreetmap.org\\&quot;\\u003eOpenStreetMap\\u003c/a\\u003e, under \\u003ca target=\\&quot;_blank\\&quot; href=\\&quot;http://www.openstreetmap.org/copyright\\&quot;\\u003eODbL\\u003c/a\\u003e.&quot;, &quot;detectRetina&quot;: false, &quot;maxNativeZoom&quot;: 18, &quot;maxZoom&quot;: 18, &quot;minZoom&quot;: 0, &quot;noWrap&quot;: false, &quot;opacity&quot;: 1, &quot;subdomains&quot;: &quot;abc&quot;, &quot;tms&quot;: false}\n",
       "            ).addTo(map_183f56b8dfd050266b6918d28343413d);\n",
       "        \n",
       "    \n",
       "            var heat_map_b43f5bd409a5486a9702546c846db862 = L.heatLayer(\n",
       "                [[48.167946, 16.349755, 185.812962], [48.170186, 16.350036, 561.995497], [48.165513, 16.352823, 161.007564], [48.167753, 16.353104, 483.753265], [48.165319, 16.356172, 420.727509], [48.167559, 16.356453, 369.646501], [48.169992, 16.353386, 627.832475], [48.172232, 16.353667, 1069.89027], [48.169799, 16.356735, 305.818047], [48.172039, 16.357017, 609.565694]],\n",
       "                {&quot;blur&quot;: 15, &quot;maxZoom&quot;: 18, &quot;minOpacity&quot;: 0.5, &quot;radius&quot;: 25}\n",
       "            ).addTo(map_183f56b8dfd050266b6918d28343413d);\n",
       "        \n",
       "&lt;/script&gt;\n",
       "&lt;/html&gt;\" style=\"position:absolute;width:100%;height:100%;left:0;top:0;border:none !important;\" allowfullscreen webkitallowfullscreen mozallowfullscreen></iframe></div></div>"
      ],
      "text/plain": [
       "<folium.folium.Map at 0x13cfb4f90>"
      ]
     },
     "execution_count": 86,
     "metadata": {},
     "output_type": "execute_result"
    }
   ],
   "source": [
    "import folium\n",
    "from folium.plugins import HeatMap\n",
    "map_obj = folium.Map(\n",
    "    tiles='Stamen Toner', \n",
    "    location = [48.167559,16.356453], zoom_start = 14, height = 300)\n",
    "lats_longs = df[0:10][['LAT','LON','IDX_ZS_SUM']].to_numpy()\n",
    "HeatMap(lats_longs).add_to(map_obj)\n",
    "map_obj"
   ]
  },
  {
   "cell_type": "code",
   "execution_count": 87,
   "id": "0a72e148",
   "metadata": {},
   "outputs": [
    {
     "name": "stdout",
     "output_type": "stream",
     "text": [
      "Looking in indexes: https://pypi.org/simple, https://repo.platform.here.com/artifactory/api/pypi/analytics-pypi/simple/\n",
      "Collecting here-platform==2.21.0\n",
      "  Downloading https://repo.platform.here.com/artifactory/api/pypi/analytics-pypi/here-platform/2.21.0/here_platform-2.21.0-py3-none-any.whl (178 kB)\n",
      "\u001b[2K     \u001b[90m━━━━━━━━━━━━━━━━━━━━━━━━━━━━━━━━━━━━━\u001b[0m \u001b[32m178.2/178.2 kB\u001b[0m \u001b[31m515.9 kB/s\u001b[0m eta \u001b[36m0:00:00\u001b[0ma \u001b[36m0:00:01\u001b[0m\n",
      "\u001b[?25hCollecting here-geotiles==2.21.0\n",
      "  Downloading https://repo.platform.here.com/artifactory/api/pypi/analytics-pypi/here-geotiles/2.21.0/here_geotiles-2.21.0-py3-none-any.whl (7.1 kB)\n",
      "Collecting here-geopandas-adapter==2.21.0\n",
      "  Downloading https://repo.platform.here.com/artifactory/api/pypi/analytics-pypi/here-geopandas-adapter/2.21.0/here_geopandas_adapter-2.21.0-py3-none-any.whl (27 kB)\n",
      "Collecting here-content==2.21.0\n",
      "  Downloading https://repo.platform.here.com/artifactory/api/pypi/analytics-pypi/here-content/2.21.0/here_content-2.21.0-py3-none-any.whl (115 kB)\n",
      "\u001b[2K     \u001b[90m━━━━━━━━━━━━━━━━━━━━━━━━━━━━━━━━━━━━━━━\u001b[0m \u001b[32m115.3/115.3 kB\u001b[0m \u001b[31m4.5 MB/s\u001b[0m eta \u001b[36m0:00:00\u001b[0m\n",
      "\u001b[?25hCollecting here-inspector==2.21.0\n",
      "  Downloading https://repo.platform.here.com/artifactory/api/pypi/analytics-pypi/here-inspector/2.21.0/here_inspector-2.21.0-py3-none-any.whl (28 kB)\n",
      "Collecting aiohttp\n",
      "  Downloading aiohttp-3.8.4-cp311-cp311-macosx_10_9_x86_64.whl (355 kB)\n",
      "\u001b[2K     \u001b[90m━━━━━━━━━━━━━━━━━━━━━━━━━━━━━━━━━━━━━━━\u001b[0m \u001b[32m355.1/355.1 kB\u001b[0m \u001b[31m2.2 MB/s\u001b[0m eta \u001b[36m0:00:00\u001b[0ma \u001b[36m0:00:01\u001b[0m\n",
      "\u001b[?25hCollecting backoff\n",
      "  Downloading backoff-2.2.1-py3-none-any.whl (15 kB)\n",
      "Collecting Deprecated>=1.2\n",
      "  Downloading Deprecated-1.2.14-py2.py3-none-any.whl (9.6 kB)\n",
      "Collecting geojson>=2.5.0\n",
      "  Downloading geojson-3.0.1-py3-none-any.whl (15 kB)\n",
      "Collecting jproperties\n",
      "  Downloading jproperties-2.1.1-py2.py3-none-any.whl (17 kB)\n",
      "Requirement already satisfied: requests in /usr/local/Caskroom/miniconda/base/envs/pd/lib/python3.11/site-packages (from here-platform==2.21.0) (2.28.1)\n",
      "Collecting requests-oauthlib\n",
      "  Downloading requests_oauthlib-1.3.1-py2.py3-none-any.whl (23 kB)\n",
      "Collecting kafka-python>=2.0\n",
      "  Downloading kafka_python-2.0.2-py2.py3-none-any.whl (246 kB)\n",
      "\u001b[2K     \u001b[90m━━━━━━━━━━━━━━━━━━━━━━━━━━━━━━━━━━━━━━━\u001b[0m \u001b[32m246.5/246.5 kB\u001b[0m \u001b[31m1.9 MB/s\u001b[0m eta \u001b[36m0:00:00\u001b[0ma \u001b[36m0:00:01\u001b[0m\n",
      "\u001b[?25hCollecting protobuf==4.21.12\n",
      "  Downloading protobuf-4.21.12-cp37-abi3-macosx_10_9_universal2.whl (486 kB)\n",
      "\u001b[2K     \u001b[90m━━━━━━━━━━━━━━━━━━━━━━━━━━━━━━━━━━━━━━━\u001b[0m \u001b[32m486.2/486.2 kB\u001b[0m \u001b[31m1.8 MB/s\u001b[0m eta \u001b[36m0:00:00\u001b[0ma \u001b[36m0:00:01\u001b[0m\n",
      "\u001b[?25hCollecting mapquadlib>=0.3.1\n",
      "  Downloading https://repo.platform.here.com/artifactory/api/pypi/analytics-pypi/mapquadlib/0.3.5/mapquadlib-0.3.5-py2.py3-none-any.whl (18 kB)\n",
      "Collecting shapely\n",
      "  Downloading shapely-2.0.1-cp311-cp311-macosx_10_9_x86_64.whl (1.4 MB)\n",
      "\u001b[2K     \u001b[90m━━━━━━━━━━━━━━━━━━━━━━━━━━━━━━━━━━━━━━━━\u001b[0m \u001b[32m1.4/1.4 MB\u001b[0m \u001b[31m3.2 MB/s\u001b[0m eta \u001b[36m0:00:00\u001b[0ma \u001b[36m0:00:01\u001b[0m\n",
      "\u001b[?25hRequirement already satisfied: pandas==1.5.3 in /usr/local/Caskroom/miniconda/base/envs/pd/lib/python3.11/site-packages (from here-geopandas-adapter==2.21.0) (1.5.3)\n",
      "Collecting geopandas>=0.10\n",
      "  Downloading geopandas-0.13.2-py3-none-any.whl (1.1 MB)\n",
      "\u001b[2K     \u001b[90m━━━━━━━━━━━━━━━━━━━━━━━━━━━━━━━━━━━━━━━━\u001b[0m \u001b[32m1.1/1.1 MB\u001b[0m \u001b[31m3.3 MB/s\u001b[0m eta \u001b[36m0:00:00\u001b[0ma \u001b[36m0:00:01\u001b[0m\n",
      "\u001b[?25hRequirement already satisfied: pyarrow>=6.0.1 in /usr/local/Caskroom/miniconda/base/envs/pd/lib/python3.11/site-packages (from here-geopandas-adapter==2.21.0) (10.0.1)\n",
      "Collecting fastparquet>=0.6.0\n",
      "  Downloading fastparquet-2023.4.0-cp311-cp311-macosx_10_9_universal2.whl (784 kB)\n",
      "\u001b[2K     \u001b[90m━━━━━━━━━━━━━━━━━━━━━━━━━━━━━━━━━━━━━━━\u001b[0m \u001b[32m784.3/784.3 kB\u001b[0m \u001b[31m4.0 MB/s\u001b[0m eta \u001b[36m0:00:00\u001b[0m00:01\u001b[0m00:01\u001b[0m\n",
      "\u001b[?25hCollecting ipyleaflet<0.15.0,>=0.13.6\n",
      "  Downloading ipyleaflet-0.14.0-py2.py3-none-any.whl (3.3 MB)\n",
      "\u001b[2K     \u001b[90m━━━━━━━━━━━━━━━━━━━━━━━━━━━━━━━━━━━━━━━━\u001b[0m \u001b[32m3.3/3.3 MB\u001b[0m \u001b[31m4.9 MB/s\u001b[0m eta \u001b[36m0:00:00\u001b[0m00:01\u001b[0m00:01\u001b[0m\n",
      "\u001b[?25hCollecting xyzservices>=2022.4.0\n",
      "  Downloading xyzservices-2023.5.0-py3-none-any.whl (56 kB)\n",
      "\u001b[2K     \u001b[90m━━━━━━━━━━━━━━━━━━━━━━━━━━━━━━━━━━━━━━━━\u001b[0m \u001b[32m56.5/56.5 kB\u001b[0m \u001b[31m4.6 MB/s\u001b[0m eta \u001b[36m0:00:00\u001b[0m\n",
      "\u001b[?25hCollecting here-map-widget-for-jupyter>=1.1.2\n",
      "  Downloading here_map_widget_for_jupyter-1.1.3-py2.py3-none-any.whl (5.4 MB)\n",
      "\u001b[2K     \u001b[90m━━━━━━━━━━━━━━━━━━━━━━━━━━━━━━━━━━━━━━━━\u001b[0m \u001b[32m5.4/5.4 MB\u001b[0m \u001b[31m5.0 MB/s\u001b[0m eta \u001b[36m0:00:00\u001b[0m00:01\u001b[0m00:01\u001b[0m\n",
      "\u001b[?25hCollecting keplergl==0.3.2\n",
      "  Downloading keplergl-0.3.2.tar.gz (9.7 MB)\n",
      "\u001b[2K     \u001b[90m━━━━━━━━━━━━━━━━━━━━━━━━━━━━━━━━━━━━━━━━\u001b[0m \u001b[32m9.7/9.7 MB\u001b[0m \u001b[31m6.5 MB/s\u001b[0m eta \u001b[36m0:00:00\u001b[0m00:01\u001b[0m00:01\u001b[0m\n",
      "\u001b[?25h  Installing build dependencies ... \u001b[?25ldone\n",
      "\u001b[?25h  Getting requirements to build wheel ... \u001b[?25ldone\n",
      "\u001b[?25h  Preparing metadata (pyproject.toml) ... \u001b[?25ldone\n",
      "\u001b[?25hCollecting ipywidgets<8,>=7.0.0\n",
      "  Downloading ipywidgets-7.7.5-py2.py3-none-any.whl (123 kB)\n",
      "\u001b[2K     \u001b[90m━━━━━━━━━━━━━━━━━━━━━━━━━━━━━━━━━━━━━━━\u001b[0m \u001b[32m123.9/123.9 kB\u001b[0m \u001b[31m4.8 MB/s\u001b[0m eta \u001b[36m0:00:00\u001b[0m\n",
      "\u001b[?25hCollecting traittypes>=0.2.1\n",
      "  Downloading traittypes-0.2.1-py2.py3-none-any.whl (8.6 kB)\n",
      "Requirement already satisfied: python-dateutil>=2.8.1 in /usr/local/Caskroom/miniconda/base/envs/pd/lib/python3.11/site-packages (from pandas==1.5.3->here-geopandas-adapter==2.21.0) (2.8.2)\n",
      "Requirement already satisfied: pytz>=2020.1 in /usr/local/Caskroom/miniconda/base/envs/pd/lib/python3.11/site-packages (from pandas==1.5.3->here-geopandas-adapter==2.21.0) (2022.7)\n",
      "Requirement already satisfied: numpy>=1.21.0 in /usr/local/Caskroom/miniconda/base/envs/pd/lib/python3.11/site-packages (from pandas==1.5.3->here-geopandas-adapter==2.21.0) (1.23.5)\n",
      "Collecting wrapt<2,>=1.10\n",
      "  Downloading wrapt-1.15.0-cp311-cp311-macosx_10_9_x86_64.whl (35 kB)\n",
      "Collecting cramjam>=2.3\n",
      "  Downloading cramjam-2.6.2-cp311-cp311-macosx_10_9_x86_64.macosx_11_0_arm64.macosx_10_9_universal2.whl (3.2 MB)\n",
      "\u001b[2K     \u001b[90m━━━━━━━━━━━━━━━━━━━━━━━━━━━━━━━━━━━━━━━━\u001b[0m \u001b[32m3.2/3.2 MB\u001b[0m \u001b[31m4.1 MB/s\u001b[0m eta \u001b[36m0:00:00\u001b[0m00:01\u001b[0m00:01\u001b[0m\n",
      "\u001b[?25hCollecting fsspec\n",
      "  Downloading fsspec-2023.6.0-py3-none-any.whl (163 kB)\n",
      "\u001b[2K     \u001b[90m━━━━━━━━━━━━━━━━━━━━━━━━━━━━━━━━━━━━━━━\u001b[0m \u001b[32m163.8/163.8 kB\u001b[0m \u001b[31m6.2 MB/s\u001b[0m eta \u001b[36m0:00:00\u001b[0m\n",
      "\u001b[?25hRequirement already satisfied: packaging in /usr/local/Caskroom/miniconda/base/envs/pd/lib/python3.11/site-packages (from fastparquet>=0.6.0->here-geopandas-adapter==2.21.0) (23.0)\n",
      "Collecting fiona>=1.8.19\n",
      "  Downloading Fiona-1.9.4.post1.tar.gz (924 kB)\n",
      "\u001b[2K     \u001b[90m━━━━━━━━━━━━━━━━━━━━━━━━━━━━━━━━━━━━━━━\u001b[0m \u001b[32m924.3/924.3 kB\u001b[0m \u001b[31m6.0 MB/s\u001b[0m eta \u001b[36m0:00:00\u001b[0m00:01\u001b[0m00:01\u001b[0m\n",
      "\u001b[?25h  Installing build dependencies ... \u001b[?25ldone\n",
      "\u001b[?25h  Getting requirements to build wheel ... \u001b[?25lerror\n",
      "  \u001b[1;31merror\u001b[0m: \u001b[1msubprocess-exited-with-error\u001b[0m\n",
      "  \n",
      "  \u001b[31m×\u001b[0m \u001b[32mGetting requirements to build wheel\u001b[0m did not run successfully.\n",
      "  \u001b[31m│\u001b[0m exit code: \u001b[1;36m1\u001b[0m\n",
      "  \u001b[31m╰─>\u001b[0m \u001b[31m[3 lines of output]\u001b[0m\n",
      "  \u001b[31m   \u001b[0m <string>:86: DeprecationWarning: The 'warn' function is deprecated, use 'warning' instead\n",
      "  \u001b[31m   \u001b[0m WARNING:root:Failed to get options via gdal-config: [Errno 2] No such file or directory: 'gdal-config'\n",
      "  \u001b[31m   \u001b[0m CRITICAL:root:A GDAL API version must be specified. Provide a path to gdal-config using a GDAL_CONFIG environment variable or use a GDAL_VERSION environment variable.\n",
      "  \u001b[31m   \u001b[0m \u001b[31m[end of output]\u001b[0m\n",
      "  \n",
      "  \u001b[1;35mnote\u001b[0m: This error originates from a subprocess, and is likely not a problem with pip.\n",
      "\u001b[1;31merror\u001b[0m: \u001b[1msubprocess-exited-with-error\u001b[0m\n",
      "\n",
      "\u001b[31m×\u001b[0m \u001b[32mGetting requirements to build wheel\u001b[0m did not run successfully.\n",
      "\u001b[31m│\u001b[0m exit code: \u001b[1;36m1\u001b[0m\n",
      "\u001b[31m╰─>\u001b[0m See above for output.\n",
      "\n",
      "\u001b[1;35mnote\u001b[0m: This error originates from a subprocess, and is likely not a problem with pip.\n",
      "\u001b[?25h"
     ]
    }
   ],
   "source": [
    "!pip install --extra-index-url https://repo.platform.here.com/artifactory/api/pypi/analytics-pypi/simple/ here-platform==2.21.0 here-geotiles==2.21.0 here-geopandas-adapter==2.21.0 here-content==2.21.0 here-inspector==2.21.0\n"
   ]
  },
  {
   "cell_type": "code",
   "execution_count": null,
   "id": "6417ab03",
   "metadata": {},
   "outputs": [],
   "source": []
  }
 ],
 "metadata": {
  "celltoolbar": "Slideshow",
  "kernelspec": {
   "display_name": "Python 3 (ipykernel)",
   "language": "python",
   "name": "python3"
  },
  "language_info": {
   "codemirror_mode": {
    "name": "ipython",
    "version": 3
   },
   "file_extension": ".py",
   "mimetype": "text/x-python",
   "name": "python",
   "nbconvert_exporter": "python",
   "pygments_lexer": "ipython3",
   "version": "3.11.2"
  }
 },
 "nbformat": 4,
 "nbformat_minor": 5
}
