{
 "cells": [
  {
   "cell_type": "markdown",
   "id": "a0364835",
   "metadata": {
    "slideshow": {
     "slide_type": "slide"
    }
   },
   "source": [
    "# Working with geo data and locations"
   ]
  },
  {
   "cell_type": "markdown",
   "id": "c7fcba49",
   "metadata": {
    "slideshow": {
     "slide_type": "fragment"
    }
   },
   "source": [
    "## Date: 2023-06-13\n",
    "## Host: Rene Meissner\n",
    "* **Group Data Platform Lead** in Group Data & Analytics\n",
    "* UNIQA for 7 years (first EA Data, since 2022 at GDA) \n",
    "* Working with big data from begin on (1997)\n",
    "* Projects and personally interested in geo and location data (GPS, OSM, Ingress) and high performance computing\n",
    "\n",
    "## Sources: [GeoDataScience@github](https://github.com/artconscious/GeoDataScience)"
   ]
  },
  {
   "cell_type": "markdown",
   "id": "5d574519",
   "metadata": {
    "slideshow": {
     "slide_type": "slide"
    }
   },
   "source": [
    "## Agenda\n",
    "* <a href=\"#/2\"> Geo in Insurances </a>\n",
    "* <a href=\"#/3\"> Maps </a>\n",
    "* <a href=\"#/4\"> Geographice Information Systems </a>\n",
    "* <a href=\"#/5\"> Projections </a>\n",
    "* <a href=\"#/6\"> Satellites </a>\n",
    "* <a href=\"#/7\"> Coordinates </a>\n",
    "* <a href=\"#/8\"> Typical tasks</a>\n",
    "* <a href=\"#/9\"> Dive into location with python </a>\n",
    "* <a href=\"#/10\"> Geohash </a>\n",
    "* <a href=\"#/12\"> Maps: folium </a>\n",
    "* <a href=\"#/13\"> Heatmaps </a>\n",
    "* <a href=\"#/14\"> GeoJSON </a>\n",
    "* <a href=\"#/15\"> GeoPandas </a>\n"
   ]
  },
  {
   "cell_type": "markdown",
   "id": "197af20a",
   "metadata": {
    "slideshow": {
     "slide_type": "notes"
    }
   },
   "source": [
    "Slide 2"
   ]
  },
  {
   "cell_type": "markdown",
   "id": "4ec352c7",
   "metadata": {
    "slideshow": {
     "slide_type": "slide"
    }
   },
   "source": [
    "## A Perfect Match:\n",
    "# Geo Reference Data and Insurance Business\n",
    "\n",
    "* Policing and underwriting\n",
    "* Market research, penetration \n",
    "* Risk calculation\n",
    "* Claims handling\n",
    "* Market projections\n",
    "* …"
   ]
  },
  {
   "cell_type": "markdown",
   "id": "a847bd62",
   "metadata": {
    "slideshow": {
     "slide_type": "notes"
    }
   },
   "source": [
    "Slide 3"
   ]
  },
  {
   "cell_type": "markdown",
   "id": "3e692140",
   "metadata": {
    "slideshow": {
     "slide_type": "slide"
    }
   },
   "source": [
    "## First Things First: ALL THE MAPPPS!!!"
   ]
  },
  {
   "cell_type": "code",
   "execution_count": 5,
   "id": "1a18c564",
   "metadata": {
    "slideshow": {
     "slide_type": "fragment"
    }
   },
   "outputs": [
    {
     "data": {
      "text/html": [
       "<div style=\"width:100%;\"><div style=\"position:relative;width:100%;height:0;padding-bottom:60%;\"><span style=\"color:#565656\">Make this Notebook Trusted to load map: File -> Trust Notebook</span><iframe src=\"about:blank\" style=\"position:absolute;width:100%;height:100%;left:0;top:0;border:none !important;\" data-html=%3C%21DOCTYPE%20html%3E%0A%3Chead%3E%20%20%20%20%0A%20%20%20%20%3Cmeta%20http-equiv%3D%22content-type%22%20content%3D%22text/html%3B%20charset%3DUTF-8%22%20/%3E%0A%20%20%20%20%0A%20%20%20%20%20%20%20%20%3Cscript%3E%0A%20%20%20%20%20%20%20%20%20%20%20%20L_NO_TOUCH%20%3D%20false%3B%0A%20%20%20%20%20%20%20%20%20%20%20%20L_DISABLE_3D%20%3D%20false%3B%0A%20%20%20%20%20%20%20%20%3C/script%3E%0A%20%20%20%20%0A%20%20%20%20%3Cstyle%3Ehtml%2C%20body%20%7Bwidth%3A%20100%25%3Bheight%3A%20100%25%3Bmargin%3A%200%3Bpadding%3A%200%3B%7D%3C/style%3E%0A%20%20%20%20%3Cstyle%3E%23map%20%7Bposition%3Aabsolute%3Btop%3A0%3Bbottom%3A0%3Bright%3A0%3Bleft%3A0%3B%7D%3C/style%3E%0A%20%20%20%20%3Cscript%20src%3D%22https%3A//cdn.jsdelivr.net/npm/leaflet%401.6.0/dist/leaflet.js%22%3E%3C/script%3E%0A%20%20%20%20%3Cscript%20src%3D%22https%3A//code.jquery.com/jquery-1.12.4.min.js%22%3E%3C/script%3E%0A%20%20%20%20%3Cscript%20src%3D%22https%3A//maxcdn.bootstrapcdn.com/bootstrap/3.2.0/js/bootstrap.min.js%22%3E%3C/script%3E%0A%20%20%20%20%3Cscript%20src%3D%22https%3A//cdnjs.cloudflare.com/ajax/libs/Leaflet.awesome-markers/2.0.2/leaflet.awesome-markers.js%22%3E%3C/script%3E%0A%20%20%20%20%3Clink%20rel%3D%22stylesheet%22%20href%3D%22https%3A//cdn.jsdelivr.net/npm/leaflet%401.6.0/dist/leaflet.css%22/%3E%0A%20%20%20%20%3Clink%20rel%3D%22stylesheet%22%20href%3D%22https%3A//maxcdn.bootstrapcdn.com/bootstrap/3.2.0/css/bootstrap.min.css%22/%3E%0A%20%20%20%20%3Clink%20rel%3D%22stylesheet%22%20href%3D%22https%3A//maxcdn.bootstrapcdn.com/bootstrap/3.2.0/css/bootstrap-theme.min.css%22/%3E%0A%20%20%20%20%3Clink%20rel%3D%22stylesheet%22%20href%3D%22https%3A//maxcdn.bootstrapcdn.com/font-awesome/4.6.3/css/font-awesome.min.css%22/%3E%0A%20%20%20%20%3Clink%20rel%3D%22stylesheet%22%20href%3D%22https%3A//cdnjs.cloudflare.com/ajax/libs/Leaflet.awesome-markers/2.0.2/leaflet.awesome-markers.css%22/%3E%0A%20%20%20%20%3Clink%20rel%3D%22stylesheet%22%20href%3D%22https%3A//cdn.jsdelivr.net/gh/python-visualization/folium/folium/templates/leaflet.awesome.rotate.min.css%22/%3E%0A%20%20%20%20%0A%20%20%20%20%20%20%20%20%20%20%20%20%3Cmeta%20name%3D%22viewport%22%20content%3D%22width%3Ddevice-width%2C%0A%20%20%20%20%20%20%20%20%20%20%20%20%20%20%20%20initial-scale%3D1.0%2C%20maximum-scale%3D1.0%2C%20user-scalable%3Dno%22%20/%3E%0A%20%20%20%20%20%20%20%20%20%20%20%20%3Cstyle%3E%0A%20%20%20%20%20%20%20%20%20%20%20%20%20%20%20%20%23map_14ea931122f04d5c9eeb78e6ef5e87e1%20%7B%0A%20%20%20%20%20%20%20%20%20%20%20%20%20%20%20%20%20%20%20%20position%3A%20relative%3B%0A%20%20%20%20%20%20%20%20%20%20%20%20%20%20%20%20%20%20%20%20width%3A%20100.0%25%3B%0A%20%20%20%20%20%20%20%20%20%20%20%20%20%20%20%20%20%20%20%20height%3A%20100.0%25%3B%0A%20%20%20%20%20%20%20%20%20%20%20%20%20%20%20%20%20%20%20%20left%3A%200.0%25%3B%0A%20%20%20%20%20%20%20%20%20%20%20%20%20%20%20%20%20%20%20%20top%3A%200.0%25%3B%0A%20%20%20%20%20%20%20%20%20%20%20%20%20%20%20%20%7D%0A%20%20%20%20%20%20%20%20%20%20%20%20%3C/style%3E%0A%20%20%20%20%20%20%20%20%0A%3C/head%3E%0A%3Cbody%3E%20%20%20%20%0A%20%20%20%20%0A%20%20%20%20%20%20%20%20%20%20%20%20%3Cdiv%20class%3D%22folium-map%22%20id%3D%22map_14ea931122f04d5c9eeb78e6ef5e87e1%22%20%3E%3C/div%3E%0A%20%20%20%20%20%20%20%20%0A%3C/body%3E%0A%3Cscript%3E%20%20%20%20%0A%20%20%20%20%0A%20%20%20%20%20%20%20%20%20%20%20%20var%20map_14ea931122f04d5c9eeb78e6ef5e87e1%20%3D%20L.map%28%0A%20%20%20%20%20%20%20%20%20%20%20%20%20%20%20%20%22map_14ea931122f04d5c9eeb78e6ef5e87e1%22%2C%0A%20%20%20%20%20%20%20%20%20%20%20%20%20%20%20%20%7B%0A%20%20%20%20%20%20%20%20%20%20%20%20%20%20%20%20%20%20%20%20center%3A%20%5B48.208174%2C%2016.373819%5D%2C%0A%20%20%20%20%20%20%20%20%20%20%20%20%20%20%20%20%20%20%20%20crs%3A%20L.CRS.EPSG3857%2C%0A%20%20%20%20%20%20%20%20%20%20%20%20%20%20%20%20%20%20%20%20zoom%3A%2012%2C%0A%20%20%20%20%20%20%20%20%20%20%20%20%20%20%20%20%20%20%20%20zoomControl%3A%20true%2C%0A%20%20%20%20%20%20%20%20%20%20%20%20%20%20%20%20%20%20%20%20preferCanvas%3A%20false%2C%0A%20%20%20%20%20%20%20%20%20%20%20%20%20%20%20%20%7D%0A%20%20%20%20%20%20%20%20%20%20%20%20%29%3B%0A%0A%20%20%20%20%20%20%20%20%20%20%20%20%0A%0A%20%20%20%20%20%20%20%20%0A%20%20%20%20%0A%20%20%20%20%20%20%20%20%20%20%20%20var%20tile_layer_e59aa0249c334f5097080a1e95827bcd%20%3D%20L.tileLayer%28%0A%20%20%20%20%20%20%20%20%20%20%20%20%20%20%20%20%22https%3A//%7Bs%7D.tile.openstreetmap.org/%7Bz%7D/%7Bx%7D/%7By%7D.png%22%2C%0A%20%20%20%20%20%20%20%20%20%20%20%20%20%20%20%20%7B%22attribution%22%3A%20%22Data%20by%20%5Cu0026copy%3B%20%5Cu003ca%20href%3D%5C%22http%3A//openstreetmap.org%5C%22%5Cu003eOpenStreetMap%5Cu003c/a%5Cu003e%2C%20under%20%5Cu003ca%20href%3D%5C%22http%3A//www.openstreetmap.org/copyright%5C%22%5Cu003eODbL%5Cu003c/a%5Cu003e.%22%2C%20%22detectRetina%22%3A%20false%2C%20%22maxNativeZoom%22%3A%2018%2C%20%22maxZoom%22%3A%2018%2C%20%22minZoom%22%3A%200%2C%20%22noWrap%22%3A%20false%2C%20%22opacity%22%3A%201%2C%20%22subdomains%22%3A%20%22abc%22%2C%20%22tms%22%3A%20false%7D%0A%20%20%20%20%20%20%20%20%20%20%20%20%29.addTo%28map_14ea931122f04d5c9eeb78e6ef5e87e1%29%3B%0A%20%20%20%20%20%20%20%20%0A%3C/script%3E onload=\"this.contentDocument.open();this.contentDocument.write(    decodeURIComponent(this.getAttribute('data-html')));this.contentDocument.close();\" allowfullscreen webkitallowfullscreen mozallowfullscreen></iframe></div></div>"
      ],
      "text/plain": [
       "<folium.folium.Map at 0x7f23c4680250>"
      ]
     },
     "execution_count": 5,
     "metadata": {},
     "output_type": "execute_result"
    }
   ],
   "source": [
    "import folium\n",
    "folium.Map(location=[48.208174, 16.373819], zoom_start = 12)"
   ]
  },
  {
   "cell_type": "markdown",
   "id": "a6c4d1bc",
   "metadata": {
    "slideshow": {
     "slide_type": "notes"
    }
   },
   "source": [
    "Slide 4"
   ]
  },
  {
   "cell_type": "markdown",
   "id": "5dea2bd8",
   "metadata": {
    "slideshow": {
     "slide_type": "slide"
    }
   },
   "source": [
    "### Basics:\n",
    "## Geographical Information System(s): GIS\n",
    "Here you manage all your geo data, design your maps, and do your analysis (if you deal with geo data at least half the day) \n",
    "\n",
    "### Two market player:\n",
    "#### ArcGis: powerful and expensive\n",
    "#### QGIS: also powerful but open source"
   ]
  },
  {
   "cell_type": "markdown",
   "id": "c9cf562f",
   "metadata": {
    "slideshow": {
     "slide_type": "notes"
    }
   },
   "source": [
    "Slide 5"
   ]
  },
  {
   "cell_type": "markdown",
   "id": "dc4bb5a3",
   "metadata": {
    "slideshow": {
     "slide_type": "slide"
    }
   },
   "source": [
    "## Projections: How spherical locations are mapped on an 2D coordinate system\n",
    "### * It depends on your country based on the North/South and East/West extention  \n",
    "### * In the EU often Gauss-Krüger in different flavours is used \n",
    "### * ALWAYS make use of WGS84   \n",
    "### * For all programming languages you'll find transformation libraries\n",
    "### * There is a continental drift in Europe: ~0.025m per year"
   ]
  },
  {
   "cell_type": "markdown",
   "id": "ba6d4680",
   "metadata": {
    "slideshow": {
     "slide_type": "notes"
    }
   },
   "source": [
    "Slide 6"
   ]
  },
  {
   "cell_type": "markdown",
   "id": "2a277a81",
   "metadata": {
    "slideshow": {
     "slide_type": "slide"
    }
   },
   "source": [
    "## Satellites \n",
    "### GNSS: Global Positioning System(GPS), Gallileo, Baidu, Glonass, …\n",
    "### * Based on at least three satellites a receiver calculates the position on the groud\n",
    "### * Pure GNSS coldstart is around 20min\n",
    "### * The more sats, the higher the accuracy\n",
    "![title](img/ConstellationGPS.gif)"
   ]
  },
  {
   "cell_type": "markdown",
   "id": "8815e26c",
   "metadata": {
    "slideshow": {
     "slide_type": "notes"
    }
   },
   "source": [
    "Slide 7"
   ]
  },
  {
   "cell_type": "markdown",
   "id": "49d87d28",
   "metadata": {
    "slideshow": {
     "slide_type": "slide"
    }
   },
   "source": [
    "## Coordinates: Latitude, Longitude, Altitude (WGS84)\n",
    "### *  You can imagine the earth as an spherical X/Y coordinate system\n",
    "### *  X is the Longitude (Greenwich = 0.0, East direction is positive, West directions are negative, max is 180.0/-180.0)\n",
    "### *  Y is the Latitude (Equator = 0.0, North direction is positive, South negative, max is 90.0/-90.0)\n",
    "### *  Notations can be Degrees, Minutes, Seconds (DMS: 48° 12' 29.426\" N 16° 22' 25.748\" E) vs. Decimal Degree (DD i.e. 48.208174, 16.373819) "
   ]
  },
  {
   "cell_type": "markdown",
   "id": "c5a26a9a",
   "metadata": {
    "slideshow": {
     "slide_type": "notes"
    }
   },
   "source": [
    "Slide 8"
   ]
  },
  {
   "cell_type": "markdown",
   "id": "1430c347",
   "metadata": {
    "slideshow": {
     "slide_type": "slide"
    }
   },
   "source": [
    "## Working with geo data (using Python)\n",
    "### What are the typical tasks you have to deal with when it comes to geo data?\n",
    "#### * Get an address from a location\n",
    "#### * Get a location from an address\n",
    "#### * Give me all clients/prospects in a specific area\n",
    "#### * Based on this client/prospect list, give me geo reference data (i.e. flood risk, demographic, etc.)\n",
    "#### * Find a route between these addresses (travelling salesman problem)\n",
    "#### * What is the are/what type of surface based on these coordinates?\n",
    "#### * …\n"
   ]
  },
  {
   "cell_type": "markdown",
   "id": "47e2d440",
   "metadata": {
    "slideshow": {
     "slide_type": "notes"
    }
   },
   "source": [
    "Slide 9"
   ]
  },
  {
   "cell_type": "markdown",
   "id": "9cc9ad6b",
   "metadata": {
    "slideshow": {
     "slide_type": "slide"
    }
   },
   "source": [
    "## Working with geo data (using Python)\n",
    "### * Locations can be represented simply as a list of two (or three) floats, in many cases "
   ]
  },
  {
   "cell_type": "code",
   "execution_count": 6,
   "id": "be4b39ee",
   "metadata": {},
   "outputs": [
    {
     "data": {
      "text/html": [
       "<div>\n",
       "<style scoped>\n",
       "    .dataframe tbody tr th:only-of-type {\n",
       "        vertical-align: middle;\n",
       "    }\n",
       "\n",
       "    .dataframe tbody tr th {\n",
       "        vertical-align: top;\n",
       "    }\n",
       "\n",
       "    .dataframe thead th {\n",
       "        text-align: right;\n",
       "    }\n",
       "</style>\n",
       "<table border=\"1\" class=\"dataframe\">\n",
       "  <thead>\n",
       "    <tr style=\"text-align: right;\">\n",
       "      <th></th>\n",
       "      <th>ID</th>\n",
       "      <th>LAT</th>\n",
       "      <th>LON</th>\n",
       "      <th>EURO_PK</th>\n",
       "      <th>IDX_AT_PK</th>\n",
       "    </tr>\n",
       "  </thead>\n",
       "  <tbody>\n",
       "    <tr>\n",
       "      <th>0</th>\n",
       "      <td>250mN280400E479275</td>\n",
       "      <td>48.167946</td>\n",
       "      <td>16.349755</td>\n",
       "      <td>1660.190476</td>\n",
       "      <td>100.696290</td>\n",
       "    </tr>\n",
       "    <tr>\n",
       "      <th>1</th>\n",
       "      <td>250mN280425E479275</td>\n",
       "      <td>48.170186</td>\n",
       "      <td>16.350036</td>\n",
       "      <td>1574.405494</td>\n",
       "      <td>95.493134</td>\n",
       "    </tr>\n",
       "    <tr>\n",
       "      <th>2</th>\n",
       "      <td>250mN280375E479300</td>\n",
       "      <td>48.165513</td>\n",
       "      <td>16.352823</td>\n",
       "      <td>1704.590909</td>\n",
       "      <td>103.389329</td>\n",
       "    </tr>\n",
       "    <tr>\n",
       "      <th>3</th>\n",
       "      <td>250mN280400E479300</td>\n",
       "      <td>48.167753</td>\n",
       "      <td>16.353104</td>\n",
       "      <td>1697.578260</td>\n",
       "      <td>102.963988</td>\n",
       "    </tr>\n",
       "    <tr>\n",
       "      <th>4</th>\n",
       "      <td>250mN280375E479325</td>\n",
       "      <td>48.165319</td>\n",
       "      <td>16.356172</td>\n",
       "      <td>1544.832599</td>\n",
       "      <td>93.699436</td>\n",
       "    </tr>\n",
       "    <tr>\n",
       "      <th>5</th>\n",
       "      <td>250mN280400E479325</td>\n",
       "      <td>48.167559</td>\n",
       "      <td>16.356453</td>\n",
       "      <td>1463.046403</td>\n",
       "      <td>88.738820</td>\n",
       "    </tr>\n",
       "    <tr>\n",
       "      <th>6</th>\n",
       "      <td>250mN280425E479300</td>\n",
       "      <td>48.169992</td>\n",
       "      <td>16.353386</td>\n",
       "      <td>1510.522561</td>\n",
       "      <td>91.618413</td>\n",
       "    </tr>\n",
       "    <tr>\n",
       "      <th>7</th>\n",
       "      <td>250mN280450E479300</td>\n",
       "      <td>48.172232</td>\n",
       "      <td>16.353667</td>\n",
       "      <td>1553.287899</td>\n",
       "      <td>94.212279</td>\n",
       "    </tr>\n",
       "    <tr>\n",
       "      <th>8</th>\n",
       "      <td>250mN280425E479325</td>\n",
       "      <td>48.169799</td>\n",
       "      <td>16.356735</td>\n",
       "      <td>1543.557863</td>\n",
       "      <td>93.622119</td>\n",
       "    </tr>\n",
       "    <tr>\n",
       "      <th>9</th>\n",
       "      <td>250mN280450E479325</td>\n",
       "      <td>48.172039</td>\n",
       "      <td>16.357017</td>\n",
       "      <td>1562.110684</td>\n",
       "      <td>94.747411</td>\n",
       "    </tr>\n",
       "  </tbody>\n",
       "</table>\n",
       "</div>"
      ],
      "text/plain": [
       "                   ID        LAT        LON      EURO_PK   IDX_AT_PK\n",
       "0  250mN280400E479275  48.167946  16.349755  1660.190476  100.696290\n",
       "1  250mN280425E479275  48.170186  16.350036  1574.405494   95.493134\n",
       "2  250mN280375E479300  48.165513  16.352823  1704.590909  103.389329\n",
       "3  250mN280400E479300  48.167753  16.353104  1697.578260  102.963988\n",
       "4  250mN280375E479325  48.165319  16.356172  1544.832599   93.699436\n",
       "5  250mN280400E479325  48.167559  16.356453  1463.046403   88.738820\n",
       "6  250mN280425E479300  48.169992  16.353386  1510.522561   91.618413\n",
       "7  250mN280450E479300  48.172232  16.353667  1553.287899   94.212279\n",
       "8  250mN280425E479325  48.169799  16.356735  1543.557863   93.622119\n",
       "9  250mN280450E479325  48.172039  16.357017  1562.110684   94.747411"
      ]
     },
     "execution_count": 6,
     "metadata": {},
     "output_type": "execute_result"
    }
   ],
   "source": [
    "import pandas as pd\n",
    "df = pd.read_csv('../data/raster250-sample.csv')\n",
    "df[['ID','LAT','LON','EURO_PK','IDX_AT_PK']][0:10]"
   ]
  },
  {
   "cell_type": "markdown",
   "id": "e4b1d09d",
   "metadata": {
    "slideshow": {
     "slide_type": "notes"
    }
   },
   "source": [
    "Slide 10"
   ]
  },
  {
   "cell_type": "markdown",
   "id": "d6fc5281",
   "metadata": {
    "slideshow": {
     "slide_type": "slide"
    }
   },
   "source": [
    "## But!\n",
    "### * In tabular and relational representation, two columns of floats are hard to handle\n",
    "### * \"Find neighbors\", \"compare locations\", \"are these two areas are overlapping\" are expensive both in development and computation\n",
    "## Introducing Geohash"
   ]
  },
  {
   "cell_type": "code",
   "execution_count": 7,
   "id": "50a9b765",
   "metadata": {},
   "outputs": [
    {
     "name": "stdout",
     "output_type": "stream",
     "text": [
      "Geohash for 48.078218,16.290442  \n",
      " 4 chars: u2e9 \n",
      " 6 chars: u2e9d8\n"
     ]
    }
   ],
   "source": [
    "import geohash2\n",
    "print ('Geohash for 48.078218,16.290442 ',\n",
    "       '\\n 4 chars:', geohash2.encode(48.078218,16.290442,4),\n",
    "       '\\n 6 chars:', geohash2.encode(48.078218,16.290442,6))"
   ]
  },
  {
   "cell_type": "markdown",
   "id": "d361b22a",
   "metadata": {
    "slideshow": {
     "slide_type": "notes"
    }
   },
   "source": [
    "Slide 11"
   ]
  },
  {
   "cell_type": "markdown",
   "id": "99e027d8",
   "metadata": {
    "slideshow": {
     "slide_type": "slide"
    }
   },
   "source": [
    "## Think about like grouping \n",
    "### * Sorting, matching, and grouping based on strings"
   ]
  },
  {
   "cell_type": "code",
   "execution_count": 3,
   "id": "5baffca0",
   "metadata": {},
   "outputs": [
    {
     "data": {
      "text/html": [
       "<div>\n",
       "<style scoped>\n",
       "    .dataframe tbody tr th:only-of-type {\n",
       "        vertical-align: middle;\n",
       "    }\n",
       "\n",
       "    .dataframe tbody tr th {\n",
       "        vertical-align: top;\n",
       "    }\n",
       "\n",
       "    .dataframe thead th {\n",
       "        text-align: right;\n",
       "    }\n",
       "</style>\n",
       "<table border=\"1\" class=\"dataframe\">\n",
       "  <thead>\n",
       "    <tr style=\"text-align: right;\">\n",
       "      <th></th>\n",
       "      <th>ID</th>\n",
       "      <th>LAT</th>\n",
       "      <th>LON</th>\n",
       "      <th>GEOH6</th>\n",
       "      <th>IDX_AT_PK</th>\n",
       "    </tr>\n",
       "  </thead>\n",
       "  <tbody>\n",
       "    <tr>\n",
       "      <th>0</th>\n",
       "      <td>250mN280400E479275</td>\n",
       "      <td>48.167946</td>\n",
       "      <td>16.349755</td>\n",
       "      <td>u2edh0</td>\n",
       "      <td>100.696290</td>\n",
       "    </tr>\n",
       "    <tr>\n",
       "      <th>2</th>\n",
       "      <td>250mN280375E479300</td>\n",
       "      <td>48.165513</td>\n",
       "      <td>16.352823</td>\n",
       "      <td>u2edh0</td>\n",
       "      <td>103.389329</td>\n",
       "    </tr>\n",
       "    <tr>\n",
       "      <th>3</th>\n",
       "      <td>250mN280400E479300</td>\n",
       "      <td>48.167753</td>\n",
       "      <td>16.353104</td>\n",
       "      <td>u2edh0</td>\n",
       "      <td>102.963988</td>\n",
       "    </tr>\n",
       "    <tr>\n",
       "      <th>4</th>\n",
       "      <td>250mN280375E479325</td>\n",
       "      <td>48.165319</td>\n",
       "      <td>16.356172</td>\n",
       "      <td>u2edh0</td>\n",
       "      <td>93.699436</td>\n",
       "    </tr>\n",
       "    <tr>\n",
       "      <th>5</th>\n",
       "      <td>250mN280400E479325</td>\n",
       "      <td>48.167559</td>\n",
       "      <td>16.356453</td>\n",
       "      <td>u2edh0</td>\n",
       "      <td>88.738820</td>\n",
       "    </tr>\n",
       "    <tr>\n",
       "      <th>13</th>\n",
       "      <td>250mN280475E479325</td>\n",
       "      <td>48.174279</td>\n",
       "      <td>16.357298</td>\n",
       "      <td>u2edh1</td>\n",
       "      <td>97.696048</td>\n",
       "    </tr>\n",
       "    <tr>\n",
       "      <th>12</th>\n",
       "      <td>250mN280475E479300</td>\n",
       "      <td>48.174472</td>\n",
       "      <td>16.353949</td>\n",
       "      <td>u2edh1</td>\n",
       "      <td>94.824149</td>\n",
       "    </tr>\n",
       "    <tr>\n",
       "      <th>10</th>\n",
       "      <td>250mN280475E479275</td>\n",
       "      <td>48.174666</td>\n",
       "      <td>16.350599</td>\n",
       "      <td>u2edh1</td>\n",
       "      <td>95.221514</td>\n",
       "    </tr>\n",
       "    <tr>\n",
       "      <th>9</th>\n",
       "      <td>250mN280450E479325</td>\n",
       "      <td>48.172039</td>\n",
       "      <td>16.357017</td>\n",
       "      <td>u2edh1</td>\n",
       "      <td>94.747411</td>\n",
       "    </tr>\n",
       "    <tr>\n",
       "      <th>7</th>\n",
       "      <td>250mN280450E479300</td>\n",
       "      <td>48.172232</td>\n",
       "      <td>16.353667</td>\n",
       "      <td>u2edh1</td>\n",
       "      <td>94.212279</td>\n",
       "    </tr>\n",
       "  </tbody>\n",
       "</table>\n",
       "</div>"
      ],
      "text/plain": [
       "                    ID        LAT        LON   GEOH6   IDX_AT_PK\n",
       "0   250mN280400E479275  48.167946  16.349755  u2edh0  100.696290\n",
       "2   250mN280375E479300  48.165513  16.352823  u2edh0  103.389329\n",
       "3   250mN280400E479300  48.167753  16.353104  u2edh0  102.963988\n",
       "4   250mN280375E479325  48.165319  16.356172  u2edh0   93.699436\n",
       "5   250mN280400E479325  48.167559  16.356453  u2edh0   88.738820\n",
       "13  250mN280475E479325  48.174279  16.357298  u2edh1   97.696048\n",
       "12  250mN280475E479300  48.174472  16.353949  u2edh1   94.824149\n",
       "10  250mN280475E479275  48.174666  16.350599  u2edh1   95.221514\n",
       "9   250mN280450E479325  48.172039  16.357017  u2edh1   94.747411\n",
       "7   250mN280450E479300  48.172232  16.353667  u2edh1   94.212279"
      ]
     },
     "execution_count": 3,
     "metadata": {},
     "output_type": "execute_result"
    }
   ],
   "source": [
    "import pandas as pd\n",
    "df = pd.read_csv('../data/raster250-sample.csv')\n",
    "df[['ID','LAT','LON','GEOH6','IDX_AT_PK']].sort_values(by=['GEOH6'])[0:10]"
   ]
  },
  {
   "cell_type": "markdown",
   "id": "f5cb662d",
   "metadata": {
    "slideshow": {
     "slide_type": "notes"
    }
   },
   "source": [
    "Slide 12"
   ]
  },
  {
   "cell_type": "markdown",
   "id": "a24a4cdd",
   "metadata": {
    "slideshow": {
     "slide_type": "slide"
    }
   },
   "source": [
    "## Back to the maps\n",
    "* Maps are great, especially if they are interactive – and hard to manage if you need printing versions ;)\n",
    "* Browser-based maps are embeds from an online-service called \"tile map server\"\n",
    "* A framework will do the work for you"
   ]
  },
  {
   "cell_type": "code",
   "execution_count": 9,
   "id": "028e4df7",
   "metadata": {
    "slideshow": {
     "slide_type": "-"
    }
   },
   "outputs": [
    {
     "data": {
      "text/html": [
       "<div style=\"width:100%;\"><div style=\"position:relative;width:100%;height:0;padding-bottom:60%;\"><span style=\"color:#565656\">Make this Notebook Trusted to load map: File -> Trust Notebook</span><iframe src=\"about:blank\" style=\"position:absolute;width:100%;height:100%;left:0;top:0;border:none !important;\" data-html=%3C%21DOCTYPE%20html%3E%0A%3Chead%3E%20%20%20%20%0A%20%20%20%20%3Cmeta%20http-equiv%3D%22content-type%22%20content%3D%22text/html%3B%20charset%3DUTF-8%22%20/%3E%0A%20%20%20%20%0A%20%20%20%20%20%20%20%20%3Cscript%3E%0A%20%20%20%20%20%20%20%20%20%20%20%20L_NO_TOUCH%20%3D%20false%3B%0A%20%20%20%20%20%20%20%20%20%20%20%20L_DISABLE_3D%20%3D%20false%3B%0A%20%20%20%20%20%20%20%20%3C/script%3E%0A%20%20%20%20%0A%20%20%20%20%3Cstyle%3Ehtml%2C%20body%20%7Bwidth%3A%20100%25%3Bheight%3A%20100%25%3Bmargin%3A%200%3Bpadding%3A%200%3B%7D%3C/style%3E%0A%20%20%20%20%3Cstyle%3E%23map%20%7Bposition%3Aabsolute%3Btop%3A0%3Bbottom%3A0%3Bright%3A0%3Bleft%3A0%3B%7D%3C/style%3E%0A%20%20%20%20%3Cscript%20src%3D%22https%3A//cdn.jsdelivr.net/npm/leaflet%401.6.0/dist/leaflet.js%22%3E%3C/script%3E%0A%20%20%20%20%3Cscript%20src%3D%22https%3A//code.jquery.com/jquery-1.12.4.min.js%22%3E%3C/script%3E%0A%20%20%20%20%3Cscript%20src%3D%22https%3A//maxcdn.bootstrapcdn.com/bootstrap/3.2.0/js/bootstrap.min.js%22%3E%3C/script%3E%0A%20%20%20%20%3Cscript%20src%3D%22https%3A//cdnjs.cloudflare.com/ajax/libs/Leaflet.awesome-markers/2.0.2/leaflet.awesome-markers.js%22%3E%3C/script%3E%0A%20%20%20%20%3Clink%20rel%3D%22stylesheet%22%20href%3D%22https%3A//cdn.jsdelivr.net/npm/leaflet%401.6.0/dist/leaflet.css%22/%3E%0A%20%20%20%20%3Clink%20rel%3D%22stylesheet%22%20href%3D%22https%3A//maxcdn.bootstrapcdn.com/bootstrap/3.2.0/css/bootstrap.min.css%22/%3E%0A%20%20%20%20%3Clink%20rel%3D%22stylesheet%22%20href%3D%22https%3A//maxcdn.bootstrapcdn.com/bootstrap/3.2.0/css/bootstrap-theme.min.css%22/%3E%0A%20%20%20%20%3Clink%20rel%3D%22stylesheet%22%20href%3D%22https%3A//maxcdn.bootstrapcdn.com/font-awesome/4.6.3/css/font-awesome.min.css%22/%3E%0A%20%20%20%20%3Clink%20rel%3D%22stylesheet%22%20href%3D%22https%3A//cdnjs.cloudflare.com/ajax/libs/Leaflet.awesome-markers/2.0.2/leaflet.awesome-markers.css%22/%3E%0A%20%20%20%20%3Clink%20rel%3D%22stylesheet%22%20href%3D%22https%3A//cdn.jsdelivr.net/gh/python-visualization/folium/folium/templates/leaflet.awesome.rotate.min.css%22/%3E%0A%20%20%20%20%0A%20%20%20%20%20%20%20%20%20%20%20%20%3Cmeta%20name%3D%22viewport%22%20content%3D%22width%3Ddevice-width%2C%0A%20%20%20%20%20%20%20%20%20%20%20%20%20%20%20%20initial-scale%3D1.0%2C%20maximum-scale%3D1.0%2C%20user-scalable%3Dno%22%20/%3E%0A%20%20%20%20%20%20%20%20%20%20%20%20%3Cstyle%3E%0A%20%20%20%20%20%20%20%20%20%20%20%20%20%20%20%20%23map_ea24c4f8d7ca49eaace7d9d8152f6a71%20%7B%0A%20%20%20%20%20%20%20%20%20%20%20%20%20%20%20%20%20%20%20%20position%3A%20relative%3B%0A%20%20%20%20%20%20%20%20%20%20%20%20%20%20%20%20%20%20%20%20width%3A%20100.0%25%3B%0A%20%20%20%20%20%20%20%20%20%20%20%20%20%20%20%20%20%20%20%20height%3A%20300.0px%3B%0A%20%20%20%20%20%20%20%20%20%20%20%20%20%20%20%20%20%20%20%20left%3A%200.0%25%3B%0A%20%20%20%20%20%20%20%20%20%20%20%20%20%20%20%20%20%20%20%20top%3A%200.0%25%3B%0A%20%20%20%20%20%20%20%20%20%20%20%20%20%20%20%20%7D%0A%20%20%20%20%20%20%20%20%20%20%20%20%3C/style%3E%0A%20%20%20%20%20%20%20%20%0A%3C/head%3E%0A%3Cbody%3E%20%20%20%20%0A%20%20%20%20%0A%20%20%20%20%20%20%20%20%20%20%20%20%3Cdiv%20class%3D%22folium-map%22%20id%3D%22map_ea24c4f8d7ca49eaace7d9d8152f6a71%22%20%3E%3C/div%3E%0A%20%20%20%20%20%20%20%20%0A%3C/body%3E%0A%3Cscript%3E%20%20%20%20%0A%20%20%20%20%0A%20%20%20%20%20%20%20%20%20%20%20%20var%20map_ea24c4f8d7ca49eaace7d9d8152f6a71%20%3D%20L.map%28%0A%20%20%20%20%20%20%20%20%20%20%20%20%20%20%20%20%22map_ea24c4f8d7ca49eaace7d9d8152f6a71%22%2C%0A%20%20%20%20%20%20%20%20%20%20%20%20%20%20%20%20%7B%0A%20%20%20%20%20%20%20%20%20%20%20%20%20%20%20%20%20%20%20%20center%3A%20%5B48.167559%2C%2016.356453%5D%2C%0A%20%20%20%20%20%20%20%20%20%20%20%20%20%20%20%20%20%20%20%20crs%3A%20L.CRS.EPSG3857%2C%0A%20%20%20%20%20%20%20%20%20%20%20%20%20%20%20%20%20%20%20%20zoom%3A%2013%2C%0A%20%20%20%20%20%20%20%20%20%20%20%20%20%20%20%20%20%20%20%20zoomControl%3A%20true%2C%0A%20%20%20%20%20%20%20%20%20%20%20%20%20%20%20%20%20%20%20%20preferCanvas%3A%20false%2C%0A%20%20%20%20%20%20%20%20%20%20%20%20%20%20%20%20%7D%0A%20%20%20%20%20%20%20%20%20%20%20%20%29%3B%0A%0A%20%20%20%20%20%20%20%20%20%20%20%20%0A%0A%20%20%20%20%20%20%20%20%0A%20%20%20%20%0A%20%20%20%20%20%20%20%20%20%20%20%20var%20tile_layer_1a0a94d7b772410b8602ad9033f6511a%20%3D%20L.tileLayer%28%0A%20%20%20%20%20%20%20%20%20%20%20%20%20%20%20%20%22https%3A//%7Bs%7D.tile.openstreetmap.org/%7Bz%7D/%7Bx%7D/%7By%7D.png%22%2C%0A%20%20%20%20%20%20%20%20%20%20%20%20%20%20%20%20%7B%22attribution%22%3A%20%22Data%20by%20%5Cu0026copy%3B%20%5Cu003ca%20href%3D%5C%22http%3A//openstreetmap.org%5C%22%5Cu003eOpenStreetMap%5Cu003c/a%5Cu003e%2C%20under%20%5Cu003ca%20href%3D%5C%22http%3A//www.openstreetmap.org/copyright%5C%22%5Cu003eODbL%5Cu003c/a%5Cu003e.%22%2C%20%22detectRetina%22%3A%20false%2C%20%22maxNativeZoom%22%3A%2018%2C%20%22maxZoom%22%3A%2018%2C%20%22minZoom%22%3A%200%2C%20%22noWrap%22%3A%20false%2C%20%22opacity%22%3A%201%2C%20%22subdomains%22%3A%20%22abc%22%2C%20%22tms%22%3A%20false%7D%0A%20%20%20%20%20%20%20%20%20%20%20%20%29.addTo%28map_ea24c4f8d7ca49eaace7d9d8152f6a71%29%3B%0A%20%20%20%20%20%20%20%20%0A%20%20%20%20%0A%20%20%20%20%20%20%20%20%20%20%20%20var%20marker_e2ce9e3d13834e43af926a28005acdb8%20%3D%20L.marker%28%0A%20%20%20%20%20%20%20%20%20%20%20%20%20%20%20%20%5B48.167946%2C%2016.349755%5D%2C%0A%20%20%20%20%20%20%20%20%20%20%20%20%20%20%20%20%7B%7D%0A%20%20%20%20%20%20%20%20%20%20%20%20%29.addTo%28map_ea24c4f8d7ca49eaace7d9d8152f6a71%29%3B%0A%20%20%20%20%20%20%20%20%0A%20%20%20%20%0A%20%20%20%20%20%20%20%20%20%20%20%20var%20icon_330dd068009a4dbcb2288f9a01121df2%20%3D%20L.AwesomeMarkers.icon%28%0A%20%20%20%20%20%20%20%20%20%20%20%20%20%20%20%20%7B%22extraClasses%22%3A%20%22fa-rotate-0%22%2C%20%22icon%22%3A%20%22info-sign%22%2C%20%22iconColor%22%3A%20%22white%22%2C%20%22markerColor%22%3A%20%22blue%22%2C%20%22prefix%22%3A%20%22glyphicon%22%7D%0A%20%20%20%20%20%20%20%20%20%20%20%20%29%3B%0A%20%20%20%20%20%20%20%20%20%20%20%20marker_e2ce9e3d13834e43af926a28005acdb8.setIcon%28icon_330dd068009a4dbcb2288f9a01121df2%29%3B%0A%20%20%20%20%20%20%20%20%0A%20%20%20%20%0A%20%20%20%20%20%20%20%20var%20popup_cf23f6b2071240609e6338f3528053e9%20%3D%20L.popup%28%7B%22maxWidth%22%3A%20%22100%25%22%7D%29%3B%0A%0A%20%20%20%20%20%20%20%20%0A%20%20%20%20%20%20%20%20%20%20%20%20%0A%20%20%20%20%20%20%20%20%20%20%20%20%20%20%20%20var%20html_fd1d49a821234e0f9c214e6e552f81a6%20%3D%20%24%28%60%3Cdiv%20id%3D%22html_fd1d49a821234e0f9c214e6e552f81a6%22%20style%3D%22width%3A%20100.0%25%3B%20height%3A%20100.0%25%3B%22%3EPopulation%3A%20245%3C/div%3E%60%29%5B0%5D%3B%0A%20%20%20%20%20%20%20%20%20%20%20%20%20%20%20%20popup_cf23f6b2071240609e6338f3528053e9.setContent%28html_fd1d49a821234e0f9c214e6e552f81a6%29%3B%0A%20%20%20%20%20%20%20%20%20%20%20%20%0A%20%20%20%20%20%20%20%20%0A%0A%20%20%20%20%20%20%20%20marker_e2ce9e3d13834e43af926a28005acdb8.bindPopup%28popup_cf23f6b2071240609e6338f3528053e9%29%0A%20%20%20%20%20%20%20%20%3B%0A%0A%20%20%20%20%20%20%20%20%0A%20%20%20%20%0A%20%20%20%20%0A%20%20%20%20%20%20%20%20%20%20%20%20var%20marker_3a87f96a380d482ab03d9270f91348ed%20%3D%20L.marker%28%0A%20%20%20%20%20%20%20%20%20%20%20%20%20%20%20%20%5B48.170186%2C%2016.350036%5D%2C%0A%20%20%20%20%20%20%20%20%20%20%20%20%20%20%20%20%7B%7D%0A%20%20%20%20%20%20%20%20%20%20%20%20%29.addTo%28map_ea24c4f8d7ca49eaace7d9d8152f6a71%29%3B%0A%20%20%20%20%20%20%20%20%0A%20%20%20%20%0A%20%20%20%20%20%20%20%20%20%20%20%20var%20icon_0ffaa6d2419045c1a5e1c01e1fc9d496%20%3D%20L.AwesomeMarkers.icon%28%0A%20%20%20%20%20%20%20%20%20%20%20%20%20%20%20%20%7B%22extraClasses%22%3A%20%22fa-rotate-0%22%2C%20%22icon%22%3A%20%22info-sign%22%2C%20%22iconColor%22%3A%20%22white%22%2C%20%22markerColor%22%3A%20%22blue%22%2C%20%22prefix%22%3A%20%22glyphicon%22%7D%0A%20%20%20%20%20%20%20%20%20%20%20%20%29%3B%0A%20%20%20%20%20%20%20%20%20%20%20%20marker_3a87f96a380d482ab03d9270f91348ed.setIcon%28icon_0ffaa6d2419045c1a5e1c01e1fc9d496%29%3B%0A%20%20%20%20%20%20%20%20%0A%20%20%20%20%0A%20%20%20%20%20%20%20%20var%20popup_53558a25e6ff4e53b2e45540abd6b66e%20%3D%20L.popup%28%7B%22maxWidth%22%3A%20%22100%25%22%7D%29%3B%0A%0A%20%20%20%20%20%20%20%20%0A%20%20%20%20%20%20%20%20%20%20%20%20%0A%20%20%20%20%20%20%20%20%20%20%20%20%20%20%20%20var%20html_737ca1d4fd4346cf952867c8fd9582a0%20%3D%20%24%28%60%3Cdiv%20id%3D%22html_737ca1d4fd4346cf952867c8fd9582a0%22%20style%3D%22width%3A%20100.0%25%3B%20height%3A%20100.0%25%3B%22%3EPopulation%3A%20845%3C/div%3E%60%29%5B0%5D%3B%0A%20%20%20%20%20%20%20%20%20%20%20%20%20%20%20%20popup_53558a25e6ff4e53b2e45540abd6b66e.setContent%28html_737ca1d4fd4346cf952867c8fd9582a0%29%3B%0A%20%20%20%20%20%20%20%20%20%20%20%20%0A%20%20%20%20%20%20%20%20%0A%0A%20%20%20%20%20%20%20%20marker_3a87f96a380d482ab03d9270f91348ed.bindPopup%28popup_53558a25e6ff4e53b2e45540abd6b66e%29%0A%20%20%20%20%20%20%20%20%3B%0A%0A%20%20%20%20%20%20%20%20%0A%20%20%20%20%0A%20%20%20%20%0A%20%20%20%20%20%20%20%20%20%20%20%20var%20marker_493c9517776243dc8fc99c83f02336b7%20%3D%20L.marker%28%0A%20%20%20%20%20%20%20%20%20%20%20%20%20%20%20%20%5B48.165513%2C%2016.352823%5D%2C%0A%20%20%20%20%20%20%20%20%20%20%20%20%20%20%20%20%7B%7D%0A%20%20%20%20%20%20%20%20%20%20%20%20%29.addTo%28map_ea24c4f8d7ca49eaace7d9d8152f6a71%29%3B%0A%20%20%20%20%20%20%20%20%0A%20%20%20%20%0A%20%20%20%20%20%20%20%20%20%20%20%20var%20icon_5326ca1aadbe44df91da7391f1ba6c9d%20%3D%20L.AwesomeMarkers.icon%28%0A%20%20%20%20%20%20%20%20%20%20%20%20%20%20%20%20%7B%22extraClasses%22%3A%20%22fa-rotate-0%22%2C%20%22icon%22%3A%20%22info-sign%22%2C%20%22iconColor%22%3A%20%22white%22%2C%20%22markerColor%22%3A%20%22blue%22%2C%20%22prefix%22%3A%20%22glyphicon%22%7D%0A%20%20%20%20%20%20%20%20%20%20%20%20%29%3B%0A%20%20%20%20%20%20%20%20%20%20%20%20marker_493c9517776243dc8fc99c83f02336b7.setIcon%28icon_5326ca1aadbe44df91da7391f1ba6c9d%29%3B%0A%20%20%20%20%20%20%20%20%0A%20%20%20%20%0A%20%20%20%20%20%20%20%20var%20popup_e4c6e06d8918472e8136cce07e75cee4%20%3D%20L.popup%28%7B%22maxWidth%22%3A%20%22100%25%22%7D%29%3B%0A%0A%20%20%20%20%20%20%20%20%0A%20%20%20%20%20%20%20%20%20%20%20%20%0A%20%20%20%20%20%20%20%20%20%20%20%20%20%20%20%20var%20html_9fe940e0602d49e3bacb985bf22b222b%20%3D%20%24%28%60%3Cdiv%20id%3D%22html_9fe940e0602d49e3bacb985bf22b222b%22%20style%3D%22width%3A%20100.0%25%3B%20height%3A%20100.0%25%3B%22%3EPopulation%3A%2071%3C/div%3E%60%29%5B0%5D%3B%0A%20%20%20%20%20%20%20%20%20%20%20%20%20%20%20%20popup_e4c6e06d8918472e8136cce07e75cee4.setContent%28html_9fe940e0602d49e3bacb985bf22b222b%29%3B%0A%20%20%20%20%20%20%20%20%20%20%20%20%0A%20%20%20%20%20%20%20%20%0A%0A%20%20%20%20%20%20%20%20marker_493c9517776243dc8fc99c83f02336b7.bindPopup%28popup_e4c6e06d8918472e8136cce07e75cee4%29%0A%20%20%20%20%20%20%20%20%3B%0A%0A%20%20%20%20%20%20%20%20%0A%20%20%20%20%0A%20%20%20%20%0A%20%20%20%20%20%20%20%20%20%20%20%20var%20marker_942199a3d8da41a8a8d1202e01830f29%20%3D%20L.marker%28%0A%20%20%20%20%20%20%20%20%20%20%20%20%20%20%20%20%5B48.167753%2C%2016.353104%5D%2C%0A%20%20%20%20%20%20%20%20%20%20%20%20%20%20%20%20%7B%7D%0A%20%20%20%20%20%20%20%20%20%20%20%20%29.addTo%28map_ea24c4f8d7ca49eaace7d9d8152f6a71%29%3B%0A%20%20%20%20%20%20%20%20%0A%20%20%20%20%0A%20%20%20%20%20%20%20%20%20%20%20%20var%20icon_51fbd69abfe14765951c5050b25dbff0%20%3D%20L.AwesomeMarkers.icon%28%0A%20%20%20%20%20%20%20%20%20%20%20%20%20%20%20%20%7B%22extraClasses%22%3A%20%22fa-rotate-0%22%2C%20%22icon%22%3A%20%22info-sign%22%2C%20%22iconColor%22%3A%20%22white%22%2C%20%22markerColor%22%3A%20%22blue%22%2C%20%22prefix%22%3A%20%22glyphicon%22%7D%0A%20%20%20%20%20%20%20%20%20%20%20%20%29%3B%0A%20%20%20%20%20%20%20%20%20%20%20%20marker_942199a3d8da41a8a8d1202e01830f29.setIcon%28icon_51fbd69abfe14765951c5050b25dbff0%29%3B%0A%20%20%20%20%20%20%20%20%0A%20%20%20%20%0A%20%20%20%20%20%20%20%20var%20popup_2717d30314ca4794b379582364d69d6e%20%3D%20L.popup%28%7B%22maxWidth%22%3A%20%22100%25%22%7D%29%3B%0A%0A%20%20%20%20%20%20%20%20%0A%20%20%20%20%20%20%20%20%20%20%20%20%0A%20%20%20%20%20%20%20%20%20%20%20%20%20%20%20%20var%20html_d60a0f54d8cc43e38eed46f952ba30d6%20%3D%20%24%28%60%3Cdiv%20id%3D%22html_d60a0f54d8cc43e38eed46f952ba30d6%22%20style%3D%22width%3A%20100.0%25%3B%20height%3A%20100.0%25%3B%22%3EPopulation%3A%20228%3C/div%3E%60%29%5B0%5D%3B%0A%20%20%20%20%20%20%20%20%20%20%20%20%20%20%20%20popup_2717d30314ca4794b379582364d69d6e.setContent%28html_d60a0f54d8cc43e38eed46f952ba30d6%29%3B%0A%20%20%20%20%20%20%20%20%20%20%20%20%0A%20%20%20%20%20%20%20%20%0A%0A%20%20%20%20%20%20%20%20marker_942199a3d8da41a8a8d1202e01830f29.bindPopup%28popup_2717d30314ca4794b379582364d69d6e%29%0A%20%20%20%20%20%20%20%20%3B%0A%0A%20%20%20%20%20%20%20%20%0A%20%20%20%20%0A%20%20%20%20%0A%20%20%20%20%20%20%20%20%20%20%20%20var%20marker_37892577282648579cf3cda72e9b9e09%20%3D%20L.marker%28%0A%20%20%20%20%20%20%20%20%20%20%20%20%20%20%20%20%5B48.165319%2C%2016.356172%5D%2C%0A%20%20%20%20%20%20%20%20%20%20%20%20%20%20%20%20%7B%7D%0A%20%20%20%20%20%20%20%20%20%20%20%20%29.addTo%28map_ea24c4f8d7ca49eaace7d9d8152f6a71%29%3B%0A%20%20%20%20%20%20%20%20%0A%20%20%20%20%0A%20%20%20%20%20%20%20%20%20%20%20%20var%20icon_d0c086541429411bb56fd2f9b2cd5e3d%20%3D%20L.AwesomeMarkers.icon%28%0A%20%20%20%20%20%20%20%20%20%20%20%20%20%20%20%20%7B%22extraClasses%22%3A%20%22fa-rotate-0%22%2C%20%22icon%22%3A%20%22info-sign%22%2C%20%22iconColor%22%3A%20%22white%22%2C%20%22markerColor%22%3A%20%22blue%22%2C%20%22prefix%22%3A%20%22glyphicon%22%7D%0A%20%20%20%20%20%20%20%20%20%20%20%20%29%3B%0A%20%20%20%20%20%20%20%20%20%20%20%20marker_37892577282648579cf3cda72e9b9e09.setIcon%28icon_d0c086541429411bb56fd2f9b2cd5e3d%29%3B%0A%20%20%20%20%20%20%20%20%0A%20%20%20%20%0A%20%20%20%20%20%20%20%20var%20popup_6f6bee8f305a4ef1a2f2a154ccbdf061%20%3D%20L.popup%28%7B%22maxWidth%22%3A%20%22100%25%22%7D%29%3B%0A%0A%20%20%20%20%20%20%20%20%0A%20%20%20%20%20%20%20%20%20%20%20%20%0A%20%20%20%20%20%20%20%20%20%20%20%20%20%20%20%20var%20html_54ce98bf590e4431b166c18bb5feb297%20%3D%20%24%28%60%3Cdiv%20id%3D%22html_54ce98bf590e4431b166c18bb5feb297%22%20style%3D%22width%3A%20100.0%25%3B%20height%3A%20100.0%25%3B%22%3EPopulation%3A%20252%3C/div%3E%60%29%5B0%5D%3B%0A%20%20%20%20%20%20%20%20%20%20%20%20%20%20%20%20popup_6f6bee8f305a4ef1a2f2a154ccbdf061.setContent%28html_54ce98bf590e4431b166c18bb5feb297%29%3B%0A%20%20%20%20%20%20%20%20%20%20%20%20%0A%20%20%20%20%20%20%20%20%0A%0A%20%20%20%20%20%20%20%20marker_37892577282648579cf3cda72e9b9e09.bindPopup%28popup_6f6bee8f305a4ef1a2f2a154ccbdf061%29%0A%20%20%20%20%20%20%20%20%3B%0A%0A%20%20%20%20%20%20%20%20%0A%20%20%20%20%0A%20%20%20%20%0A%20%20%20%20%20%20%20%20%20%20%20%20var%20marker_98f19c0e3c764bf4b942d392d62cca6d%20%3D%20L.marker%28%0A%20%20%20%20%20%20%20%20%20%20%20%20%20%20%20%20%5B48.167559%2C%2016.356453%5D%2C%0A%20%20%20%20%20%20%20%20%20%20%20%20%20%20%20%20%7B%7D%0A%20%20%20%20%20%20%20%20%20%20%20%20%29.addTo%28map_ea24c4f8d7ca49eaace7d9d8152f6a71%29%3B%0A%20%20%20%20%20%20%20%20%0A%20%20%20%20%0A%20%20%20%20%20%20%20%20%20%20%20%20var%20icon_56a9eaf112064091bd277e0d338a0030%20%3D%20L.AwesomeMarkers.icon%28%0A%20%20%20%20%20%20%20%20%20%20%20%20%20%20%20%20%7B%22extraClasses%22%3A%20%22fa-rotate-0%22%2C%20%22icon%22%3A%20%22info-sign%22%2C%20%22iconColor%22%3A%20%22white%22%2C%20%22markerColor%22%3A%20%22blue%22%2C%20%22prefix%22%3A%20%22glyphicon%22%7D%0A%20%20%20%20%20%20%20%20%20%20%20%20%29%3B%0A%20%20%20%20%20%20%20%20%20%20%20%20marker_98f19c0e3c764bf4b942d392d62cca6d.setIcon%28icon_56a9eaf112064091bd277e0d338a0030%29%3B%0A%20%20%20%20%20%20%20%20%0A%20%20%20%20%0A%20%20%20%20%20%20%20%20var%20popup_f42d039c16124fe5bec62f1169f23c1a%20%3D%20L.popup%28%7B%22maxWidth%22%3A%20%22100%25%22%7D%29%3B%0A%0A%20%20%20%20%20%20%20%20%0A%20%20%20%20%20%20%20%20%20%20%20%20%0A%20%20%20%20%20%20%20%20%20%20%20%20%20%20%20%20var%20html_da204caf392d4023b304e7f3616287fd%20%3D%20%24%28%60%3Cdiv%20id%3D%22html_da204caf392d4023b304e7f3616287fd%22%20style%3D%22width%3A%20100.0%25%3B%20height%3A%20100.0%25%3B%22%3EPopulation%3A%20554%3C/div%3E%60%29%5B0%5D%3B%0A%20%20%20%20%20%20%20%20%20%20%20%20%20%20%20%20popup_f42d039c16124fe5bec62f1169f23c1a.setContent%28html_da204caf392d4023b304e7f3616287fd%29%3B%0A%20%20%20%20%20%20%20%20%20%20%20%20%0A%20%20%20%20%20%20%20%20%0A%0A%20%20%20%20%20%20%20%20marker_98f19c0e3c764bf4b942d392d62cca6d.bindPopup%28popup_f42d039c16124fe5bec62f1169f23c1a%29%0A%20%20%20%20%20%20%20%20%3B%0A%0A%20%20%20%20%20%20%20%20%0A%20%20%20%20%0A%20%20%20%20%0A%20%20%20%20%20%20%20%20%20%20%20%20var%20marker_e0892dcd428940238d0178d30fa576eb%20%3D%20L.marker%28%0A%20%20%20%20%20%20%20%20%20%20%20%20%20%20%20%20%5B48.169992%2C%2016.353386%5D%2C%0A%20%20%20%20%20%20%20%20%20%20%20%20%20%20%20%20%7B%7D%0A%20%20%20%20%20%20%20%20%20%20%20%20%29.addTo%28map_ea24c4f8d7ca49eaace7d9d8152f6a71%29%3B%0A%20%20%20%20%20%20%20%20%0A%20%20%20%20%0A%20%20%20%20%20%20%20%20%20%20%20%20var%20icon_e0b78d2cbac1416db3ec2dd1e319221d%20%3D%20L.AwesomeMarkers.icon%28%0A%20%20%20%20%20%20%20%20%20%20%20%20%20%20%20%20%7B%22extraClasses%22%3A%20%22fa-rotate-0%22%2C%20%22icon%22%3A%20%22info-sign%22%2C%20%22iconColor%22%3A%20%22white%22%2C%20%22markerColor%22%3A%20%22blue%22%2C%20%22prefix%22%3A%20%22glyphicon%22%7D%0A%20%20%20%20%20%20%20%20%20%20%20%20%29%3B%0A%20%20%20%20%20%20%20%20%20%20%20%20marker_e0892dcd428940238d0178d30fa576eb.setIcon%28icon_e0b78d2cbac1416db3ec2dd1e319221d%29%3B%0A%20%20%20%20%20%20%20%20%0A%20%20%20%20%0A%20%20%20%20%20%20%20%20var%20popup_9c60b0c3f5234812b844c8022f948902%20%3D%20L.popup%28%7B%22maxWidth%22%3A%20%22100%25%22%7D%29%3B%0A%0A%20%20%20%20%20%20%20%20%0A%20%20%20%20%20%20%20%20%20%20%20%20%0A%20%20%20%20%20%20%20%20%20%20%20%20%20%20%20%20var%20html_4ccb2a31895f4008b826c7419f25a9b0%20%3D%20%24%28%60%3Cdiv%20id%3D%22html_4ccb2a31895f4008b826c7419f25a9b0%22%20style%3D%22width%3A%20100.0%25%3B%20height%3A%20100.0%25%3B%22%3EPopulation%3A%20862%3C/div%3E%60%29%5B0%5D%3B%0A%20%20%20%20%20%20%20%20%20%20%20%20%20%20%20%20popup_9c60b0c3f5234812b844c8022f948902.setContent%28html_4ccb2a31895f4008b826c7419f25a9b0%29%3B%0A%20%20%20%20%20%20%20%20%20%20%20%20%0A%20%20%20%20%20%20%20%20%0A%0A%20%20%20%20%20%20%20%20marker_e0892dcd428940238d0178d30fa576eb.bindPopup%28popup_9c60b0c3f5234812b844c8022f948902%29%0A%20%20%20%20%20%20%20%20%3B%0A%0A%20%20%20%20%20%20%20%20%0A%20%20%20%20%0A%20%20%20%20%0A%20%20%20%20%20%20%20%20%20%20%20%20var%20marker_43c08f28d1f24e1690b6ddcc55fa3f59%20%3D%20L.marker%28%0A%20%20%20%20%20%20%20%20%20%20%20%20%20%20%20%20%5B48.172232%2C%2016.353667%5D%2C%0A%20%20%20%20%20%20%20%20%20%20%20%20%20%20%20%20%7B%7D%0A%20%20%20%20%20%20%20%20%20%20%20%20%29.addTo%28map_ea24c4f8d7ca49eaace7d9d8152f6a71%29%3B%0A%20%20%20%20%20%20%20%20%0A%20%20%20%20%0A%20%20%20%20%20%20%20%20%20%20%20%20var%20icon_379604f910ba4e979fba5fdbf15179e3%20%3D%20L.AwesomeMarkers.icon%28%0A%20%20%20%20%20%20%20%20%20%20%20%20%20%20%20%20%7B%22extraClasses%22%3A%20%22fa-rotate-0%22%2C%20%22icon%22%3A%20%22info-sign%22%2C%20%22iconColor%22%3A%20%22white%22%2C%20%22markerColor%22%3A%20%22blue%22%2C%20%22prefix%22%3A%20%22glyphicon%22%7D%0A%20%20%20%20%20%20%20%20%20%20%20%20%29%3B%0A%20%20%20%20%20%20%20%20%20%20%20%20marker_43c08f28d1f24e1690b6ddcc55fa3f59.setIcon%28icon_379604f910ba4e979fba5fdbf15179e3%29%3B%0A%20%20%20%20%20%20%20%20%0A%20%20%20%20%0A%20%20%20%20%20%20%20%20var%20popup_150b96ce5c0a4e1ca3f0ab14a8e37aa2%20%3D%20L.popup%28%7B%22maxWidth%22%3A%20%22100%25%22%7D%29%3B%0A%0A%20%20%20%20%20%20%20%20%0A%20%20%20%20%20%20%20%20%20%20%20%20%0A%20%20%20%20%20%20%20%20%20%20%20%20%20%20%20%20var%20html_638d6466baaf4f7d89c05701521bd855%20%3D%20%24%28%60%3Cdiv%20id%3D%22html_638d6466baaf4f7d89c05701521bd855%22%20style%3D%22width%3A%20100.0%25%3B%20height%3A%20100.0%25%3B%22%3EPopulation%3A%202461%3C/div%3E%60%29%5B0%5D%3B%0A%20%20%20%20%20%20%20%20%20%20%20%20%20%20%20%20popup_150b96ce5c0a4e1ca3f0ab14a8e37aa2.setContent%28html_638d6466baaf4f7d89c05701521bd855%29%3B%0A%20%20%20%20%20%20%20%20%20%20%20%20%0A%20%20%20%20%20%20%20%20%0A%0A%20%20%20%20%20%20%20%20marker_43c08f28d1f24e1690b6ddcc55fa3f59.bindPopup%28popup_150b96ce5c0a4e1ca3f0ab14a8e37aa2%29%0A%20%20%20%20%20%20%20%20%3B%0A%0A%20%20%20%20%20%20%20%20%0A%20%20%20%20%0A%20%20%20%20%0A%20%20%20%20%20%20%20%20%20%20%20%20var%20marker_8299c88c7ec84b529d4b5b3e731d6a32%20%3D%20L.marker%28%0A%20%20%20%20%20%20%20%20%20%20%20%20%20%20%20%20%5B48.169799%2C%2016.356735%5D%2C%0A%20%20%20%20%20%20%20%20%20%20%20%20%20%20%20%20%7B%7D%0A%20%20%20%20%20%20%20%20%20%20%20%20%29.addTo%28map_ea24c4f8d7ca49eaace7d9d8152f6a71%29%3B%0A%20%20%20%20%20%20%20%20%0A%20%20%20%20%0A%20%20%20%20%20%20%20%20%20%20%20%20var%20icon_cabca4fdb1d4488fb4c8a9567d405175%20%3D%20L.AwesomeMarkers.icon%28%0A%20%20%20%20%20%20%20%20%20%20%20%20%20%20%20%20%7B%22extraClasses%22%3A%20%22fa-rotate-0%22%2C%20%22icon%22%3A%20%22info-sign%22%2C%20%22iconColor%22%3A%20%22white%22%2C%20%22markerColor%22%3A%20%22blue%22%2C%20%22prefix%22%3A%20%22glyphicon%22%7D%0A%20%20%20%20%20%20%20%20%20%20%20%20%29%3B%0A%20%20%20%20%20%20%20%20%20%20%20%20marker_8299c88c7ec84b529d4b5b3e731d6a32.setIcon%28icon_cabca4fdb1d4488fb4c8a9567d405175%29%3B%0A%20%20%20%20%20%20%20%20%0A%20%20%20%20%0A%20%20%20%20%20%20%20%20var%20popup_efa834ecc8e44c28883c3bf822eef33d%20%3D%20L.popup%28%7B%22maxWidth%22%3A%20%22100%25%22%7D%29%3B%0A%0A%20%20%20%20%20%20%20%20%0A%20%20%20%20%20%20%20%20%20%20%20%20%0A%20%20%20%20%20%20%20%20%20%20%20%20%20%20%20%20var%20html_ce383ccfdd5346f4967dfcf66bcfdeb7%20%3D%20%24%28%60%3Cdiv%20id%3D%22html_ce383ccfdd5346f4967dfcf66bcfdeb7%22%20style%3D%22width%3A%20100.0%25%3B%20height%3A%20100.0%25%3B%22%3EPopulation%3A%20411%3C/div%3E%60%29%5B0%5D%3B%0A%20%20%20%20%20%20%20%20%20%20%20%20%20%20%20%20popup_efa834ecc8e44c28883c3bf822eef33d.setContent%28html_ce383ccfdd5346f4967dfcf66bcfdeb7%29%3B%0A%20%20%20%20%20%20%20%20%20%20%20%20%0A%20%20%20%20%20%20%20%20%0A%0A%20%20%20%20%20%20%20%20marker_8299c88c7ec84b529d4b5b3e731d6a32.bindPopup%28popup_efa834ecc8e44c28883c3bf822eef33d%29%0A%20%20%20%20%20%20%20%20%3B%0A%0A%20%20%20%20%20%20%20%20%0A%20%20%20%20%0A%20%20%20%20%0A%20%20%20%20%20%20%20%20%20%20%20%20var%20marker_a76a4c49006d4b4e8e404bd96bccebdc%20%3D%20L.marker%28%0A%20%20%20%20%20%20%20%20%20%20%20%20%20%20%20%20%5B48.172039%2C%2016.357017%5D%2C%0A%20%20%20%20%20%20%20%20%20%20%20%20%20%20%20%20%7B%7D%0A%20%20%20%20%20%20%20%20%20%20%20%20%29.addTo%28map_ea24c4f8d7ca49eaace7d9d8152f6a71%29%3B%0A%20%20%20%20%20%20%20%20%0A%20%20%20%20%0A%20%20%20%20%20%20%20%20%20%20%20%20var%20icon_5e2c647a81e44d09a5b73afd2dac59a7%20%3D%20L.AwesomeMarkers.icon%28%0A%20%20%20%20%20%20%20%20%20%20%20%20%20%20%20%20%7B%22extraClasses%22%3A%20%22fa-rotate-0%22%2C%20%22icon%22%3A%20%22info-sign%22%2C%20%22iconColor%22%3A%20%22white%22%2C%20%22markerColor%22%3A%20%22blue%22%2C%20%22prefix%22%3A%20%22glyphicon%22%7D%0A%20%20%20%20%20%20%20%20%20%20%20%20%29%3B%0A%20%20%20%20%20%20%20%20%20%20%20%20marker_a76a4c49006d4b4e8e404bd96bccebdc.setIcon%28icon_5e2c647a81e44d09a5b73afd2dac59a7%29%3B%0A%20%20%20%20%20%20%20%20%0A%20%20%20%20%0A%20%20%20%20%20%20%20%20var%20popup_f3609c032b424d0a8eddce208b99ce9f%20%3D%20L.popup%28%7B%22maxWidth%22%3A%20%22100%25%22%7D%29%3B%0A%0A%20%20%20%20%20%20%20%20%0A%20%20%20%20%20%20%20%20%20%20%20%20%0A%20%20%20%20%20%20%20%20%20%20%20%20%20%20%20%20var%20html_eb37eb5f5fe14d499b18eec19c1f6d56%20%3D%20%24%28%60%3Cdiv%20id%3D%22html_eb37eb5f5fe14d499b18eec19c1f6d56%22%20style%3D%22width%3A%20100.0%25%3B%20height%3A%20100.0%25%3B%22%3EPopulation%3A%201752%3C/div%3E%60%29%5B0%5D%3B%0A%20%20%20%20%20%20%20%20%20%20%20%20%20%20%20%20popup_f3609c032b424d0a8eddce208b99ce9f.setContent%28html_eb37eb5f5fe14d499b18eec19c1f6d56%29%3B%0A%20%20%20%20%20%20%20%20%20%20%20%20%0A%20%20%20%20%20%20%20%20%0A%0A%20%20%20%20%20%20%20%20marker_a76a4c49006d4b4e8e404bd96bccebdc.bindPopup%28popup_f3609c032b424d0a8eddce208b99ce9f%29%0A%20%20%20%20%20%20%20%20%3B%0A%0A%20%20%20%20%20%20%20%20%0A%20%20%20%20%0A%3C/script%3E onload=\"this.contentDocument.open();this.contentDocument.write(    decodeURIComponent(this.getAttribute('data-html')));this.contentDocument.close();\" allowfullscreen webkitallowfullscreen mozallowfullscreen></iframe></div></div>"
      ],
      "text/plain": [
       "<folium.folium.Map at 0x7f23c3099050>"
      ]
     },
     "execution_count": 9,
     "metadata": {},
     "output_type": "execute_result"
    }
   ],
   "source": [
    "#Create the Map\n",
    "map_osm = folium.Map(location = [48.167559,16.356453],zoom_start = 13,height=300)\n",
    "map_osm\n",
    "#You Markler the point in Map\n",
    "for indice, row in df[0:10].iterrows():\n",
    "    folium.Marker(location=[row[\"LAT\"], row[\"LON\"]],popup=(\"Population: \" + str(row['POP'])),icon=folium.map.Icon(color='blue')).add_to(map_osm)\n",
    "map_osm"
   ]
  },
  {
   "cell_type": "markdown",
   "id": "3f421553",
   "metadata": {
    "slideshow": {
     "slide_type": "notes"
    }
   },
   "source": [
    "Slide 13"
   ]
  },
  {
   "cell_type": "markdown",
   "id": "2e178cde",
   "metadata": {
    "slideshow": {
     "slide_type": "slide"
    }
   },
   "source": [
    "## Heatmaps"
   ]
  },
  {
   "cell_type": "code",
   "execution_count": 4,
   "id": "d9b16130",
   "metadata": {
    "scrolled": true,
    "slideshow": {
     "slide_type": "-"
    }
   },
   "outputs": [
    {
     "data": {
      "text/html": [
       "<div style=\"width:100%;\"><div style=\"position:relative;width:100%;height:0;padding-bottom:60%;\"><span style=\"color:#565656\">Make this Notebook Trusted to load map: File -> Trust Notebook</span><iframe src=\"about:blank\" style=\"position:absolute;width:100%;height:100%;left:0;top:0;border:none !important;\" data-html=%3C%21DOCTYPE%20html%3E%0A%3Chead%3E%20%20%20%20%0A%20%20%20%20%3Cmeta%20http-equiv%3D%22content-type%22%20content%3D%22text/html%3B%20charset%3DUTF-8%22%20/%3E%0A%20%20%20%20%0A%20%20%20%20%20%20%20%20%3Cscript%3E%0A%20%20%20%20%20%20%20%20%20%20%20%20L_NO_TOUCH%20%3D%20false%3B%0A%20%20%20%20%20%20%20%20%20%20%20%20L_DISABLE_3D%20%3D%20false%3B%0A%20%20%20%20%20%20%20%20%3C/script%3E%0A%20%20%20%20%0A%20%20%20%20%3Cstyle%3Ehtml%2C%20body%20%7Bwidth%3A%20100%25%3Bheight%3A%20100%25%3Bmargin%3A%200%3Bpadding%3A%200%3B%7D%3C/style%3E%0A%20%20%20%20%3Cstyle%3E%23map%20%7Bposition%3Aabsolute%3Btop%3A0%3Bbottom%3A0%3Bright%3A0%3Bleft%3A0%3B%7D%3C/style%3E%0A%20%20%20%20%3Cscript%20src%3D%22https%3A//cdn.jsdelivr.net/npm/leaflet%401.6.0/dist/leaflet.js%22%3E%3C/script%3E%0A%20%20%20%20%3Cscript%20src%3D%22https%3A//code.jquery.com/jquery-1.12.4.min.js%22%3E%3C/script%3E%0A%20%20%20%20%3Cscript%20src%3D%22https%3A//maxcdn.bootstrapcdn.com/bootstrap/3.2.0/js/bootstrap.min.js%22%3E%3C/script%3E%0A%20%20%20%20%3Cscript%20src%3D%22https%3A//cdnjs.cloudflare.com/ajax/libs/Leaflet.awesome-markers/2.0.2/leaflet.awesome-markers.js%22%3E%3C/script%3E%0A%20%20%20%20%3Clink%20rel%3D%22stylesheet%22%20href%3D%22https%3A//cdn.jsdelivr.net/npm/leaflet%401.6.0/dist/leaflet.css%22/%3E%0A%20%20%20%20%3Clink%20rel%3D%22stylesheet%22%20href%3D%22https%3A//maxcdn.bootstrapcdn.com/bootstrap/3.2.0/css/bootstrap.min.css%22/%3E%0A%20%20%20%20%3Clink%20rel%3D%22stylesheet%22%20href%3D%22https%3A//maxcdn.bootstrapcdn.com/bootstrap/3.2.0/css/bootstrap-theme.min.css%22/%3E%0A%20%20%20%20%3Clink%20rel%3D%22stylesheet%22%20href%3D%22https%3A//maxcdn.bootstrapcdn.com/font-awesome/4.6.3/css/font-awesome.min.css%22/%3E%0A%20%20%20%20%3Clink%20rel%3D%22stylesheet%22%20href%3D%22https%3A//cdnjs.cloudflare.com/ajax/libs/Leaflet.awesome-markers/2.0.2/leaflet.awesome-markers.css%22/%3E%0A%20%20%20%20%3Clink%20rel%3D%22stylesheet%22%20href%3D%22https%3A//cdn.jsdelivr.net/gh/python-visualization/folium/folium/templates/leaflet.awesome.rotate.min.css%22/%3E%0A%20%20%20%20%0A%20%20%20%20%20%20%20%20%20%20%20%20%3Cmeta%20name%3D%22viewport%22%20content%3D%22width%3Ddevice-width%2C%0A%20%20%20%20%20%20%20%20%20%20%20%20%20%20%20%20initial-scale%3D1.0%2C%20maximum-scale%3D1.0%2C%20user-scalable%3Dno%22%20/%3E%0A%20%20%20%20%20%20%20%20%20%20%20%20%3Cstyle%3E%0A%20%20%20%20%20%20%20%20%20%20%20%20%20%20%20%20%23map_f618c448ce1649468e96e74f546674b8%20%7B%0A%20%20%20%20%20%20%20%20%20%20%20%20%20%20%20%20%20%20%20%20position%3A%20relative%3B%0A%20%20%20%20%20%20%20%20%20%20%20%20%20%20%20%20%20%20%20%20width%3A%20100.0%25%3B%0A%20%20%20%20%20%20%20%20%20%20%20%20%20%20%20%20%20%20%20%20height%3A%20300.0px%3B%0A%20%20%20%20%20%20%20%20%20%20%20%20%20%20%20%20%20%20%20%20left%3A%200.0%25%3B%0A%20%20%20%20%20%20%20%20%20%20%20%20%20%20%20%20%20%20%20%20top%3A%200.0%25%3B%0A%20%20%20%20%20%20%20%20%20%20%20%20%20%20%20%20%7D%0A%20%20%20%20%20%20%20%20%20%20%20%20%3C/style%3E%0A%20%20%20%20%20%20%20%20%0A%20%20%20%20%3Cscript%20src%3D%22https%3A//cdn.jsdelivr.net/gh/python-visualization/folium%40main/folium/templates/leaflet_heat.min.js%22%3E%3C/script%3E%0A%3C/head%3E%0A%3Cbody%3E%20%20%20%20%0A%20%20%20%20%0A%20%20%20%20%20%20%20%20%20%20%20%20%3Cdiv%20class%3D%22folium-map%22%20id%3D%22map_f618c448ce1649468e96e74f546674b8%22%20%3E%3C/div%3E%0A%20%20%20%20%20%20%20%20%0A%3C/body%3E%0A%3Cscript%3E%20%20%20%20%0A%20%20%20%20%0A%20%20%20%20%20%20%20%20%20%20%20%20var%20map_f618c448ce1649468e96e74f546674b8%20%3D%20L.map%28%0A%20%20%20%20%20%20%20%20%20%20%20%20%20%20%20%20%22map_f618c448ce1649468e96e74f546674b8%22%2C%0A%20%20%20%20%20%20%20%20%20%20%20%20%20%20%20%20%7B%0A%20%20%20%20%20%20%20%20%20%20%20%20%20%20%20%20%20%20%20%20center%3A%20%5B48.167559%2C%2016.356453%5D%2C%0A%20%20%20%20%20%20%20%20%20%20%20%20%20%20%20%20%20%20%20%20crs%3A%20L.CRS.EPSG3857%2C%0A%20%20%20%20%20%20%20%20%20%20%20%20%20%20%20%20%20%20%20%20zoom%3A%2014%2C%0A%20%20%20%20%20%20%20%20%20%20%20%20%20%20%20%20%20%20%20%20zoomControl%3A%20true%2C%0A%20%20%20%20%20%20%20%20%20%20%20%20%20%20%20%20%20%20%20%20preferCanvas%3A%20false%2C%0A%20%20%20%20%20%20%20%20%20%20%20%20%20%20%20%20%7D%0A%20%20%20%20%20%20%20%20%20%20%20%20%29%3B%0A%0A%20%20%20%20%20%20%20%20%20%20%20%20%0A%0A%20%20%20%20%20%20%20%20%0A%20%20%20%20%0A%20%20%20%20%20%20%20%20%20%20%20%20var%20tile_layer_e752f37b5fc247c88259bc56bbb2619d%20%3D%20L.tileLayer%28%0A%20%20%20%20%20%20%20%20%20%20%20%20%20%20%20%20%22https%3A//%7Bs%7D.tile.openstreetmap.org/%7Bz%7D/%7Bx%7D/%7By%7D.png%22%2C%0A%20%20%20%20%20%20%20%20%20%20%20%20%20%20%20%20%7B%22attribution%22%3A%20%22Data%20by%20%5Cu0026copy%3B%20%5Cu003ca%20href%3D%5C%22http%3A//openstreetmap.org%5C%22%5Cu003eOpenStreetMap%5Cu003c/a%5Cu003e%2C%20under%20%5Cu003ca%20href%3D%5C%22http%3A//www.openstreetmap.org/copyright%5C%22%5Cu003eODbL%5Cu003c/a%5Cu003e.%22%2C%20%22detectRetina%22%3A%20false%2C%20%22maxNativeZoom%22%3A%2018%2C%20%22maxZoom%22%3A%2018%2C%20%22minZoom%22%3A%200%2C%20%22noWrap%22%3A%20false%2C%20%22opacity%22%3A%201%2C%20%22subdomains%22%3A%20%22abc%22%2C%20%22tms%22%3A%20false%7D%0A%20%20%20%20%20%20%20%20%20%20%20%20%29.addTo%28map_f618c448ce1649468e96e74f546674b8%29%3B%0A%20%20%20%20%20%20%20%20%0A%20%20%20%20%0A%20%20%20%20%20%20%20%20%20%20%20%20var%20heat_map_3cbda6014a454570807f382608ae9a60%20%3D%20L.heatLayer%28%0A%20%20%20%20%20%20%20%20%20%20%20%20%20%20%20%20%5B%5B48.167946%2C%2016.349755%2C%20245.0%5D%2C%20%5B48.170186%2C%2016.350036%2C%20845.0%5D%2C%20%5B48.165513%2C%2016.352823%2C%2071.0%5D%2C%20%5B48.167753%2C%2016.353104%2C%20228.0%5D%2C%20%5B48.165319%2C%2016.356172%2C%20252.0%5D%2C%20%5B48.167559%2C%2016.356453%2C%20554.0%5D%2C%20%5B48.169992%2C%2016.353386%2C%20862.0%5D%2C%20%5B48.172232%2C%2016.353667%2C%202461.0%5D%2C%20%5B48.169799%2C%2016.356735%2C%20411.0%5D%2C%20%5B48.172039%2C%2016.357017%2C%201752.0%5D%5D%2C%0A%20%20%20%20%20%20%20%20%20%20%20%20%20%20%20%20%7B%22blur%22%3A%2015%2C%20%22maxZoom%22%3A%2018%2C%20%22minOpacity%22%3A%200.5%2C%20%22radius%22%3A%2025%7D%0A%20%20%20%20%20%20%20%20%20%20%20%20%29.addTo%28map_f618c448ce1649468e96e74f546674b8%29%3B%0A%20%20%20%20%20%20%20%20%0A%3C/script%3E onload=\"this.contentDocument.open();this.contentDocument.write(    decodeURIComponent(this.getAttribute('data-html')));this.contentDocument.close();\" allowfullscreen webkitallowfullscreen mozallowfullscreen></iframe></div></div>"
      ],
      "text/plain": [
       "<folium.folium.Map at 0x7f66774fe150>"
      ]
     },
     "execution_count": 4,
     "metadata": {},
     "output_type": "execute_result"
    }
   ],
   "source": [
    "import folium\n",
    "from folium.plugins import HeatMap\n",
    "map_obj = folium.Map(location = [48.167559,16.356453], zoom_start = 14, height = 300)\n",
    "lats_longs = df[0:10][['LAT','LON','POP']].to_numpy()\n",
    "HeatMap(lats_longs).add_to(map_obj)\n",
    "map_obj"
   ]
  },
  {
   "cell_type": "markdown",
   "id": "e9da6b4a",
   "metadata": {
    "slideshow": {
     "slide_type": "notes"
    }
   },
   "source": [
    "Slide 14"
   ]
  },
  {
   "cell_type": "markdown",
   "id": "4fd56d15",
   "metadata": {
    "slideshow": {
     "slide_type": "slide"
    }
   },
   "source": [
    "## Map services\n",
    "### Different styles, different availebilities, different costs\n",
    "### Vector & Image maps (like sat images)"
   ]
  },
  {
   "cell_type": "code",
   "execution_count": 11,
   "id": "3989a7da",
   "metadata": {
    "scrolled": true
   },
   "outputs": [
    {
     "data": {
      "text/html": [
       "<div style=\"width:100%;\"><div style=\"position:relative;width:100%;height:0;padding-bottom:60%;\"><span style=\"color:#565656\">Make this Notebook Trusted to load map: File -> Trust Notebook</span><iframe src=\"about:blank\" style=\"position:absolute;width:100%;height:100%;left:0;top:0;border:none !important;\" data-html=%3C%21DOCTYPE%20html%3E%0A%3Chead%3E%20%20%20%20%0A%20%20%20%20%3Cmeta%20http-equiv%3D%22content-type%22%20content%3D%22text/html%3B%20charset%3DUTF-8%22%20/%3E%0A%20%20%20%20%0A%20%20%20%20%20%20%20%20%3Cscript%3E%0A%20%20%20%20%20%20%20%20%20%20%20%20L_NO_TOUCH%20%3D%20false%3B%0A%20%20%20%20%20%20%20%20%20%20%20%20L_DISABLE_3D%20%3D%20false%3B%0A%20%20%20%20%20%20%20%20%3C/script%3E%0A%20%20%20%20%0A%20%20%20%20%3Cstyle%3Ehtml%2C%20body%20%7Bwidth%3A%20100%25%3Bheight%3A%20100%25%3Bmargin%3A%200%3Bpadding%3A%200%3B%7D%3C/style%3E%0A%20%20%20%20%3Cstyle%3E%23map%20%7Bposition%3Aabsolute%3Btop%3A0%3Bbottom%3A0%3Bright%3A0%3Bleft%3A0%3B%7D%3C/style%3E%0A%20%20%20%20%3Cscript%20src%3D%22https%3A//cdn.jsdelivr.net/npm/leaflet%401.6.0/dist/leaflet.js%22%3E%3C/script%3E%0A%20%20%20%20%3Cscript%20src%3D%22https%3A//code.jquery.com/jquery-1.12.4.min.js%22%3E%3C/script%3E%0A%20%20%20%20%3Cscript%20src%3D%22https%3A//maxcdn.bootstrapcdn.com/bootstrap/3.2.0/js/bootstrap.min.js%22%3E%3C/script%3E%0A%20%20%20%20%3Cscript%20src%3D%22https%3A//cdnjs.cloudflare.com/ajax/libs/Leaflet.awesome-markers/2.0.2/leaflet.awesome-markers.js%22%3E%3C/script%3E%0A%20%20%20%20%3Clink%20rel%3D%22stylesheet%22%20href%3D%22https%3A//cdn.jsdelivr.net/npm/leaflet%401.6.0/dist/leaflet.css%22/%3E%0A%20%20%20%20%3Clink%20rel%3D%22stylesheet%22%20href%3D%22https%3A//maxcdn.bootstrapcdn.com/bootstrap/3.2.0/css/bootstrap.min.css%22/%3E%0A%20%20%20%20%3Clink%20rel%3D%22stylesheet%22%20href%3D%22https%3A//maxcdn.bootstrapcdn.com/bootstrap/3.2.0/css/bootstrap-theme.min.css%22/%3E%0A%20%20%20%20%3Clink%20rel%3D%22stylesheet%22%20href%3D%22https%3A//maxcdn.bootstrapcdn.com/font-awesome/4.6.3/css/font-awesome.min.css%22/%3E%0A%20%20%20%20%3Clink%20rel%3D%22stylesheet%22%20href%3D%22https%3A//cdnjs.cloudflare.com/ajax/libs/Leaflet.awesome-markers/2.0.2/leaflet.awesome-markers.css%22/%3E%0A%20%20%20%20%3Clink%20rel%3D%22stylesheet%22%20href%3D%22https%3A//cdn.jsdelivr.net/gh/python-visualization/folium/folium/templates/leaflet.awesome.rotate.min.css%22/%3E%0A%20%20%20%20%0A%20%20%20%20%20%20%20%20%20%20%20%20%3Cmeta%20name%3D%22viewport%22%20content%3D%22width%3Ddevice-width%2C%0A%20%20%20%20%20%20%20%20%20%20%20%20%20%20%20%20initial-scale%3D1.0%2C%20maximum-scale%3D1.0%2C%20user-scalable%3Dno%22%20/%3E%0A%20%20%20%20%20%20%20%20%20%20%20%20%3Cstyle%3E%0A%20%20%20%20%20%20%20%20%20%20%20%20%20%20%20%20%23map_274d891f98494605baaa1824df57d638%20%7B%0A%20%20%20%20%20%20%20%20%20%20%20%20%20%20%20%20%20%20%20%20position%3A%20relative%3B%0A%20%20%20%20%20%20%20%20%20%20%20%20%20%20%20%20%20%20%20%20width%3A%20100.0%25%3B%0A%20%20%20%20%20%20%20%20%20%20%20%20%20%20%20%20%20%20%20%20height%3A%20300.0px%3B%0A%20%20%20%20%20%20%20%20%20%20%20%20%20%20%20%20%20%20%20%20left%3A%200.0%25%3B%0A%20%20%20%20%20%20%20%20%20%20%20%20%20%20%20%20%20%20%20%20top%3A%200.0%25%3B%0A%20%20%20%20%20%20%20%20%20%20%20%20%20%20%20%20%7D%0A%20%20%20%20%20%20%20%20%20%20%20%20%3C/style%3E%0A%20%20%20%20%20%20%20%20%0A%20%20%20%20%3Cscript%20src%3D%22https%3A//cdn.jsdelivr.net/gh/python-visualization/folium%40main/folium/templates/leaflet_heat.min.js%22%3E%3C/script%3E%0A%3C/head%3E%0A%3Cbody%3E%20%20%20%20%0A%20%20%20%20%0A%20%20%20%20%20%20%20%20%20%20%20%20%3Cdiv%20class%3D%22folium-map%22%20id%3D%22map_274d891f98494605baaa1824df57d638%22%20%3E%3C/div%3E%0A%20%20%20%20%20%20%20%20%0A%3C/body%3E%0A%3Cscript%3E%20%20%20%20%0A%20%20%20%20%0A%20%20%20%20%20%20%20%20%20%20%20%20var%20map_274d891f98494605baaa1824df57d638%20%3D%20L.map%28%0A%20%20%20%20%20%20%20%20%20%20%20%20%20%20%20%20%22map_274d891f98494605baaa1824df57d638%22%2C%0A%20%20%20%20%20%20%20%20%20%20%20%20%20%20%20%20%7B%0A%20%20%20%20%20%20%20%20%20%20%20%20%20%20%20%20%20%20%20%20center%3A%20%5B48.167559%2C%2016.356453%5D%2C%0A%20%20%20%20%20%20%20%20%20%20%20%20%20%20%20%20%20%20%20%20crs%3A%20L.CRS.EPSG3857%2C%0A%20%20%20%20%20%20%20%20%20%20%20%20%20%20%20%20%20%20%20%20zoom%3A%2014%2C%0A%20%20%20%20%20%20%20%20%20%20%20%20%20%20%20%20%20%20%20%20zoomControl%3A%20true%2C%0A%20%20%20%20%20%20%20%20%20%20%20%20%20%20%20%20%20%20%20%20preferCanvas%3A%20false%2C%0A%20%20%20%20%20%20%20%20%20%20%20%20%20%20%20%20%7D%0A%20%20%20%20%20%20%20%20%20%20%20%20%29%3B%0A%0A%20%20%20%20%20%20%20%20%20%20%20%20%0A%0A%20%20%20%20%20%20%20%20%0A%20%20%20%20%0A%20%20%20%20%20%20%20%20%20%20%20%20var%20tile_layer_24d65b6250e14ad59d6635395e853cee%20%3D%20L.tileLayer%28%0A%20%20%20%20%20%20%20%20%20%20%20%20%20%20%20%20%22https%3A//stamen-tiles-%7Bs%7D.a.ssl.fastly.net/toner/%7Bz%7D/%7Bx%7D/%7By%7D.png%22%2C%0A%20%20%20%20%20%20%20%20%20%20%20%20%20%20%20%20%7B%22attribution%22%3A%20%22Map%20tiles%20by%20%5Cu003ca%20href%3D%5C%22http%3A//stamen.com%5C%22%5Cu003eStamen%20Design%5Cu003c/a%5Cu003e%2C%20under%20%5Cu003ca%20href%3D%5C%22http%3A//creativecommons.org/licenses/by/3.0%5C%22%5Cu003eCC%20BY%203.0%5Cu003c/a%5Cu003e.%20Data%20by%20%5Cu0026copy%3B%20%5Cu003ca%20href%3D%5C%22http%3A//openstreetmap.org%5C%22%5Cu003eOpenStreetMap%5Cu003c/a%5Cu003e%2C%20under%20%5Cu003ca%20href%3D%5C%22http%3A//www.openstreetmap.org/copyright%5C%22%5Cu003eODbL%5Cu003c/a%5Cu003e.%22%2C%20%22detectRetina%22%3A%20false%2C%20%22maxNativeZoom%22%3A%2018%2C%20%22maxZoom%22%3A%2018%2C%20%22minZoom%22%3A%200%2C%20%22noWrap%22%3A%20false%2C%20%22opacity%22%3A%201%2C%20%22subdomains%22%3A%20%22abc%22%2C%20%22tms%22%3A%20false%7D%0A%20%20%20%20%20%20%20%20%20%20%20%20%29.addTo%28map_274d891f98494605baaa1824df57d638%29%3B%0A%20%20%20%20%20%20%20%20%0A%20%20%20%20%0A%20%20%20%20%20%20%20%20%20%20%20%20var%20heat_map_4d00fc2ea2b5488cba0ec60dc4ceb982%20%3D%20L.heatLayer%28%0A%20%20%20%20%20%20%20%20%20%20%20%20%20%20%20%20%5B%5B48.167946%2C%2016.349755%2C%20185.812962%5D%2C%20%5B48.170186%2C%2016.350036%2C%20561.995497%5D%2C%20%5B48.165513%2C%2016.352823%2C%20161.007564%5D%2C%20%5B48.167753%2C%2016.353104%2C%20483.753265%5D%2C%20%5B48.165319%2C%2016.356172%2C%20420.727509%5D%2C%20%5B48.167559%2C%2016.356453%2C%20369.646501%5D%2C%20%5B48.169992%2C%2016.353386%2C%20627.832475%5D%2C%20%5B48.172232%2C%2016.353667%2C%201069.89027%5D%2C%20%5B48.169799%2C%2016.356735%2C%20305.818047%5D%2C%20%5B48.172039%2C%2016.357017%2C%20609.565694%5D%5D%2C%0A%20%20%20%20%20%20%20%20%20%20%20%20%20%20%20%20%7B%22blur%22%3A%2015%2C%20%22maxZoom%22%3A%2018%2C%20%22minOpacity%22%3A%200.5%2C%20%22radius%22%3A%2025%7D%0A%20%20%20%20%20%20%20%20%20%20%20%20%29.addTo%28map_274d891f98494605baaa1824df57d638%29%3B%0A%20%20%20%20%20%20%20%20%0A%3C/script%3E onload=\"this.contentDocument.open();this.contentDocument.write(    decodeURIComponent(this.getAttribute('data-html')));this.contentDocument.close();\" allowfullscreen webkitallowfullscreen mozallowfullscreen></iframe></div></div>"
      ],
      "text/plain": [
       "<folium.folium.Map at 0x7f23c3186150>"
      ]
     },
     "execution_count": 11,
     "metadata": {},
     "output_type": "execute_result"
    }
   ],
   "source": [
    "import folium\n",
    "import pandas as pd\n",
    "from folium.plugins import HeatMap\n",
    "map_obj = folium.Map(\n",
    "    tiles='Stamen Toner', \n",
    "    location = [48.167559,16.356453], zoom_start = 14, height = 300)\n",
    "lats_longs = df[0:10][['LAT','LON','IDX_ZS_SUM']].to_numpy()\n",
    "HeatMap(lats_longs).add_to(map_obj)\n",
    "map_obj"
   ]
  },
  {
   "cell_type": "code",
   "execution_count": 12,
   "id": "1d69eb2e",
   "metadata": {
    "slideshow": {
     "slide_type": "notes"
    }
   },
   "outputs": [
    {
     "data": {
      "application/vnd.jupyter.widget-view+json": {
       "model_id": "8bae6fb60a8b461dbae83f9009506103",
       "version_major": 2,
       "version_minor": 0
      },
      "text/plain": [
       "Map(api_key='4MxuGCg8m-MsjE5rjXk12UI-elDSVW2RmAAk5bx_AYM', center=[52.5207, 13.4283], controls=(ZoomControl(al…"
      ]
     },
     "metadata": {},
     "output_type": "display_data"
    }
   ],
   "source": [
    "import os\n",
    "\n",
    "from here_location_services import LS\n",
    "from here_location_services.config.routing_config import ROUTING_RETURN\n",
    "from here_map_widget import Map, Marker, GeoJSON\n",
    "\n",
    "LS_API_KEY = \"4MxuGCg8m-MsjE5rjXk12UI-elDSVW2RmAAk5bx_AYM\" \n",
    "# os.environ.get(\"LS_API_KEY\")  # Get API KEY from environment.\n",
    "ls = LS(api_key=LS_API_KEY)\n",
    "\n",
    "result = ls.car_route(\n",
    "    origin=[52.51375, 13.42462],\n",
    "    destination=[52.52332, 13.42800],\n",
    "    return_results=[\n",
    "        ROUTING_RETURN.polyline,\n",
    "        ROUTING_RETURN.elevation,\n",
    "        ROUTING_RETURN.instructions,\n",
    "        ROUTING_RETURN.actions,\n",
    "    ],\n",
    ")\n",
    "geo_json = result.to_geojson()\n",
    "data = geo_json\n",
    "geo_layer = GeoJSON(data=data, style={\"lineWidth\": 5})\n",
    "\n",
    "m = Map(api_key=LS_API_KEY, center=[52.5207, 13.4283], zoom=14)\n",
    "origin_marker = Marker(lat=52.51375, lng=13.42462)\n",
    "dest_marker = Marker(lat=52.52332, lng=13.42800)\n",
    "m.add_layer(geo_layer)\n",
    "m.add_object(origin_marker)\n",
    "m.add_object(dest_marker)\n",
    "m"
   ]
  },
  {
   "cell_type": "markdown",
   "id": "23485ed5",
   "metadata": {
    "slideshow": {
     "slide_type": "notes"
    }
   },
   "source": [
    "Slide 15"
   ]
  },
  {
   "cell_type": "markdown",
   "id": "5a4df8da",
   "metadata": {
    "slideshow": {
     "slide_type": "slide"
    }
   },
   "source": [
    "## GeoJSON"
   ]
  },
  {
   "cell_type": "code",
   "execution_count": 13,
   "id": "c8be3aa2",
   "metadata": {
    "collapsed": true
   },
   "outputs": [
    {
     "name": "stdout",
     "output_type": "stream",
     "text": [
      "{\n",
      "  \"type\": \"FeatureCollection\",\n",
      "  \"features\": [\n",
      "    {\n",
      "      \"type\": \"Feature\",\n",
      "      \"geometry\": {\n",
      "        \"type\": \"LineString\",\n",
      "        \"coordinates\": [\n",
      "          [\n",
      "            13.424624,\n",
      "            52.513748,\n",
      "            76.0\n",
      "          ],\n",
      "          [\n",
      "            13.42473,\n",
      "            52.51383,\n",
      "            76.0\n",
      "          ],\n",
      "          [\n",
      "            13.42499,\n",
      "            52.51402,\n",
      "            76.0\n",
      "          ],\n",
      "          [\n",
      "            13.42522,\n",
      "            52.51422,\n",
      "            76.0\n",
      "          ],\n",
      "          [\n",
      "            13.42552,\n",
      "            52.51448,\n",
      "            76.0\n",
      "          ],\n",
      "          [\n",
      "            13.42568,\n",
      "            52.51466,\n",
      "            76.0\n",
      "          ],\n",
      "          [\n",
      "            13.42641,\n",
      "            52.51546,\n",
      "            76.0\n",
      "          ],\n",
      "          [\n",
      "            13.42675,\n",
      "            52.51584,\n",
      "            76.0\n",
      "          ],\n",
      "          [\n",
      "            13.4269,\n",
      "            52.51602,\n",
      "            77.0\n",
      "          ],\n",
      "          [\n",
      "            13.42704,\n",
      "            52.51619,\n",
      "            77.0\n",
      "          ],\n",
      "          [\n",
      "            13.4273,\n",
      "            52.51655,\n",
      "            77.0\n",
      "          ],\n",
      "          [\n",
      "            13.42745,\n",
      "            52.51678,\n",
      "            77.0\n",
      "          ],\n",
      "          [\n",
      "            13.42757,\n",
      "            52.51697,\n",
      "            77.0\n",
      "          ],\n",
      "          [\n",
      "            13.42767,\n",
      "            52.51715,\n",
      "            77.0\n",
      "          ],\n",
      "          [\n",
      "            13.42784,\n",
      "            52.51744,\n",
      "            77.0\n",
      "          ],\n",
      "          [\n",
      "            13.42795,\n",
      "            52.51765,\n",
      "            77.0\n",
      "          ],\n",
      "          [\n",
      "            13.42804,\n",
      "            52.5178,\n",
      "            77.0\n",
      "          ],\n",
      "          [\n",
      "            13.42812,\n",
      "            52.51791,\n",
      "            77.0\n",
      "          ],\n",
      "          [\n",
      "            13.42818,\n",
      "            52.51797,\n",
      "            77.0\n",
      "          ],\n",
      "          [\n",
      "            13.42827,\n",
      "            52.51804,\n",
      "            77.0\n",
      "          ],\n",
      "          [\n",
      "            13.42845,\n",
      "            52.51816,\n",
      "            77.0\n",
      "          ],\n",
      "          [\n",
      "            13.42856,\n",
      "            52.51816,\n",
      "            77.0\n",
      "          ],\n",
      "          [\n",
      "            13.42866,\n",
      "            52.51817,\n",
      "            77.0\n",
      "          ],\n",
      "          [\n",
      "            13.42877,\n",
      "            52.5182,\n",
      "            77.0\n",
      "          ],\n",
      "          [\n",
      "            13.42886,\n",
      "            52.51823,\n",
      "            77.0\n",
      "          ],\n",
      "          [\n",
      "            13.42894,\n",
      "            52.51828,\n",
      "            77.0\n",
      "          ],\n",
      "          [\n",
      "            13.429,\n",
      "            52.51835,\n",
      "            77.0\n",
      "          ],\n",
      "          [\n",
      "            13.42903,\n",
      "            52.51841,\n",
      "            77.0\n",
      "          ],\n",
      "          [\n",
      "            13.42904,\n",
      "            52.51849,\n",
      "            77.0\n",
      "          ],\n",
      "          [\n",
      "            13.42901,\n",
      "            52.51857,\n",
      "            77.0\n",
      "          ],\n",
      "          [\n",
      "            13.42896,\n",
      "            52.51863,\n",
      "            77.0\n",
      "          ],\n",
      "          [\n",
      "            13.42892,\n",
      "            52.51867,\n",
      "            77.0\n",
      "          ],\n",
      "          [\n",
      "            13.42886,\n",
      "            52.51873,\n",
      "            77.0\n",
      "          ],\n",
      "          [\n",
      "            13.42881,\n",
      "            52.51877,\n",
      "            77.0\n",
      "          ],\n",
      "          [\n",
      "            13.4287,\n",
      "            52.51882,\n",
      "            77.0\n",
      "          ],\n",
      "          [\n",
      "            13.42871,\n",
      "            52.519,\n",
      "            77.0\n",
      "          ],\n",
      "          [\n",
      "            13.42873,\n",
      "            52.51908,\n",
      "            77.0\n",
      "          ],\n",
      "          [\n",
      "            13.42876,\n",
      "            52.51917,\n",
      "            77.0\n",
      "          ],\n",
      "          [\n",
      "            13.42885,\n",
      "            52.51944,\n",
      "            78.0\n",
      "          ],\n",
      "          [\n",
      "            13.42888,\n",
      "            52.51951,\n",
      "            78.0\n",
      "          ],\n",
      "          [\n",
      "            13.42917,\n",
      "            52.52012,\n",
      "            78.0\n",
      "          ],\n",
      "          [\n",
      "            13.42953,\n",
      "            52.52084,\n",
      "            77.0\n",
      "          ],\n",
      "          [\n",
      "            13.42964,\n",
      "            52.52113,\n",
      "            77.0\n",
      "          ],\n",
      "          [\n",
      "            13.42967,\n",
      "            52.52125,\n",
      "            77.0\n",
      "          ],\n",
      "          [\n",
      "            13.42969,\n",
      "            52.52136,\n",
      "            77.0\n",
      "          ],\n",
      "          [\n",
      "            13.42985,\n",
      "            52.52258,\n",
      "            79.0\n",
      "          ],\n",
      "          [\n",
      "            13.42992,\n",
      "            52.52311,\n",
      "            79.0\n",
      "          ],\n",
      "          [\n",
      "            13.42993,\n",
      "            52.5232,\n",
      "            79.0\n",
      "          ],\n",
      "          [\n",
      "            13.42994,\n",
      "            52.52329,\n",
      "            79.0\n",
      "          ],\n",
      "          [\n",
      "            13.4296,\n",
      "            52.52327,\n",
      "            79.0\n",
      "          ],\n",
      "          [\n",
      "            13.42907,\n",
      "            52.52324,\n",
      "            79.0\n",
      "          ],\n",
      "          [\n",
      "            13.42842,\n",
      "            52.52323,\n",
      "            79.0\n",
      "          ],\n",
      "          [\n",
      "            13.428004,\n",
      "            52.523223,\n",
      "            78.0\n",
      "          ]\n",
      "        ]\n",
      "      },\n",
      "      \"properties\": {\n",
      "        \"id\": \"128dc639-9a1d-493a-bb72-c449ec0e0c37\",\n",
      "        \"type\": \"vehicle\",\n",
      "        \"actions\": [\n",
      "          {\n",
      "            \"action\": \"depart\",\n",
      "            \"duration\": 77,\n",
      "            \"length\": 561,\n",
      "            \"instruction\": \"Head northeast on Lichtenberger Stra\\u00dfe. Go for 561 m.\",\n",
      "            \"offset\": 0\n",
      "          },\n",
      "          {\n",
      "            \"action\": \"roundaboutExit\",\n",
      "            \"duration\": 51,\n",
      "            \"length\": 371,\n",
      "            \"instruction\": \"Take the 2nd exit from Strausberger Platz roundabout onto Lichtenberger Stra\\u00dfe. Go for 371 m.\",\n",
      "            \"offset\": 20,\n",
      "            \"direction\": \"right\",\n",
      "            \"exit\": 2\n",
      "          },\n",
      "          {\n",
      "            \"action\": \"continue\",\n",
      "            \"duration\": 29,\n",
      "            \"length\": 221,\n",
      "            \"instruction\": \"Continue on Platz der Vereinten Nationen. Go for 221 m.\",\n",
      "            \"offset\": 42\n",
      "          },\n",
      "          {\n",
      "            \"action\": \"turn\",\n",
      "            \"duration\": 29,\n",
      "            \"length\": 123,\n",
      "            \"instruction\": \"Turn left onto Platz der Vereinten Nationen toward Mitte. Go for 123 m.\",\n",
      "            \"offset\": 46,\n",
      "            \"direction\": \"left\",\n",
      "            \"severity\": \"quite\"\n",
      "          },\n",
      "          {\n",
      "            \"action\": \"continue\",\n",
      "            \"duration\": 4,\n",
      "            \"length\": 28,\n",
      "            \"instruction\": \"Continue on Mollstra\\u00dfe. Go for 28 m.\",\n",
      "            \"offset\": 51\n",
      "          },\n",
      "          {\n",
      "            \"action\": \"arrive\",\n",
      "            \"duration\": 0,\n",
      "            \"length\": 0,\n",
      "            \"instruction\": \"Arrive at Mollstra\\u00dfe. Your destination is on the right.\",\n",
      "            \"offset\": 52\n",
      "          }\n",
      "        ],\n",
      "        \"departure\": {\n",
      "          \"time\": \"2023-06-13T12:16:39+02:00\",\n",
      "          \"place\": {\n",
      "            \"type\": \"place\",\n",
      "            \"location\": {\n",
      "              \"lat\": 52.5137479,\n",
      "              \"lng\": 13.4246242,\n",
      "              \"elv\": 76.0\n",
      "            },\n",
      "            \"originalLocation\": {\n",
      "              \"lat\": 52.51375,\n",
      "              \"lng\": 13.42462\n",
      "            }\n",
      "          }\n",
      "        },\n",
      "        \"arrival\": {\n",
      "          \"time\": \"2023-06-13T12:19:49+02:00\",\n",
      "          \"place\": {\n",
      "            \"type\": \"place\",\n",
      "            \"location\": {\n",
      "              \"lat\": 52.5232228,\n",
      "              \"lng\": 13.4280044,\n",
      "              \"elv\": 78.0\n",
      "            },\n",
      "            \"originalLocation\": {\n",
      "              \"lat\": 52.5233199,\n",
      "              \"lng\": 13.428\n",
      "            }\n",
      "          }\n",
      "        },\n",
      "        \"polyline\": \"B2Fo9llkDg_rzZwvBkF0GA8LoQAwMsOAoQ4SAoLgKAgyB0tBA4XoVAoLsJU0K4IAwWoQAsOsJA8LwHAoLoGAkS0KAkN8GAsJ0FA8GgFA4D4DAsE0FAwHoLAA8GAUoGA8B8GA8B0FAkDgFAsE4DA4D8BAgFUAgF7BA4DjDAwCvCA4D3DAwCjDAkD7GAoLUAgFoBA0F8BA8Q0FUsE8BAkmBkSAgtBwWTkS8GAwH8BA8GoBAosCgKoBkhBsEA0FUA0FUAnBnVA7BjhBATzoBAN_ZT\",\n",
      "        \"language\": \"en-us\",\n",
      "        \"transport\": {\n",
      "          \"mode\": \"car\"\n",
      "        },\n",
      "        \"style\": {\n",
      "          \"lineWidth\": 5\n",
      "        }\n",
      "      }\n",
      "    }\n",
      "  ]\n",
      "}\n"
     ]
    }
   ],
   "source": [
    "import json\n",
    "output = json.dumps(data, indent=2)\n",
    "line_list = output.split(\"\\n\")  \n",
    "for line in line_list:\n",
    "    print(line)"
   ]
  },
  {
   "cell_type": "markdown",
   "id": "0b22fc86",
   "metadata": {
    "slideshow": {
     "slide_type": "notes"
    }
   },
   "source": [
    "Slide 15"
   ]
  },
  {
   "cell_type": "markdown",
   "id": "28df3ab6",
   "metadata": {
    "slideshow": {
     "slide_type": "slide"
    }
   },
   "source": [
    "## GeoPandas\n",
    "### Pandas and Numpy backend -> Fast\n",
    "### Polygones to represent shaped areas \n",
    "### Native functions like distances and overlapping included"
   ]
  }
 ],
 "metadata": {
  "celltoolbar": "Slideshow",
  "kernelspec": {
   "display_name": "Python 3 (ipykernel)",
   "language": "python",
   "name": "python3"
  },
  "language_info": {
   "codemirror_mode": {
    "name": "ipython",
    "version": 3
   },
   "file_extension": ".py",
   "mimetype": "text/x-python",
   "name": "python",
   "nbconvert_exporter": "python",
   "pygments_lexer": "ipython3",
   "version": "3.11.3"
  }
 },
 "nbformat": 4,
 "nbformat_minor": 5
}
